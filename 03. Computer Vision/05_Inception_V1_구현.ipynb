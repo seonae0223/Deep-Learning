{
  "nbformat": 4,
  "nbformat_minor": 0,
  "metadata": {
    "colab": {
      "provenance": [],
      "include_colab_link": true
    },
    "kernelspec": {
      "name": "python3",
      "display_name": "Python 3"
    },
    "language_info": {
      "name": "python"
    }
  },
  "cells": [
    {
      "cell_type": "markdown",
      "metadata": {
        "id": "view-in-github",
        "colab_type": "text"
      },
      "source": [
        "<a href=\"https://colab.research.google.com/github/seonae0223/Deep_Learning/blob/main/05_Inception_V1_%EA%B5%AC%ED%98%84.ipynb\" target=\"_parent\"><img src=\"https://colab.research.google.com/assets/colab-badge.svg\" alt=\"Open In Colab\"/></a>"
      ]
    },
    {
      "cell_type": "code",
      "execution_count": null,
      "metadata": {
        "id": "NtK4WjRUPo7B"
      },
      "outputs": [],
      "source": [
        "import torch\n",
        "import torchvision\n",
        "import torchvision.transforms as transforms\n",
        "import torch.nn as nn\n",
        "import torch.optim as optim\n",
        "from torchvision import models"
      ]
    },
    {
      "cell_type": "code",
      "source": [
        "# CIFAR-10 데이터셋의 변환 설정\n",
        "transform = transforms.Compose(\n",
        "    [transforms.Resize((224, 224)),  # VGG16은 224x224 입력을 기대합니다.\n",
        "     transforms.ToTensor(),\n",
        "     transforms.Normalize((0.485, 0.456, 0.406),(0.229, 0.224, 0.225))])\n",
        "\n",
        "# 학습 및 테스트 데이터셋 로드\n",
        "trainset = torchvision.datasets.CIFAR10(root='./data', train=True,\n",
        "                                        download=True, transform=transform)\n",
        "trainloader = torch.utils.data.DataLoader(trainset, batch_size=32,\n",
        "                                          shuffle=True, num_workers=2)\n",
        "\n",
        "testset = torchvision.datasets.CIFAR10(root='./data', train=False,\n",
        "                                       download=True, transform=transform)\n",
        "testloader = torch.utils.data.DataLoader(testset, batch_size=32,\n",
        "                                         shuffle=False, num_workers=2)\n"
      ],
      "metadata": {
        "colab": {
          "base_uri": "https://localhost:8080/"
        },
        "id": "1PifGyDcPuT5",
        "outputId": "85f71e05-4e62-4278-c76c-f562124ebfd5"
      },
      "execution_count": null,
      "outputs": [
        {
          "output_type": "stream",
          "name": "stdout",
          "text": [
            "Files already downloaded and verified\n",
            "Files already downloaded and verified\n"
          ]
        }
      ]
    },
    {
      "cell_type": "markdown",
      "source": [
        "# 모듈 구현"
      ],
      "metadata": {
        "id": "rfiyp6ssQjkz"
      }
    },
    {
      "cell_type": "code",
      "source": [
        "# BasicConv2d 구현\n",
        "#   Inception 모듈로 들어가기 전 까지\n",
        "class BasicConv2d(nn.Module):\n",
        "\n",
        "  def __init__(self, in_channels, out_channels, **kwargs):\n",
        "    super().__init__()\n",
        "\n",
        "    self.conv_block = nn.Sequential(\n",
        "        nn.Conv2d(in_channels=in_channels, out_channels=out_channels, bias=False, **kwargs), # **{ a : 1, b : 2} -> a=1, b=2\n",
        "        nn.BatchNorm2d(out_channels, eps=0.001),\n",
        "        nn.ReLU()\n",
        "    )\n",
        "\n",
        "  def forward(self, x):\n",
        "    x = self.conv_block(x)\n",
        "    return x"
      ],
      "metadata": {
        "id": "-qqBbh9RPvLz"
      },
      "execution_count": null,
      "outputs": []
    },
    {
      "cell_type": "code",
      "source": [
        "# Inception 모듈 구현\n",
        "class Inception(nn.Module):\n",
        "\n",
        "  def __init__(self, in_channels, # 공통적으로 필요한 입력 특징 맵의 채널\n",
        "                     ch1x1,  # 1x1 Conv의 필터 개수\n",
        "                     ch3x3_bottleneck, # 3x3 Conv를 하기 전의 BottleNeck 채널 수(필터 개수)\n",
        "                     ch3x3, # 3x3 Conv의 필터 개수\n",
        "                     ch5x5_bottleneck, # 5x5 Conv를 하기 전의 BottleNeck 채널 수(필터 개수)\n",
        "                     ch5x5, # 5x5 Conv의 필터 개수\n",
        "                     pool_proj # MaxPooling의 결과물을 1x1 Conv할 때의 채널 수\n",
        "               ):\n",
        "    super().__init__()\n",
        "\n",
        "    self.branch1 = BasicConv2d(in_channels, ch1x1, kernel_size=1)\n",
        "\n",
        "    self.branch2 = nn.Sequential(\n",
        "        BasicConv2d(in_channels, ch3x3_bottleneck, kernel_size=1),\n",
        "        BasicConv2d(ch3x3_bottleneck, ch3x3, kernel_size=3, padding=1)\n",
        "    )\n",
        "\n",
        "    self.branch3 = nn.Sequential(\n",
        "        BasicConv2d(in_channels, ch5x5_bottleneck, kernel_size=1),\n",
        "        BasicConv2d(ch5x5_bottleneck, ch5x5, kernel_size=5, padding=2)\n",
        "    )\n",
        "\n",
        "    self.branch4 = nn.Sequential(\n",
        "        nn.MaxPool2d(kernel_size=3, stride=1, padding=1),\n",
        "        BasicConv2d(in_channels, pool_proj, kernel_size=1)\n",
        "    )\n",
        "\n",
        "  def forward(self, x):\n",
        "    branch1_out = self.branch1(x) #(N, ch1x1, H_out, W_out)\n",
        "    branch2_out = self.branch2(x) #(N, ch3x3, H_out, W_out)\n",
        "    branch3_out = self.branch3(x) #(N, ch4x4, H_out, W_out)\n",
        "    branch4_out = self.branch4(x) #(N, pool_proj, H_out, W_out)\n",
        "\n",
        "    # dim=1로 설정해서 채널 방향으로 Output Feature Map을 이어준다.\n",
        "    outputs = torch.cat([branch1_out, branch2_out, branch3_out, branch4_out], dim=1)\n",
        "\n",
        "    return outputs"
      ],
      "metadata": {
        "id": "M85uLkoYTzCj"
      },
      "execution_count": null,
      "outputs": []
    },
    {
      "cell_type": "code",
      "source": [
        "# 보조 분류기(Aux Classifier) 모듈\n",
        "class InceptionAux(nn.Module):\n",
        "\n",
        "  def __init__(self, in_channels, num_classes, dropout_p=0.7):\n",
        "    super().__init__()\n",
        "\n",
        "    # Feature Extraction\n",
        "    self.avgpool = nn.AvgPool2d(kernel_size=5, stride=3)\n",
        "    self.conv = BasicConv2d(in_channels=in_channels, out_channels=128, kernel_size=1)\n",
        "\n",
        "    # FCL\n",
        "    # Hidden Layer\n",
        "    self.fc1 = nn.Linear(2048, 1024)\n",
        "    self.activation = nn.ReLU()\n",
        "    self.dropout = nn.Dropout(p=dropout_p)\n",
        "\n",
        "    # Output Layer\n",
        "    self.fc2 = nn.Linear(1024, num_classes)\n",
        "\n",
        "  def forward(self, x):\n",
        "    # aux1 : N x 512 x 14 x 14, aux2 : N x 528 x 14 x 14\n",
        "    x = self.avgpool(x)\n",
        "\n",
        "    # aux1 : N x 512 x 4 x 4, aux2 : N x 528 x 4 x 4\n",
        "    x = self.conv(x)\n",
        "\n",
        "    # N x 128 x 4 x 4\n",
        "    x = torch.flatten(x, 1)\n",
        "\n",
        "    # N x 2048\n",
        "    x = self.fc1(x)\n",
        "    x = self.activation(x)\n",
        "    x = self.dropout(x)\n",
        "\n",
        "    # N x 1024\n",
        "    y = self.fc2(x)\n",
        "\n",
        "    # N x num_classes\n",
        "    return y"
      ],
      "metadata": {
        "id": "ZzJuI_2zq5_3"
      },
      "execution_count": null,
      "outputs": []
    },
    {
      "cell_type": "markdown",
      "source": [
        "# 모델 구현"
      ],
      "metadata": {
        "id": "lcLddi6tvm1Q"
      }
    },
    {
      "cell_type": "code",
      "source": [
        "class Inception_V1(nn.Module):\n",
        "\n",
        "  def __init__(self, num_classes=1000, use_aux=True, init_weights=None, drop_p=0.4, drop_p_aux=0.7):\n",
        "    super().__init__()\n",
        "\n",
        "    self.use_aux = use_aux\n",
        "\n",
        "    # Inception Module에 들어가기 전 작업\n",
        "    self.conv1 = BasicConv2d(in_channels=3, out_channels=64, kernel_size=7, stride=2, padding=3)\n",
        "    self.maxpool1 = nn.MaxPool2d(3, stride=2, padding=1)\n",
        "\n",
        "    self.conv2_bottleneck = BasicConv2d(64, 64, kernel_size=1)\n",
        "    self.conv2 = BasicConv2d(64, 192, kernel_size=3, padding=1)\n",
        "    self.maxpool2 = nn.MaxPool2d(3, stride=2, padding=1)\n",
        "\n",
        "    # Incpetion 정의\n",
        "    self.inception_3a = Inception(192, 64, 96, 128, 16, 32, 32)\n",
        "    self.inception_3b = Inception(256, 128, 128, 192, 32, 96, 64)\n",
        "    self.maxpool3 = nn.MaxPool2d(3, stride=2, padding=1)\n",
        "\n",
        "    self.inception_4a = Inception(480, 192, 96, 208, 16, 48, 64)\n",
        "    self.inception_4b = Inception(512, 160, 112, 224, 24, 64, 64)\n",
        "    self.inception_4c = Inception(512, 128, 128, 256, 24, 64, 64)\n",
        "    self.inception_4d = Inception(512, 112, 144, 288, 32, 64, 64)\n",
        "    self.inception_4e = Inception(528, 256, 160, 320, 32, 128, 128)\n",
        "\n",
        "    self.maxpool4 = nn.MaxPool2d(3, stride=2, padding=1)\n",
        "    self.inception_5a = Inception(832, 256, 160, 320, 32, 128, 128)\n",
        "    self.inception_5b = Inception(832, 384, 192, 384, 48, 128, 128)\n",
        "\n",
        "    # Aux Classifier\n",
        "    if use_aux:\n",
        "      self.aux1 = InceptionAux(512, num_classes, dropout_p=drop_p_aux)\n",
        "      self.aux2 = InceptionAux(528, num_classes, dropout_p=drop_p_aux)\n",
        "    else:\n",
        "      self.aux1 = None\n",
        "      self.aux2 = None\n",
        "\n",
        "    self.avgpool = nn.AdaptiveAvgPool2d((1, 1)) # Global Average Pooling. 평탄화를 위해\n",
        "    self.dropout = nn.Dropout(p=drop_p)\n",
        "    self.fc = nn.Linear(1024, num_classes)\n",
        "\n",
        "  def forward(self, x):\n",
        "    # N x 3 x 224 x 224\n",
        "    x = self.conv1(x)\n",
        "    # N x 64 x 112 x 112\n",
        "    x = self.maxpool1(x)\n",
        "    # N x 64 x 56 x 56\n",
        "    x = self.conv2_bottleneck(x)\n",
        "    # N x 64 x 56 x 56\n",
        "    x = self.conv2(x)\n",
        "    # N x 192 x 56 x 56\n",
        "    x = self.maxpool2(x)\n",
        "\n",
        "    # N x 192 x 28 x 28\n",
        "    x = self.inception_3a(x)\n",
        "    # N x 256 x 28 x 28\n",
        "    x = self.inception_3b(x)\n",
        "    # N x 480 x 28 x 28\n",
        "    x = self.maxpool3(x)\n",
        "    # N x 480 x 14 x 14\n",
        "    x = self.inception_4a(x)\n",
        "    # N x 512 x 14 x 14\n",
        "    if self.aux1 is not None and self.training:\n",
        "        aux1 = self.aux1(x)\n",
        "    else:\n",
        "        aux1 = None  # 뭐라도 넣어놔야 not defined error 안 뜸\n",
        "\n",
        "    x = self.inception_4b(x)\n",
        "    # N x 512 x 14 x 14\n",
        "    x = self.inception_4c(x)\n",
        "    # N x 512 x 14 x 14\n",
        "    x = self.inception_4d(x)\n",
        "    # N x 528 x 14 x 14\n",
        "    if self.aux2 is not None and self.training:\n",
        "        aux2 = self.aux2(x)\n",
        "    else:\n",
        "        aux2 = None\n",
        "\n",
        "    x = self.inception_4e(x)\n",
        "    # N x 832 x 14 x 14\n",
        "    x = self.maxpool4(x)\n",
        "    # N x 832 x 7 x 7\n",
        "    x = self.inception_5a(x)\n",
        "    # N x 832 x 7 x 7\n",
        "    x = self.inception_5b(x)\n",
        "    # N x 1024 x 7 x 7\n",
        "\n",
        "    x = self.avgpool(x)\n",
        "    # N x 1024 x 1 x 1\n",
        "    x = torch.flatten(x, 1)\n",
        "    # N x 1024\n",
        "    x = self.dropout(x)\n",
        "    x = self.fc(x)\n",
        "    # N x 1000 (num_classes)\n",
        "\n",
        "    return x, aux2, aux1"
      ],
      "metadata": {
        "id": "e2KCnlD3vmWz"
      },
      "execution_count": null,
      "outputs": []
    },
    {
      "cell_type": "code",
      "source": [
        "model = Inception_V1()"
      ],
      "metadata": {
        "id": "6L75JHcNv6ss"
      },
      "execution_count": null,
      "outputs": []
    },
    {
      "cell_type": "code",
      "source": [
        "! pip install torchinfo"
      ],
      "metadata": {
        "colab": {
          "base_uri": "https://localhost:8080/"
        },
        "id": "Mebt2Ggq84N9",
        "outputId": "1ecafbb1-06ed-4a01-e824-59beb538d3d2"
      },
      "execution_count": null,
      "outputs": [
        {
          "output_type": "stream",
          "name": "stdout",
          "text": [
            "Requirement already satisfied: torchinfo in /usr/local/lib/python3.10/dist-packages (1.8.0)\n"
          ]
        }
      ]
    },
    {
      "cell_type": "code",
      "source": [
        "from torchinfo import summary\n",
        "summary(model, (1, 3, 224, 224), device='cpu')"
      ],
      "metadata": {
        "colab": {
          "base_uri": "https://localhost:8080/"
        },
        "id": "hoDyxEY08lsS",
        "outputId": "f264a60b-d289-4cc5-86cc-3f30b641b2de"
      },
      "execution_count": null,
      "outputs": [
        {
          "output_type": "execute_result",
          "data": {
            "text/plain": [
              "===============================================================================================\n",
              "Layer (type:depth-idx)                        Output Shape              Param #\n",
              "===============================================================================================\n",
              "Inception_V1                                  [1, 1000]                 6,379,984\n",
              "├─BasicConv2d: 1-1                            [1, 64, 112, 112]         --\n",
              "│    └─Sequential: 2-1                        [1, 64, 112, 112]         --\n",
              "│    │    └─Conv2d: 3-1                       [1, 64, 112, 112]         9,408\n",
              "│    │    └─BatchNorm2d: 3-2                  [1, 64, 112, 112]         128\n",
              "│    │    └─ReLU: 3-3                         [1, 64, 112, 112]         --\n",
              "├─MaxPool2d: 1-2                              [1, 64, 56, 56]           --\n",
              "├─BasicConv2d: 1-3                            [1, 64, 56, 56]           --\n",
              "│    └─Sequential: 2-2                        [1, 64, 56, 56]           --\n",
              "│    │    └─Conv2d: 3-4                       [1, 64, 56, 56]           4,096\n",
              "│    │    └─BatchNorm2d: 3-5                  [1, 64, 56, 56]           128\n",
              "│    │    └─ReLU: 3-6                         [1, 64, 56, 56]           --\n",
              "├─BasicConv2d: 1-4                            [1, 192, 56, 56]          --\n",
              "│    └─Sequential: 2-3                        [1, 192, 56, 56]          --\n",
              "│    │    └─Conv2d: 3-7                       [1, 192, 56, 56]          110,592\n",
              "│    │    └─BatchNorm2d: 3-8                  [1, 192, 56, 56]          384\n",
              "│    │    └─ReLU: 3-9                         [1, 192, 56, 56]          --\n",
              "├─MaxPool2d: 1-5                              [1, 192, 28, 28]          --\n",
              "├─Inception: 1-6                              [1, 256, 28, 28]          --\n",
              "│    └─BasicConv2d: 2-4                       [1, 64, 28, 28]           --\n",
              "│    │    └─Sequential: 3-10                  [1, 64, 28, 28]           12,416\n",
              "│    └─Sequential: 2-5                        [1, 128, 28, 28]          --\n",
              "│    │    └─BasicConv2d: 3-11                 [1, 96, 28, 28]           18,624\n",
              "│    │    └─BasicConv2d: 3-12                 [1, 128, 28, 28]          110,848\n",
              "│    └─Sequential: 2-6                        [1, 32, 28, 28]           --\n",
              "│    │    └─BasicConv2d: 3-13                 [1, 16, 28, 28]           3,104\n",
              "│    │    └─BasicConv2d: 3-14                 [1, 32, 28, 28]           12,864\n",
              "│    └─Sequential: 2-7                        [1, 32, 28, 28]           --\n",
              "│    │    └─MaxPool2d: 3-15                   [1, 192, 28, 28]          --\n",
              "│    │    └─BasicConv2d: 3-16                 [1, 32, 28, 28]           6,208\n",
              "├─Inception: 1-7                              [1, 480, 28, 28]          --\n",
              "│    └─BasicConv2d: 2-8                       [1, 128, 28, 28]          --\n",
              "│    │    └─Sequential: 3-17                  [1, 128, 28, 28]          33,024\n",
              "│    └─Sequential: 2-9                        [1, 192, 28, 28]          --\n",
              "│    │    └─BasicConv2d: 3-18                 [1, 128, 28, 28]          33,024\n",
              "│    │    └─BasicConv2d: 3-19                 [1, 192, 28, 28]          221,568\n",
              "│    └─Sequential: 2-10                       [1, 96, 28, 28]           --\n",
              "│    │    └─BasicConv2d: 3-20                 [1, 32, 28, 28]           8,256\n",
              "│    │    └─BasicConv2d: 3-21                 [1, 96, 28, 28]           76,992\n",
              "│    └─Sequential: 2-11                       [1, 64, 28, 28]           --\n",
              "│    │    └─MaxPool2d: 3-22                   [1, 256, 28, 28]          --\n",
              "│    │    └─BasicConv2d: 3-23                 [1, 64, 28, 28]           16,512\n",
              "├─MaxPool2d: 1-8                              [1, 480, 14, 14]          --\n",
              "├─Inception: 1-9                              [1, 512, 14, 14]          --\n",
              "│    └─BasicConv2d: 2-12                      [1, 192, 14, 14]          --\n",
              "│    │    └─Sequential: 3-24                  [1, 192, 14, 14]          92,544\n",
              "│    └─Sequential: 2-13                       [1, 208, 14, 14]          --\n",
              "│    │    └─BasicConv2d: 3-25                 [1, 96, 14, 14]           46,272\n",
              "│    │    └─BasicConv2d: 3-26                 [1, 208, 14, 14]          180,128\n",
              "│    └─Sequential: 2-14                       [1, 48, 14, 14]           --\n",
              "│    │    └─BasicConv2d: 3-27                 [1, 16, 14, 14]           7,712\n",
              "│    │    └─BasicConv2d: 3-28                 [1, 48, 14, 14]           19,296\n",
              "│    └─Sequential: 2-15                       [1, 64, 14, 14]           --\n",
              "│    │    └─MaxPool2d: 3-29                   [1, 480, 14, 14]          --\n",
              "│    │    └─BasicConv2d: 3-30                 [1, 64, 14, 14]           30,848\n",
              "├─Inception: 1-10                             [1, 512, 14, 14]          --\n",
              "│    └─BasicConv2d: 2-16                      [1, 160, 14, 14]          --\n",
              "│    │    └─Sequential: 3-31                  [1, 160, 14, 14]          82,240\n",
              "│    └─Sequential: 2-17                       [1, 224, 14, 14]          --\n",
              "│    │    └─BasicConv2d: 3-32                 [1, 112, 14, 14]          57,568\n",
              "│    │    └─BasicConv2d: 3-33                 [1, 224, 14, 14]          226,240\n",
              "│    └─Sequential: 2-18                       [1, 64, 14, 14]           --\n",
              "│    │    └─BasicConv2d: 3-34                 [1, 24, 14, 14]           12,336\n",
              "│    │    └─BasicConv2d: 3-35                 [1, 64, 14, 14]           38,528\n",
              "│    └─Sequential: 2-19                       [1, 64, 14, 14]           --\n",
              "│    │    └─MaxPool2d: 3-36                   [1, 512, 14, 14]          --\n",
              "│    │    └─BasicConv2d: 3-37                 [1, 64, 14, 14]           32,896\n",
              "├─Inception: 1-11                             [1, 512, 14, 14]          --\n",
              "│    └─BasicConv2d: 2-20                      [1, 128, 14, 14]          --\n",
              "│    │    └─Sequential: 3-38                  [1, 128, 14, 14]          65,792\n",
              "│    └─Sequential: 2-21                       [1, 256, 14, 14]          --\n",
              "│    │    └─BasicConv2d: 3-39                 [1, 128, 14, 14]          65,792\n",
              "│    │    └─BasicConv2d: 3-40                 [1, 256, 14, 14]          295,424\n",
              "│    └─Sequential: 2-22                       [1, 64, 14, 14]           --\n",
              "│    │    └─BasicConv2d: 3-41                 [1, 24, 14, 14]           12,336\n",
              "│    │    └─BasicConv2d: 3-42                 [1, 64, 14, 14]           38,528\n",
              "│    └─Sequential: 2-23                       [1, 64, 14, 14]           --\n",
              "│    │    └─MaxPool2d: 3-43                   [1, 512, 14, 14]          --\n",
              "│    │    └─BasicConv2d: 3-44                 [1, 64, 14, 14]           32,896\n",
              "├─Inception: 1-12                             [1, 528, 14, 14]          --\n",
              "│    └─BasicConv2d: 2-24                      [1, 112, 14, 14]          --\n",
              "│    │    └─Sequential: 3-45                  [1, 112, 14, 14]          57,568\n",
              "│    └─Sequential: 2-25                       [1, 288, 14, 14]          --\n",
              "│    │    └─BasicConv2d: 3-46                 [1, 144, 14, 14]          74,016\n",
              "│    │    └─BasicConv2d: 3-47                 [1, 288, 14, 14]          373,824\n",
              "│    └─Sequential: 2-26                       [1, 64, 14, 14]           --\n",
              "│    │    └─BasicConv2d: 3-48                 [1, 32, 14, 14]           16,448\n",
              "│    │    └─BasicConv2d: 3-49                 [1, 64, 14, 14]           51,328\n",
              "│    └─Sequential: 2-27                       [1, 64, 14, 14]           --\n",
              "│    │    └─MaxPool2d: 3-50                   [1, 512, 14, 14]          --\n",
              "│    │    └─BasicConv2d: 3-51                 [1, 64, 14, 14]           32,896\n",
              "├─Inception: 1-13                             [1, 832, 14, 14]          --\n",
              "│    └─BasicConv2d: 2-28                      [1, 256, 14, 14]          --\n",
              "│    │    └─Sequential: 3-52                  [1, 256, 14, 14]          135,680\n",
              "│    └─Sequential: 2-29                       [1, 320, 14, 14]          --\n",
              "│    │    └─BasicConv2d: 3-53                 [1, 160, 14, 14]          84,800\n",
              "│    │    └─BasicConv2d: 3-54                 [1, 320, 14, 14]          461,440\n",
              "│    └─Sequential: 2-30                       [1, 128, 14, 14]          --\n",
              "│    │    └─BasicConv2d: 3-55                 [1, 32, 14, 14]           16,960\n",
              "│    │    └─BasicConv2d: 3-56                 [1, 128, 14, 14]          102,656\n",
              "│    └─Sequential: 2-31                       [1, 128, 14, 14]          --\n",
              "│    │    └─MaxPool2d: 3-57                   [1, 528, 14, 14]          --\n",
              "│    │    └─BasicConv2d: 3-58                 [1, 128, 14, 14]          67,840\n",
              "├─MaxPool2d: 1-14                             [1, 832, 7, 7]            --\n",
              "├─Inception: 1-15                             [1, 832, 7, 7]            --\n",
              "│    └─BasicConv2d: 2-32                      [1, 256, 7, 7]            --\n",
              "│    │    └─Sequential: 3-59                  [1, 256, 7, 7]            213,504\n",
              "│    └─Sequential: 2-33                       [1, 320, 7, 7]            --\n",
              "│    │    └─BasicConv2d: 3-60                 [1, 160, 7, 7]            133,440\n",
              "│    │    └─BasicConv2d: 3-61                 [1, 320, 7, 7]            461,440\n",
              "│    └─Sequential: 2-34                       [1, 128, 7, 7]            --\n",
              "│    │    └─BasicConv2d: 3-62                 [1, 32, 7, 7]             26,688\n",
              "│    │    └─BasicConv2d: 3-63                 [1, 128, 7, 7]            102,656\n",
              "│    └─Sequential: 2-35                       [1, 128, 7, 7]            --\n",
              "│    │    └─MaxPool2d: 3-64                   [1, 832, 7, 7]            --\n",
              "│    │    └─BasicConv2d: 3-65                 [1, 128, 7, 7]            106,752\n",
              "├─Inception: 1-16                             [1, 1024, 7, 7]           --\n",
              "│    └─BasicConv2d: 2-36                      [1, 384, 7, 7]            --\n",
              "│    │    └─Sequential: 3-66                  [1, 384, 7, 7]            320,256\n",
              "│    └─Sequential: 2-37                       [1, 384, 7, 7]            --\n",
              "│    │    └─BasicConv2d: 3-67                 [1, 192, 7, 7]            160,128\n",
              "│    │    └─BasicConv2d: 3-68                 [1, 384, 7, 7]            664,320\n",
              "│    └─Sequential: 2-38                       [1, 128, 7, 7]            --\n",
              "│    │    └─BasicConv2d: 3-69                 [1, 48, 7, 7]             40,032\n",
              "│    │    └─BasicConv2d: 3-70                 [1, 128, 7, 7]            153,856\n",
              "│    └─Sequential: 2-39                       [1, 128, 7, 7]            --\n",
              "│    │    └─MaxPool2d: 3-71                   [1, 832, 7, 7]            --\n",
              "│    │    └─BasicConv2d: 3-72                 [1, 128, 7, 7]            106,752\n",
              "├─AdaptiveAvgPool2d: 1-17                     [1, 1024, 1, 1]           --\n",
              "├─Dropout: 1-18                               [1, 1024]                 --\n",
              "├─Linear: 1-19                                [1, 1000]                 1,025,000\n",
              "===============================================================================================\n",
              "Total params: 13,385,816\n",
              "Trainable params: 13,385,816\n",
              "Non-trainable params: 0\n",
              "Total mult-adds (G): 1.58\n",
              "===============================================================================================\n",
              "Input size (MB): 0.60\n",
              "Forward/backward pass size (MB): 51.63\n",
              "Params size (MB): 28.02\n",
              "Estimated Total Size (MB): 80.25\n",
              "==============================================================================================="
            ]
          },
          "metadata": {},
          "execution_count": 30
        }
      ]
    },
    {
      "cell_type": "code",
      "source": [
        "# 랜덤하게 테스트 데이터 만들기\n",
        "test_x = torch.randn(64, 3, 224, 224)"
      ],
      "metadata": {
        "id": "g_cX_RSZ8608"
      },
      "execution_count": null,
      "outputs": []
    },
    {
      "cell_type": "code",
      "source": [
        "# 훈련 모드일 때는 aux classifer가 작동\n",
        "model.train()\n",
        "pred, aux2, aux1 = model(test_x)\n",
        "\n",
        "print(pred.shape)\n",
        "print(aux2.shape)\n",
        "print(aux1.shape)"
      ],
      "metadata": {
        "colab": {
          "base_uri": "https://localhost:8080/"
        },
        "id": "cCCKZbZw9_-Z",
        "outputId": "20d3f801-e0b6-45a8-fe8b-7584cf402bef"
      },
      "execution_count": null,
      "outputs": [
        {
          "output_type": "stream",
          "name": "stdout",
          "text": [
            "torch.Size([64, 1000])\n",
            "torch.Size([64, 1000])\n",
            "torch.Size([64, 1000])\n"
          ]
        }
      ]
    },
    {
      "cell_type": "code",
      "source": [
        "# 테스트 모드일 때는 aux classifier가 작동 안함\n",
        "model.eval()\n",
        "\n",
        "pred, aux2, aux1 = model(test_x)\n",
        "\n",
        "print(pred.shape)\n",
        "print(aux2)\n",
        "print(aux1)"
      ],
      "metadata": {
        "colab": {
          "base_uri": "https://localhost:8080/"
        },
        "id": "55sMYiNe-BX5",
        "outputId": "ae48d8c5-042e-46fe-f13f-748c829b2f62"
      },
      "execution_count": null,
      "outputs": [
        {
          "output_type": "stream",
          "name": "stdout",
          "text": [
            "torch.Size([64, 1000])\n",
            "None\n",
            "None\n"
          ]
        }
      ]
    },
    {
      "cell_type": "code",
      "source": [],
      "metadata": {
        "id": "YV0Tz-mC-Crv"
      },
      "execution_count": null,
      "outputs": []
    }
  ]
}