{
  "nbformat": 4,
  "nbformat_minor": 0,
  "metadata": {
    "colab": {
      "provenance": [],
      "gpuType": "T4",
      "toc_visible": true,
      "include_colab_link": true
    },
    "kernelspec": {
      "name": "python3",
      "display_name": "Python 3"
    },
    "language_info": {
      "name": "python"
    },
    "accelerator": "GPU"
  },
  "cells": [
    {
      "cell_type": "markdown",
      "metadata": {
        "id": "view-in-github",
        "colab_type": "text"
      },
      "source": [
        "<a href=\"https://colab.research.google.com/github/seonae0223/Deep_Learning/blob/main/03_MNIST_%ED%9D%91%EB%B0%B1_%EC%9D%B4%EB%AF%B8%EC%A7%80_%EB%B6%84%EB%A5%98_%EB%AA%A8%EB%8D%B8%EB%A7%81.ipynb\" target=\"_parent\"><img src=\"https://colab.research.google.com/assets/colab-badge.svg\" alt=\"Open In Colab\"/></a>"
      ]
    },
    {
      "cell_type": "code",
      "execution_count": null,
      "metadata": {
        "id": "glW_BzChtiCr",
        "colab": {
          "base_uri": "https://localhost:8080/"
        },
        "outputId": "b7a25d3e-b46c-4911-faa1-9b606867823a"
      },
      "outputs": [
        {
          "output_type": "stream",
          "name": "stdout",
          "text": [
            "Downloading http://yann.lecun.com/exdb/mnist/train-images-idx3-ubyte.gz\n",
            "Failed to download (trying next):\n",
            "HTTP Error 403: Forbidden\n",
            "\n",
            "Downloading https://ossci-datasets.s3.amazonaws.com/mnist/train-images-idx3-ubyte.gz\n",
            "Downloading https://ossci-datasets.s3.amazonaws.com/mnist/train-images-idx3-ubyte.gz to data/MNIST/raw/train-images-idx3-ubyte.gz\n"
          ]
        },
        {
          "output_type": "stream",
          "name": "stderr",
          "text": [
            "100%|██████████| 9912422/9912422 [00:00<00:00, 16086359.64it/s]\n"
          ]
        },
        {
          "output_type": "stream",
          "name": "stdout",
          "text": [
            "Extracting data/MNIST/raw/train-images-idx3-ubyte.gz to data/MNIST/raw\n",
            "\n",
            "Downloading http://yann.lecun.com/exdb/mnist/train-labels-idx1-ubyte.gz\n",
            "Failed to download (trying next):\n",
            "HTTP Error 403: Forbidden\n",
            "\n",
            "Downloading https://ossci-datasets.s3.amazonaws.com/mnist/train-labels-idx1-ubyte.gz\n",
            "Downloading https://ossci-datasets.s3.amazonaws.com/mnist/train-labels-idx1-ubyte.gz to data/MNIST/raw/train-labels-idx1-ubyte.gz\n"
          ]
        },
        {
          "output_type": "stream",
          "name": "stderr",
          "text": [
            "100%|██████████| 28881/28881 [00:00<00:00, 495179.23it/s]\n"
          ]
        },
        {
          "output_type": "stream",
          "name": "stdout",
          "text": [
            "Extracting data/MNIST/raw/train-labels-idx1-ubyte.gz to data/MNIST/raw\n",
            "\n",
            "Downloading http://yann.lecun.com/exdb/mnist/t10k-images-idx3-ubyte.gz\n",
            "Failed to download (trying next):\n",
            "HTTP Error 403: Forbidden\n",
            "\n",
            "Downloading https://ossci-datasets.s3.amazonaws.com/mnist/t10k-images-idx3-ubyte.gz\n",
            "Downloading https://ossci-datasets.s3.amazonaws.com/mnist/t10k-images-idx3-ubyte.gz to data/MNIST/raw/t10k-images-idx3-ubyte.gz\n"
          ]
        },
        {
          "output_type": "stream",
          "name": "stderr",
          "text": [
            "100%|██████████| 1648877/1648877 [00:01<00:00, 924934.35it/s] \n"
          ]
        },
        {
          "output_type": "stream",
          "name": "stdout",
          "text": [
            "Extracting data/MNIST/raw/t10k-images-idx3-ubyte.gz to data/MNIST/raw\n",
            "\n",
            "Downloading http://yann.lecun.com/exdb/mnist/t10k-labels-idx1-ubyte.gz\n",
            "Failed to download (trying next):\n",
            "HTTP Error 403: Forbidden\n",
            "\n",
            "Downloading https://ossci-datasets.s3.amazonaws.com/mnist/t10k-labels-idx1-ubyte.gz\n",
            "Downloading https://ossci-datasets.s3.amazonaws.com/mnist/t10k-labels-idx1-ubyte.gz to data/MNIST/raw/t10k-labels-idx1-ubyte.gz\n"
          ]
        },
        {
          "output_type": "stream",
          "name": "stderr",
          "text": [
            "100%|██████████| 4542/4542 [00:00<00:00, 9749502.95it/s]"
          ]
        },
        {
          "output_type": "stream",
          "name": "stdout",
          "text": [
            "Extracting data/MNIST/raw/t10k-labels-idx1-ubyte.gz to data/MNIST/raw\n",
            "\n"
          ]
        },
        {
          "output_type": "stream",
          "name": "stderr",
          "text": [
            "\n"
          ]
        }
      ],
      "source": [
        "from torchvision import datasets, transforms\n",
        "import torch\n",
        "\n",
        "# 데이터 세트\n",
        "train_ds = datasets.MNIST(root='data', train=True, transform=transforms.ToTensor(), download=True)\n",
        "test_ds  = datasets.MNIST(root='data', train=False, transform=transforms.ToTensor(), download=True)\n",
        "\n",
        "# 데이터 로더\n",
        "train_dl = torch.utils.data.DataLoader(train_ds, batch_size=64, shuffle=True)\n",
        "test_dl = torch.utils.data.DataLoader(test_ds, batch_size=64, shuffle=True)"
      ]
    },
    {
      "cell_type": "code",
      "source": [
        "# 데이터 로더에서 이미지를 1장만 로딩합니다.\n",
        "images, labels = next(iter(train_dl))\n",
        "images.shape"
      ],
      "metadata": {
        "colab": {
          "base_uri": "https://localhost:8080/"
        },
        "id": "5mUHjQKlNd3m",
        "outputId": "4cfc5e90-828c-4542-c8e8-b15f89d579ce"
      },
      "execution_count": null,
      "outputs": [
        {
          "output_type": "execute_result",
          "data": {
            "text/plain": [
              "torch.Size([64, 1, 28, 28])"
            ]
          },
          "metadata": {},
          "execution_count": 2
        }
      ]
    },
    {
      "cell_type": "code",
      "source": [
        "# 첫 번째 이미지만 시각화 합니다.\n",
        "import matplotlib.pyplot as plt\n",
        "plt.imshow(images[0].squeeze(), cmap='gray')\n",
        "plt.show()"
      ],
      "metadata": {
        "colab": {
          "base_uri": "https://localhost:8080/",
          "height": 430
        },
        "id": "fgLeXJ0mNfYl",
        "outputId": "e6386fef-b654-43f0-8683-aba3b9f869a7"
      },
      "execution_count": null,
      "outputs": [
        {
          "output_type": "display_data",
          "data": {
            "text/plain": [
              "<Figure size 640x480 with 1 Axes>"
            ],
            "image/png": "[encoded data removed]"
          },
          "metadata": {}
        }
      ]
    },
    {
      "cell_type": "markdown",
      "source": [
        "# Conv 레이어 알아보기"
      ],
      "metadata": {
        "id": "r_UW6zq418Kc"
      }
    },
    {
      "cell_type": "code",
      "source": [
        "# 합성곱 레이어를 정의합니다. 필터는 3x3 필터 5개, padding도 1로 설정합니다.\n",
        "import torch.nn as nn\n",
        "\n",
        "conv_layer = nn.Conv2d(in_channels=1, out_channels=5, kernel_size=3, stride=1, padding=1)"
      ],
      "metadata": {
        "id": "nsXpCZVB2Gof"
      },
      "execution_count": null,
      "outputs": []
    },
    {
      "cell_type": "code",
      "source": [
        "# 이 레이어에 이미지를 통과 시킨 후 shape을 확인합니다.\n",
        "conv_out = conv_layer(images[:1, ...])\n",
        "conv_out.shape"
      ],
      "metadata": {
        "colab": {
          "base_uri": "https://localhost:8080/"
        },
        "id": "V0No88bI2UgM",
        "outputId": "fd995db5-a40e-4336-c674-e0eaa7f21105"
      },
      "execution_count": null,
      "outputs": [
        {
          "output_type": "execute_result",
          "data": {
            "text/plain": [
              "torch.Size([1, 5, 28, 28])"
            ]
          },
          "metadata": {},
          "execution_count": 5
        }
      ]
    },
    {
      "cell_type": "code",
      "source": [
        "# conv 레이어를 지나간 각 이미지를 시각화 합니다.\n",
        "conv_out_images = conv_out[0]\n",
        "\n",
        "fig, axes = plt.subplots(1, 6, figsize=(17, 3))\n",
        "\n",
        "axes[0].imshow(images[0, ...].squeeze(), cmap='gray')\n",
        "axes[0].title.set_text('Original Image')\n",
        "axes[0].axis('off')\n",
        "\n",
        "for idx, ax in enumerate(axes[1:]):\n",
        "    ax.imshow(conv_out_images[idx, ...].detach().squeeze(), cmap='gray')\n",
        "    ax.axis('off')\n",
        "    ax.title.set_text(f'Filtered Image {idx+1}')\n",
        "plt.show()"
      ],
      "metadata": {
        "colab": {
          "base_uri": "https://localhost:8080/",
          "height": 244
        },
        "id": "gKN5ioYL2Xo9",
        "outputId": "18dea05d-6056-4d0b-a879-aaa097f37083"
      },
      "execution_count": null,
      "outputs": [
        {
          "output_type": "display_data",
          "data": {
            "text/plain": [
              "<Figure size 1700x300 with 6 Axes>"
            ],
            "image/png": "[encoded data removed]"
          },
          "metadata": {}
        }
      ]
    },
    {
      "cell_type": "markdown",
      "source": [
        "# Filter 시각화"
      ],
      "metadata": {
        "id": "tOSmpUWt2iP8"
      }
    },
    {
      "cell_type": "code",
      "source": [
        "filters = conv_layer.weight\n",
        "filters.shape # (C_out, C_in, k_h, k_w)"
      ],
      "metadata": {
        "colab": {
          "base_uri": "https://localhost:8080/"
        },
        "id": "MR9qAdf-4bwM",
        "outputId": "82eb43ca-b837-46dd-8ed4-256d6464147d"
      },
      "execution_count": null,
      "outputs": [
        {
          "output_type": "execute_result",
          "data": {
            "text/plain": [
              "torch.Size([5, 1, 3, 3])"
            ]
          },
          "metadata": {},
          "execution_count": 7
        }
      ]
    },
    {
      "cell_type": "code",
      "source": [
        "# 시각화\n",
        "fig, axes = plt.subplots(1, 5, figsize=(17, 3))\n",
        "\n",
        "for idx, ax in enumerate(axes):\n",
        "    ax.imshow(filters[idx, 0, ...].detach().squeeze(), cmap='gray')\n",
        "    ax.title.set_text(f'Filter {idx+1}')\n",
        "    ax.axis('off')\n",
        "plt.show()"
      ],
      "metadata": {
        "colab": {
          "base_uri": "https://localhost:8080/",
          "height": 306
        },
        "id": "IjiFdZrE4g9j",
        "outputId": "7d4fccb0-1a73-48dd-e800-66728d1294a7"
      },
      "execution_count": null,
      "outputs": [
        {
          "output_type": "display_data",
          "data": {
            "text/plain": [
              "<Figure size 1700x300 with 5 Axes>"
            ],
            "image/png": "[encoded data removed]"
          },
          "metadata": {}
        }
      ]
    },
    {
      "cell_type": "markdown",
      "source": [
        "# ReLU 적용 후 시각화"
      ],
      "metadata": {
        "id": "J0qCQwtG4ubK"
      }
    },
    {
      "cell_type": "code",
      "source": [
        "relu_layer = nn.ReLU()\n",
        "relu_output = relu_layer(conv_out)\n",
        "relu_output.shape"
      ],
      "metadata": {
        "colab": {
          "base_uri": "https://localhost:8080/"
        },
        "id": "E89TOu-q5SDl",
        "outputId": "3173c793-768f-416f-dbfb-6c94475a6ea5"
      },
      "execution_count": null,
      "outputs": [
        {
          "output_type": "execute_result",
          "data": {
            "text/plain": [
              "torch.Size([1, 5, 28, 28])"
            ]
          },
          "metadata": {},
          "execution_count": 9
        }
      ]
    },
    {
      "cell_type": "code",
      "source": [
        "relu_out_images = relu_output[0]\n",
        "\n",
        "fig, axes = plt.subplots(1, 6, figsize=(17, 3))\n",
        "\n",
        "axes[0].imshow(images[0, ...].squeeze(), cmap='gray')\n",
        "axes[0].title.set_text('Original Image')\n",
        "axes[0].axis('off')\n",
        "\n",
        "for idx, ax in enumerate(axes[1:]):\n",
        "    ax.imshow(relu_out_images[idx, ...].detach().squeeze(), cmap='gray')\n",
        "    ax.axis('off')\n",
        "    ax.title.set_text(f'ReLU Image {idx+1}')\n",
        "plt.show()"
      ],
      "metadata": {
        "colab": {
          "base_uri": "https://localhost:8080/",
          "height": 244
        },
        "id": "3BNsl1KA5VTC",
        "outputId": "0eff3f16-a004-49b1-9688-583b1cc1e039"
      },
      "execution_count": null,
      "outputs": [
        {
          "output_type": "display_data",
          "data": {
            "text/plain": [
              "<Figure size 1700x300 with 6 Axes>"
            ],
            "image/png": "[encoded data removed]"
          },
          "metadata": {}
        }
      ]
    },
    {
      "cell_type": "markdown",
      "source": [
        "# MaxPooling 레이어 확인"
      ],
      "metadata": {
        "id": "hUhppkg55kf0"
      }
    },
    {
      "cell_type": "code",
      "source": [
        "max_pool_layer = nn.MaxPool2d(kernel_size=2)\n",
        "max_pool_output = max_pool_layer(relu_output)\n",
        "max_pool_output.shape"
      ],
      "metadata": {
        "colab": {
          "base_uri": "https://localhost:8080/"
        },
        "id": "X0cUaOHQ5vEN",
        "outputId": "35a17692-ec94-42f3-cbfd-9bde5ce737e6"
      },
      "execution_count": null,
      "outputs": [
        {
          "output_type": "execute_result",
          "data": {
            "text/plain": [
              "torch.Size([1, 5, 14, 14])"
            ]
          },
          "metadata": {},
          "execution_count": 11
        }
      ]
    },
    {
      "cell_type": "code",
      "source": [
        "max_pool_out_images = max_pool_output[0]\n",
        "\n",
        "fig, axes = plt.subplots(1, 6, figsize=(17, 3))\n",
        "\n",
        "axes[0].imshow(images[0, ...].squeeze(), cmap='gray')\n",
        "axes[0].title.set_text('Original Image')\n",
        "axes[0].axis('off')\n",
        "\n",
        "for idx, ax in enumerate(axes[1:]):\n",
        "    ax.imshow(max_pool_out_images[idx, ...].detach().squeeze(), cmap='gray')\n",
        "    ax.axis('off')\n",
        "    ax.title.set_text(f'Max Pooling Image {idx+1}')\n",
        "plt.show()"
      ],
      "metadata": {
        "colab": {
          "base_uri": "https://localhost:8080/",
          "height": 244
        },
        "id": "4px5PZ6G5w_D",
        "outputId": "7a2474b6-6161-4838-97a5-7c5a5ea0afc0"
      },
      "execution_count": null,
      "outputs": [
        {
          "output_type": "display_data",
          "data": {
            "text/plain": [
              "<Figure size 1700x300 with 6 Axes>"
            ],
            "image/png": "[encoded data removed]"
          },
          "metadata": {}
        }
      ]
    },
    {
      "cell_type": "markdown",
      "source": [
        "# Flatten, GAP(Global Average Pooliing)을 활용한 평탄화"
      ],
      "metadata": {
        "id": "MisoVyah56Tr"
      }
    },
    {
      "cell_type": "code",
      "source": [
        "# Flatten 레이어. 일반적으로 채널이 512개 이하인 경우 사용하면 좋다.\n",
        "flatten_layer = nn.Flatten()\n",
        "flatten_output = flatten_layer(max_pool_output)\n",
        "flatten_output.shape"
      ],
      "metadata": {
        "colab": {
          "base_uri": "https://localhost:8080/"
        },
        "id": "QQC1SRmb6BqT",
        "outputId": "6dd9d034-1c3b-4f8a-f2cf-f3764a5eecdd"
      },
      "execution_count": null,
      "outputs": [
        {
          "output_type": "execute_result",
          "data": {
            "text/plain": [
              "torch.Size([1, 980])"
            ]
          },
          "metadata": {},
          "execution_count": 13
        }
      ]
    },
    {
      "cell_type": "code",
      "source": [
        "# GAP(Global Average Pooling)을 수행할 때 사용한다. 채널이 512개 이상일 때 사용하면 좋다고 알려져 있다.\n",
        "gap_layer = nn.AdaptiveAvgPool2d(output_size=1)\n",
        "gap_output = gap_layer(relu_output)\n",
        "gap_output = torch.flatten(gap_output, 1)\n",
        "gap_output.shape"
      ],
      "metadata": {
        "colab": {
          "base_uri": "https://localhost:8080/"
        },
        "id": "QShVgzjv6DDq",
        "outputId": "9c9298ed-c09c-42bb-c923-4d2aaa3bdf11"
      },
      "execution_count": null,
      "outputs": [
        {
          "output_type": "execute_result",
          "data": {
            "text/plain": [
              "torch.Size([1, 5])"
            ]
          },
          "metadata": {},
          "execution_count": 14
        }
      ]
    },
    {
      "cell_type": "markdown",
      "source": [
        "# Linear Layer를 이용한 FCN 구현"
      ],
      "metadata": {
        "id": "sMuUUiU06Kma"
      }
    },
    {
      "cell_type": "code",
      "source": [
        "linear_1 = nn.Linear(in_features=980, out_features=256)\n",
        "linear_1_output = linear_1(flatten_output)\n",
        "linear_1_output = nn.ReLU()(linear_1_output)\n",
        "linear_1_output.shape"
      ],
      "metadata": {
        "colab": {
          "base_uri": "https://localhost:8080/"
        },
        "id": "Z38ZHtLA6zKE",
        "outputId": "ddb19efb-5987-4509-fae5-572f36f1adb2"
      },
      "execution_count": null,
      "outputs": [
        {
          "output_type": "execute_result",
          "data": {
            "text/plain": [
              "torch.Size([1, 256])"
            ]
          },
          "metadata": {},
          "execution_count": 15
        }
      ]
    },
    {
      "cell_type": "code",
      "source": [
        "linear_2 = nn.Linear(in_features=256, out_features=128)\n",
        "linear_2_output = linear_2(linear_1_output)\n",
        "linear_2_output = nn.ReLU()(linear_2_output)\n",
        "linear_2_output.shape"
      ],
      "metadata": {
        "colab": {
          "base_uri": "https://localhost:8080/"
        },
        "id": "5UHTgpf_659h",
        "outputId": "95d5edf5-74f8-4684-810d-6b22ae6bd86f"
      },
      "execution_count": null,
      "outputs": [
        {
          "output_type": "execute_result",
          "data": {
            "text/plain": [
              "torch.Size([1, 128])"
            ]
          },
          "metadata": {},
          "execution_count": 16
        }
      ]
    },
    {
      "cell_type": "code",
      "source": [
        "# 출력층\n",
        "linear_3 = nn.Linear(in_features=128, out_features=10)\n",
        "linear_3_output = linear_3(linear_2_output)\n",
        "linear_3_output.shape"
      ],
      "metadata": {
        "colab": {
          "base_uri": "https://localhost:8080/"
        },
        "id": "mFquNlQx7fnR",
        "outputId": "6369fa75-118a-4f9f-ad91-5fda12b0fe16"
      },
      "execution_count": null,
      "outputs": [
        {
          "output_type": "execute_result",
          "data": {
            "text/plain": [
              "torch.Size([1, 10])"
            ]
          },
          "metadata": {},
          "execution_count": 17
        }
      ]
    },
    {
      "cell_type": "markdown",
      "source": [
        "# CNN 분류 모델 만들기\n",
        "- Conv 레이어를 이용해서 Feature Extraction\n",
        "- Feature Extraction이 된 Feature Map을 이용해 추론하는 과정을 FCL로 구현"
      ],
      "metadata": {
        "id": "76-vIIpktu7X"
      }
    },
    {
      "cell_type": "code",
      "source": [
        "from torch import nn\n",
        "\n",
        "class Mnist_CNN(nn.Module):\n",
        "\n",
        "  def __init__(self):\n",
        "    super().__init__()\n",
        "\n",
        "    # 흑백이미지가 들어가기 때문에 입력 채널을 1로 설정\n",
        "    # 필터의 shape : (32, 1, 3, 3)\n",
        "\n",
        "    ######## Feature Extraction #########\n",
        "    self.conv_1 = nn.Conv2d(in_channels=1, out_channels=32, kernel_size=3, padding=1)\n",
        "    self.relu_1 = nn.ReLU()\n",
        "\n",
        "    self.conv_2 = nn.Conv2d(in_channels=32, out_channels=32, kernel_size=3, padding=1)\n",
        "    self.relu_2 = nn.ReLU()\n",
        "\n",
        "    self.max_pool_1 = nn.MaxPool2d(kernel_size=2)\n",
        "\n",
        "    self.conv_3 = nn.Conv2d(in_channels=32, out_channels=64, kernel_size=3, padding=1)\n",
        "    self.relu_3 = nn.ReLU()\n",
        "\n",
        "    self.conv_4 = nn.Conv2d(in_channels=64, out_channels=64, kernel_size=3, padding=1)\n",
        "    self.relu_4 = nn.ReLU()\n",
        "\n",
        "    self.max_pool_2 = nn.MaxPool2d(kernel_size=2) # 여기 까지 오면 (N, 64, 7, 7)\n",
        "\n",
        "    self.dropout = nn.Dropout(0.25)\n",
        "\n",
        "    ######### Fully Conneceted Layer ########\n",
        "    self.flatten = nn.Flatten() # 평탄화 시키면 (N, 64x7x7)\n",
        "\n",
        "    self.linear_1 = nn.Linear(7*7*64, out_features=256)\n",
        "    self.relu_5 = nn.ReLU()\n",
        "\n",
        "    self.linear_2 = nn.Linear(256, 128)\n",
        "    self.relu_6 = nn.ReLU()\n",
        "\n",
        "    # 출력층\n",
        "    self.out_layer = nn.Linear(128, 10)\n",
        "\n",
        "  def forward(self, x):\n",
        "    # Feature Extraction\n",
        "    x = self.conv_1(x)\n",
        "    x = self.relu_1(x)\n",
        "\n",
        "    x = self.conv_2(x)\n",
        "    x = self.relu_2(x)\n",
        "\n",
        "    x = self.max_pool_1(x)\n",
        "\n",
        "    x = self.conv_3(x)\n",
        "    x = self.relu_3(x)\n",
        "\n",
        "    x = self.conv_4(x)\n",
        "    x = self.relu_4(x)\n",
        "\n",
        "    x = self.max_pool_2(x)\n",
        "\n",
        "    x = self.dropout(x)\n",
        "\n",
        "    # FCL\n",
        "    # 평탄화 부터\n",
        "    x = self.flatten(x)\n",
        "\n",
        "    x = self.linear_1(x)\n",
        "    x = self.relu_5(x)\n",
        "\n",
        "    x = self.linear_2(x)\n",
        "    x = self.relu_6(x)\n",
        "\n",
        "    y = self.out_layer(x)\n",
        "\n",
        "    return y"
      ],
      "metadata": {
        "id": "BQXznro-uasj"
      },
      "execution_count": null,
      "outputs": []
    },
    {
      "cell_type": "markdown",
      "source": [
        "# 모델 생성"
      ],
      "metadata": {
        "id": "ySDu_jpDu1BO"
      }
    },
    {
      "cell_type": "code",
      "source": [
        "import torch\n",
        "\n",
        "device = 'cuda' if torch.cuda.is_available() else 'cpu'\n",
        "print(device)"
      ],
      "metadata": {
        "colab": {
          "base_uri": "https://localhost:8080/"
        },
        "id": "tplnauzJ1sj0",
        "outputId": "e7f588b2-6226-43e0-d7ec-ef6125ea495e"
      },
      "execution_count": null,
      "outputs": [
        {
          "output_type": "stream",
          "name": "stdout",
          "text": [
            "cuda\n"
          ]
        }
      ]
    },
    {
      "cell_type": "code",
      "source": [
        "model = Mnist_CNN().to(device)\n",
        "model"
      ],
      "metadata": {
        "colab": {
          "base_uri": "https://localhost:8080/"
        },
        "id": "Yj036NIp1w--",
        "outputId": "caeeb30c-bd74-4840-98a6-9f8ce1e388b4"
      },
      "execution_count": null,
      "outputs": [
        {
          "output_type": "execute_result",
          "data": {
            "text/plain": [
              "Mnist_CNN(\n",
              "  (conv_1): Conv2d(1, 32, kernel_size=(3, 3), stride=(1, 1), padding=(1, 1))\n",
              "  (relu_1): ReLU()\n",
              "  (conv_2): Conv2d(32, 32, kernel_size=(3, 3), stride=(1, 1), padding=(1, 1))\n",
              "  (relu_2): ReLU()\n",
              "  (max_pool_1): MaxPool2d(kernel_size=2, stride=2, padding=0, dilation=1, ceil_mode=False)\n",
              "  (conv_3): Conv2d(32, 64, kernel_size=(3, 3), stride=(1, 1), padding=(1, 1))\n",
              "  (relu_3): ReLU()\n",
              "  (conv_4): Conv2d(64, 64, kernel_size=(3, 3), stride=(1, 1), padding=(1, 1))\n",
              "  (relu_4): ReLU()\n",
              "  (max_pool_2): MaxPool2d(kernel_size=2, stride=2, padding=0, dilation=1, ceil_mode=False)\n",
              "  (dropout): Dropout(p=0.25, inplace=False)\n",
              "  (flatten): Flatten(start_dim=1, end_dim=-1)\n",
              "  (linear_1): Linear(in_features=3136, out_features=256, bias=True)\n",
              "  (relu_5): ReLU()\n",
              "  (linear_2): Linear(in_features=256, out_features=128, bias=True)\n",
              "  (relu_6): ReLU()\n",
              "  (out_layer): Linear(in_features=128, out_features=10, bias=True)\n",
              ")"
            ]
          },
          "metadata": {},
          "execution_count": 20
        }
      ]
    },
    {
      "cell_type": "code",
      "source": [
        "!pip install torchinfo"
      ],
      "metadata": {
        "colab": {
          "base_uri": "https://localhost:8080/"
        },
        "id": "SVy0ucM52BXm",
        "outputId": "e7d42e57-ed8e-4747-cb54-3749cb2777ab"
      },
      "execution_count": null,
      "outputs": [
        {
          "output_type": "stream",
          "name": "stdout",
          "text": [
            "Collecting torchinfo\n",
            "  Downloading torchinfo-1.8.0-py3-none-any.whl.metadata (21 kB)\n",
            "Downloading torchinfo-1.8.0-py3-none-any.whl (23 kB)\n",
            "Installing collected packages: torchinfo\n",
            "Successfully installed torchinfo-1.8.0\n"
          ]
        }
      ]
    },
    {
      "cell_type": "code",
      "source": [
        "from torchinfo import summary\n",
        "summary(model, input_size=(64, 1, 28, 28), device='cuda')"
      ],
      "metadata": {
        "colab": {
          "base_uri": "https://localhost:8080/"
        },
        "id": "whbfomlb2MiN",
        "outputId": "2ac53a90-2797-4ef1-cb30-4962a4fc6e8b"
      },
      "execution_count": null,
      "outputs": [
        {
          "output_type": "execute_result",
          "data": {
            "text/plain": [
              "==========================================================================================\n",
              "Layer (type:depth-idx)                   Output Shape              Param #\n",
              "==========================================================================================\n",
              "Mnist_CNN                                [64, 10]                  --\n",
              "├─Conv2d: 1-1                            [64, 32, 28, 28]          320\n",
              "├─ReLU: 1-2                              [64, 32, 28, 28]          --\n",
              "├─Conv2d: 1-3                            [64, 32, 28, 28]          9,248\n",
              "├─ReLU: 1-4                              [64, 32, 28, 28]          --\n",
              "├─MaxPool2d: 1-5                         [64, 32, 14, 14]          --\n",
              "├─Conv2d: 1-6                            [64, 64, 14, 14]          18,496\n",
              "├─ReLU: 1-7                              [64, 64, 14, 14]          --\n",
              "├─Conv2d: 1-8                            [64, 64, 14, 14]          36,928\n",
              "├─ReLU: 1-9                              [64, 64, 14, 14]          --\n",
              "├─MaxPool2d: 1-10                        [64, 64, 7, 7]            --\n",
              "├─Dropout: 1-11                          [64, 64, 7, 7]            --\n",
              "├─Flatten: 1-12                          [64, 3136]                --\n",
              "├─Linear: 1-13                           [64, 256]                 803,072\n",
              "├─ReLU: 1-14                             [64, 256]                 --\n",
              "├─Linear: 1-15                           [64, 128]                 32,896\n",
              "├─ReLU: 1-16                             [64, 128]                 --\n",
              "├─Linear: 1-17                           [64, 10]                  1,290\n",
              "==========================================================================================\n",
              "Total params: 902,250\n",
              "Trainable params: 902,250\n",
              "Non-trainable params: 0\n",
              "Total mult-adds (G): 1.23\n",
              "==========================================================================================\n",
              "Input size (MB): 0.20\n",
              "Forward/backward pass size (MB): 38.74\n",
              "Params size (MB): 3.61\n",
              "Estimated Total Size (MB): 42.55\n",
              "=========================================================================================="
            ]
          },
          "metadata": {},
          "execution_count": 22
        }
      ]
    },
    {
      "cell_type": "markdown",
      "source": [
        "각 레이어의 파라미터 수는 다음 공식으로 계산됩니다:\n",
        "\n",
        "\t•\tConv2d 레이어: (출력 채널 수 × 입력 채널 수 × 커널 높이 × 커널 너비) + 출력 채널 수(바이어스)\n",
        "\t•\tLinear 레이어: (입력 특징 수 × 출력 특징 수) + 출력 특징 수(바이어스)\n",
        "\n",
        "이제 각 층별로 파라미터 수를 계산해보겠습니다.\n",
        "\n",
        "1. Conv2d: 1-1\n",
        "\n",
        "출력 형태: [64, 32, 28, 28]\n",
        "파라미터 수: 320\n",
        "\n",
        "\t•\t입력 채널 수: 1\n",
        "\t•\t출력 채널 수: 32\n",
        "\t•\t커널 크기: 3 × 3\n",
        "\n",
        "계산:\n",
        "(32 × 1 × 3 × 3) + 32 = 288 + 32 = 320\n",
        "\n",
        "2. Conv2d: 1-3\n",
        "\n",
        "출력 형태: [64, 32, 28, 28]\n",
        "파라미터 수: 9,248\n",
        "\n",
        "\t•\t입력 채널 수: 32\n",
        "\t•\t출력 채널 수: 32\n",
        "\t•\t커널 크기: 3 × 3\n",
        "\n",
        "계산:\n",
        "(32 × 32 × 3 × 3) + 32 = 9,216 + 32 = 9,248\n",
        "\n",
        "3. Conv2d: 1-6\n",
        "\n",
        "출력 형태: [64, 64, 14, 14]\n",
        "파라미터 수: 18,496\n",
        "\n",
        "\t•\t입력 채널 수: 32\n",
        "\t•\t출력 채널 수: 64\n",
        "\t•\t커널 크기: 3 × 3\n",
        "\n",
        "계산:\n",
        "(64 × 32 × 3 × 3) + 64 = 18,432 + 64 = 18,496\n",
        "\n",
        "4. Conv2d: 1-8\n",
        "\n",
        "출력 형태: [64, 64, 14, 14]\n",
        "파라미터 수: 36,928\n",
        "\n",
        "\t•\t입력 채널 수: 64\n",
        "\t•\t출력 채널 수: 64\n",
        "\t•\t커널 크기: 3 × 3\n",
        "\n",
        "계산:\n",
        "(64 × 64 × 3 × 3) + 64 = 36,864 + 64 = 36,928\n",
        "\n",
        "5. Linear: 1-13\n",
        "\n",
        "출력 형태: [64, 256]\n",
        "파라미터 수: 803,072\n",
        "\n",
        "\t•\t입력 특징 수: 64 × 7 × 7 = 3,136 (배치 크기는 제외)\n",
        "\t•\t출력 특징 수: 256\n",
        "\n",
        "계산:\n",
        "(3,136 × 256) + 256 = 802,816 + 256 = 803,072\n",
        "\n",
        "6. Linear: 1-15\n",
        "\n",
        "출력 형태: [64, 128]\n",
        "파라미터 수: 32,896\n",
        "\n",
        "\t•\t입력 특징 수: 256\n",
        "\t•\t출력 특징 수: 128\n",
        "\n",
        "계산:\n",
        "(256 × 128) + 128 = 32,768 + 128 = 32,896\n",
        "\n",
        "7. Linear: 1-17\n",
        "\n",
        "출력 형태: [64, 10]\n",
        "파라미터 수: 1,290\n",
        "\n",
        "\t•\t입력 특징 수: 128\n",
        "\t•\t출력 특징 수: 10\n",
        "\n",
        "계산:\n",
        "(128 × 10) + 10 = 1,280 + 10 = 1,290\n",
        "\n",
        "총 파라미터 수 검증\n",
        "\n",
        "각 레이어의 파라미터 수를 모두 더하면:\n",
        "\n",
        "320 + 9,248 + 18,496 + 36,928 + 803,072 + 32,896 + 1,290 = 902,250"
      ],
      "metadata": {
        "id": "9G2TwcUQNsSb"
      }
    },
    {
      "cell_type": "markdown",
      "source": [
        "# 훈련"
      ],
      "metadata": {
        "id": "MwGDy7ZU3Zq4"
      }
    },
    {
      "cell_type": "code",
      "source": [
        "loss_fn = nn.CrossEntropyLoss()\n",
        "optimizer = torch.optim.Adam(model.parameters(), lr=0.0001)"
      ],
      "metadata": {
        "id": "DpdgHp543ytA"
      },
      "execution_count": null,
      "outputs": []
    },
    {
      "cell_type": "code",
      "source": [
        "# 훈련 루프 정의\n",
        "def train_loop(dataloader, model, loss_fn, optimizer):\n",
        "\n",
        "  size = len(dataloader.dataset)\n",
        "\n",
        "  # 모델을 훈련모드로 전환\n",
        "  model.train()\n",
        "\n",
        "  # 데이터 로더에서 데이터 꺼내기\n",
        "  for batch, (X, y) in enumerate(dataloader):\n",
        "\n",
        "    # 꺼낸 데이터를 gpu로 옮기기. 모델과 같은 디바이스 환경으로 설정\n",
        "    X, y = X.to(device), y.to(device)\n",
        "\n",
        "    # 예측 및 손실 계산\n",
        "    pred = model(X)\n",
        "    loss = loss_fn(pred, y)\n",
        "\n",
        "    # 역전파 수행(미분)\n",
        "    optimizer.zero_grad() # 이전 배치에서의 기울기를 제거\n",
        "    loss.backward() # 역전파 수행\n",
        "    optimizer.step() # 파라미터 갱신\n",
        "\n",
        "    # 배치가 100번 돌 때마다 화면에 출력\n",
        "    if batch % 100 == 0:\n",
        "      loss, current = loss.item(), batch * len(X)\n",
        "      print(f\"Train Loss : {loss:>7f} [ {current:>5d} / {size:>5d} ]\")"
      ],
      "metadata": {
        "id": "10ShINu17A2f"
      },
      "execution_count": null,
      "outputs": []
    },
    {
      "cell_type": "code",
      "source": [
        "# 추론 루프 정의\n",
        "def test_loop(dataloader, model, loss_fn):\n",
        "  size = len(dataloader.dataset)\n",
        "\n",
        "  test_loss, correct = 0, 0\n",
        "  model.eval() # 모델을 추론 모드로 설정\n",
        "\n",
        "  # 추론 과정에서는 기울기를 구하지 않음. required_grad=False\n",
        "  with torch.no_grad():\n",
        "\n",
        "    for X, y in dataloader:\n",
        "      X, y = X.to(device), y.to(device)\n",
        "\n",
        "      pred = model(X)\n",
        "      test_loss += loss_fn(pred, y).item()\n",
        "      correct += (pred.argmax(1) == y).type(torch.float).sum().item()\n",
        "\n",
        "  num_batches = len(dataloader)\n",
        "\n",
        "  # Loss와 Accuracy 평균 계산\n",
        "  test_loss /= num_batches\n",
        "  correct /= size\n",
        "\n",
        "  print(f\"Test Error : \\n Accuracy : {(100*correct):>0.1f}%, Avg Loss : {test_loss:>8f}\\n\")"
      ],
      "metadata": {
        "id": "tP8iXQkX8tb3"
      },
      "execution_count": null,
      "outputs": []
    },
    {
      "cell_type": "code",
      "source": [
        "# 학습 수행\n",
        "epochs = 10\n",
        "for t in range(epochs):\n",
        "  print(f\"Epoch {t+1}\\n........................\")\n",
        "  train_loop(train_dl, model, loss_fn, optimizer)\n",
        "  test_loop(test_dl, model, loss_fn)\n",
        "\n",
        "print(\"Done!\")"
      ],
      "metadata": {
        "colab": {
          "base_uri": "https://localhost:8080/"
        },
        "id": "uU4K-haC9jSr",
        "outputId": "bd3f2baa-e17b-46c4-daf6-273f913dbc8e"
      },
      "execution_count": null,
      "outputs": [
        {
          "output_type": "stream",
          "name": "stdout",
          "text": [
            "Epoch 1\n",
            "........................\n",
            "Train Loss : 2.303353 [     0 / 60000 ]\n",
            "Train Loss : 0.627557 [  6400 / 60000 ]\n",
            "Train Loss : 0.463111 [ 12800 / 60000 ]\n",
            "Train Loss : 0.328080 [ 19200 / 60000 ]\n",
            "Train Loss : 0.645359 [ 25600 / 60000 ]\n",
            "Train Loss : 0.186018 [ 32000 / 60000 ]\n",
            "Train Loss : 0.180013 [ 38400 / 60000 ]\n",
            "Train Loss : 0.303312 [ 44800 / 60000 ]\n",
            "Train Loss : 0.079950 [ 51200 / 60000 ]\n",
            "Train Loss : 0.222836 [ 57600 / 60000 ]\n",
            "Test Error : \n",
            " Accuracy : 96.2%, Avg Loss : 0.129124\n",
            "\n",
            "Epoch 2\n",
            "........................\n",
            "Train Loss : 0.247529 [     0 / 60000 ]\n",
            "Train Loss : 0.204409 [  6400 / 60000 ]\n",
            "Train Loss : 0.119430 [ 12800 / 60000 ]\n",
            "Train Loss : 0.111494 [ 19200 / 60000 ]\n",
            "Train Loss : 0.255266 [ 25600 / 60000 ]\n",
            "Train Loss : 0.032537 [ 32000 / 60000 ]\n",
            "Train Loss : 0.260141 [ 38400 / 60000 ]\n",
            "Train Loss : 0.163846 [ 44800 / 60000 ]\n",
            "Train Loss : 0.032789 [ 51200 / 60000 ]\n",
            "Train Loss : 0.076410 [ 57600 / 60000 ]\n",
            "Test Error : \n",
            " Accuracy : 97.5%, Avg Loss : 0.076354\n",
            "\n",
            "Epoch 3\n",
            "........................\n",
            "Train Loss : 0.087108 [     0 / 60000 ]\n",
            "Train Loss : 0.029003 [  6400 / 60000 ]\n",
            "Train Loss : 0.064554 [ 12800 / 60000 ]\n",
            "Train Loss : 0.110173 [ 19200 / 60000 ]\n",
            "Train Loss : 0.062138 [ 25600 / 60000 ]\n",
            "Train Loss : 0.052200 [ 32000 / 60000 ]\n",
            "Train Loss : 0.033297 [ 38400 / 60000 ]\n",
            "Train Loss : 0.110375 [ 44800 / 60000 ]\n",
            "Train Loss : 0.040228 [ 51200 / 60000 ]\n",
            "Train Loss : 0.017476 [ 57600 / 60000 ]\n",
            "Test Error : \n",
            " Accuracy : 98.1%, Avg Loss : 0.057055\n",
            "\n",
            "Epoch 4\n",
            "........................\n",
            "Train Loss : 0.015966 [     0 / 60000 ]\n",
            "Train Loss : 0.113683 [  6400 / 60000 ]\n",
            "Train Loss : 0.082726 [ 12800 / 60000 ]\n",
            "Train Loss : 0.038247 [ 19200 / 60000 ]\n",
            "Train Loss : 0.090628 [ 25600 / 60000 ]\n",
            "Train Loss : 0.037849 [ 32000 / 60000 ]\n",
            "Train Loss : 0.061326 [ 38400 / 60000 ]\n",
            "Train Loss : 0.068558 [ 44800 / 60000 ]\n",
            "Train Loss : 0.098357 [ 51200 / 60000 ]\n",
            "Train Loss : 0.026599 [ 57600 / 60000 ]\n",
            "Test Error : \n",
            " Accuracy : 98.6%, Avg Loss : 0.041690\n",
            "\n",
            "Epoch 5\n",
            "........................\n",
            "Train Loss : 0.019119 [     0 / 60000 ]\n",
            "Train Loss : 0.023737 [  6400 / 60000 ]\n",
            "Train Loss : 0.038937 [ 12800 / 60000 ]\n",
            "Train Loss : 0.013536 [ 19200 / 60000 ]\n",
            "Train Loss : 0.091872 [ 25600 / 60000 ]\n",
            "Train Loss : 0.032264 [ 32000 / 60000 ]\n",
            "Train Loss : 0.047626 [ 38400 / 60000 ]\n",
            "Train Loss : 0.012529 [ 44800 / 60000 ]\n",
            "Train Loss : 0.048478 [ 51200 / 60000 ]\n",
            "Train Loss : 0.035884 [ 57600 / 60000 ]\n",
            "Test Error : \n",
            " Accuracy : 98.6%, Avg Loss : 0.042572\n",
            "\n",
            "Epoch 6\n",
            "........................\n",
            "Train Loss : 0.038927 [     0 / 60000 ]\n",
            "Train Loss : 0.044130 [  6400 / 60000 ]\n",
            "Train Loss : 0.010577 [ 12800 / 60000 ]\n",
            "Train Loss : 0.009185 [ 19200 / 60000 ]\n",
            "Train Loss : 0.058344 [ 25600 / 60000 ]\n",
            "Train Loss : 0.012571 [ 32000 / 60000 ]\n",
            "Train Loss : 0.068423 [ 38400 / 60000 ]\n",
            "Train Loss : 0.050926 [ 44800 / 60000 ]\n",
            "Train Loss : 0.063044 [ 51200 / 60000 ]\n",
            "Train Loss : 0.067246 [ 57600 / 60000 ]\n",
            "Test Error : \n",
            " Accuracy : 98.9%, Avg Loss : 0.030687\n",
            "\n",
            "Epoch 7\n",
            "........................\n",
            "Train Loss : 0.002238 [     0 / 60000 ]\n",
            "Train Loss : 0.040455 [  6400 / 60000 ]\n",
            "Train Loss : 0.005273 [ 12800 / 60000 ]\n",
            "Train Loss : 0.007329 [ 19200 / 60000 ]\n",
            "Train Loss : 0.010252 [ 25600 / 60000 ]\n",
            "Train Loss : 0.106221 [ 32000 / 60000 ]\n",
            "Train Loss : 0.082631 [ 38400 / 60000 ]\n",
            "Train Loss : 0.033721 [ 44800 / 60000 ]\n",
            "Train Loss : 0.011844 [ 51200 / 60000 ]\n",
            "Train Loss : 0.052244 [ 57600 / 60000 ]\n",
            "Test Error : \n",
            " Accuracy : 99.0%, Avg Loss : 0.029207\n",
            "\n",
            "Epoch 8\n",
            "........................\n",
            "Train Loss : 0.035107 [     0 / 60000 ]\n",
            "Train Loss : 0.046278 [  6400 / 60000 ]\n",
            "Train Loss : 0.004094 [ 12800 / 60000 ]\n",
            "Train Loss : 0.063817 [ 19200 / 60000 ]\n",
            "Train Loss : 0.014107 [ 25600 / 60000 ]\n",
            "Train Loss : 0.003976 [ 32000 / 60000 ]\n",
            "Train Loss : 0.073355 [ 38400 / 60000 ]\n",
            "Train Loss : 0.009903 [ 44800 / 60000 ]\n",
            "Train Loss : 0.002740 [ 51200 / 60000 ]\n",
            "Train Loss : 0.118109 [ 57600 / 60000 ]\n",
            "Test Error : \n",
            " Accuracy : 99.1%, Avg Loss : 0.030149\n",
            "\n",
            "Epoch 9\n",
            "........................\n",
            "Train Loss : 0.009510 [     0 / 60000 ]\n",
            "Train Loss : 0.021432 [  6400 / 60000 ]\n",
            "Train Loss : 0.011066 [ 12800 / 60000 ]\n",
            "Train Loss : 0.040436 [ 19200 / 60000 ]\n",
            "Train Loss : 0.018437 [ 25600 / 60000 ]\n",
            "Train Loss : 0.014332 [ 32000 / 60000 ]\n",
            "Train Loss : 0.098653 [ 38400 / 60000 ]\n",
            "Train Loss : 0.017622 [ 44800 / 60000 ]\n",
            "Train Loss : 0.000986 [ 51200 / 60000 ]\n",
            "Train Loss : 0.024606 [ 57600 / 60000 ]\n",
            "Test Error : \n",
            " Accuracy : 99.1%, Avg Loss : 0.030820\n",
            "\n",
            "Epoch 10\n",
            "........................\n",
            "Train Loss : 0.056324 [     0 / 60000 ]\n",
            "Train Loss : 0.028573 [  6400 / 60000 ]\n",
            "Train Loss : 0.018661 [ 12800 / 60000 ]\n",
            "Train Loss : 0.001578 [ 19200 / 60000 ]\n",
            "Train Loss : 0.004257 [ 25600 / 60000 ]\n",
            "Train Loss : 0.037790 [ 32000 / 60000 ]\n",
            "Train Loss : 0.077808 [ 38400 / 60000 ]\n",
            "Train Loss : 0.006886 [ 44800 / 60000 ]\n",
            "Train Loss : 0.050738 [ 51200 / 60000 ]\n",
            "Train Loss : 0.010161 [ 57600 / 60000 ]\n",
            "Test Error : \n",
            " Accuracy : 99.0%, Avg Loss : 0.032891\n",
            "\n",
            "Done!\n"
          ]
        }
      ]
    },
    {
      "cell_type": "markdown",
      "source": [
        "# Sequential을 이용해 반복되는 블록 묶어서 처리하기"
      ],
      "metadata": {
        "id": "6iXxPJx9_0su"
      }
    },
    {
      "cell_type": "code",
      "source": [
        "class Mnist_CNN_Sequential(nn.Module):\n",
        "    def __init__(self):\n",
        "        super().__init__()\n",
        "\n",
        "        # Conv blocks\n",
        "        self.conv_block_1 = nn.Sequential(\n",
        "          nn.Conv2d(in_channels=1, out_channels=32, kernel_size=3, stride=1, padding=1),\n",
        "          nn.ReLU(),\n",
        "          nn.Conv2d(in_channels=32, out_channels=32, kernel_size=3, stride=1, padding=1),\n",
        "          nn.ReLU(),\n",
        "          nn.MaxPool2d(kernel_size=2)\n",
        "        )\n",
        "\n",
        "        self.conv_block_2 = nn.Sequential(\n",
        "          nn.Conv2d(in_channels=32, out_channels=64, kernel_size=3, stride=1, padding=1),\n",
        "          nn.ReLU(),\n",
        "          nn.Conv2d(in_channels=64, out_channels=64, kernel_size=3, stride=1, padding=1),\n",
        "          nn.ReLU(),\n",
        "          nn.MaxPool2d(kernel_size=2),\n",
        "        )\n",
        "\n",
        "        self.dropout = nn.Dropout(p=0.25)\n",
        "\n",
        "        # FCN Block\n",
        "        self.fcn_block = nn.Sequential(\n",
        "          nn.Flatten(),\n",
        "          nn.Linear(in_features=7 * 7 * 64, out_features=256),\n",
        "          nn.ReLU(),\n",
        "          nn.Linear(in_features=256, out_features=128),\n",
        "          nn.ReLU(),\n",
        "          nn.Linear(in_features=128, out_features=10),\n",
        "        )\n",
        "\n",
        "    def forward(self, x):\n",
        "        x = self.conv_block_1(x)\n",
        "        x = self.conv_block_2(x)\n",
        "        x = self.dropout(x)\n",
        "        out = self.fcn_block(x)\n",
        "        return out"
      ],
      "metadata": {
        "id": "yW4CuU-KBR2g"
      },
      "execution_count": null,
      "outputs": []
    },
    {
      "cell_type": "code",
      "source": [
        "model = Mnist_CNN_Sequential().to(device)\n",
        "model"
      ],
      "metadata": {
        "colab": {
          "base_uri": "https://localhost:8080/"
        },
        "id": "HBoRc0hyCIP9",
        "outputId": "83a283d0-99a7-45d2-d782-763e2ad23b5f"
      },
      "execution_count": null,
      "outputs": [
        {
          "output_type": "execute_result",
          "data": {
            "text/plain": [
              "Mnist_CNN_Sequential(\n",
              "  (conv_block_1): Sequential(\n",
              "    (0): Conv2d(1, 32, kernel_size=(3, 3), stride=(1, 1), padding=(1, 1))\n",
              "    (1): ReLU()\n",
              "    (2): Conv2d(32, 32, kernel_size=(3, 3), stride=(1, 1), padding=(1, 1))\n",
              "    (3): ReLU()\n",
              "    (4): MaxPool2d(kernel_size=2, stride=2, padding=0, dilation=1, ceil_mode=False)\n",
              "  )\n",
              "  (conv_block_2): Sequential(\n",
              "    (0): Conv2d(32, 64, kernel_size=(3, 3), stride=(1, 1), padding=(1, 1))\n",
              "    (1): ReLU()\n",
              "    (2): Conv2d(64, 64, kernel_size=(3, 3), stride=(1, 1), padding=(1, 1))\n",
              "    (3): ReLU()\n",
              "    (4): MaxPool2d(kernel_size=2, stride=2, padding=0, dilation=1, ceil_mode=False)\n",
              "  )\n",
              "  (dropout): Dropout(p=0.25, inplace=False)\n",
              "  (fcn_block): Sequential(\n",
              "    (0): Flatten(start_dim=1, end_dim=-1)\n",
              "    (1): Linear(in_features=3136, out_features=256, bias=True)\n",
              "    (2): ReLU()\n",
              "    (3): Linear(in_features=256, out_features=128, bias=True)\n",
              "    (4): ReLU()\n",
              "    (5): Linear(in_features=128, out_features=10, bias=True)\n",
              "  )\n",
              ")"
            ]
          },
          "metadata": {},
          "execution_count": 24
        }
      ]
    },
    {
      "cell_type": "code",
      "source": [
        "# CrossEntropyLoss에 이미 소프트맥스 함수가 포함되어 있습니다.\n",
        "loss_fn = nn.CrossEntropyLoss()\n",
        "optimizer = torch.optim.Adam(model.parameters(), lr=0.0001)"
      ],
      "metadata": {
        "id": "yWIYcasPKGdY"
      },
      "execution_count": null,
      "outputs": []
    },
    {
      "cell_type": "code",
      "source": [
        "# 학습 수행\n",
        "epochs = 10\n",
        "for t in range(epochs):\n",
        "  print(f\"Epoch {t+1}\\n........................\")\n",
        "  train_loop(train_dl, model, loss_fn, optimizer)\n",
        "  test_loop(test_dl, model, loss_fn)\n",
        "\n",
        "print(\"Done!\")"
      ],
      "metadata": {
        "colab": {
          "base_uri": "https://localhost:8080/",
          "height": 245
        },
        "id": "sceGR-z3CPq1",
        "outputId": "951e9462-8d01-4642-846f-2f04657bc704"
      },
      "execution_count": null,
      "outputs": [
        {
          "output_type": "stream",
          "name": "stdout",
          "text": [
            "Epoch 1\n",
            "........................\n"
          ]
        },
        {
          "output_type": "error",
          "ename": "NameError",
          "evalue": "name 'train_loop' is not defined",
          "traceback": [
            "\u001b[0;31m---------------------------------------------------------------------------\u001b[0m",
            "\u001b[0;31mNameError\u001b[0m                                 Traceback (most recent call last)",
            "\u001b[0;32m<ipython-input-26-df374b02f558>\u001b[0m in \u001b[0;36m<cell line: 3>\u001b[0;34m()\u001b[0m\n\u001b[1;32m      3\u001b[0m \u001b[0;32mfor\u001b[0m \u001b[0mt\u001b[0m \u001b[0;32min\u001b[0m \u001b[0mrange\u001b[0m\u001b[0;34m(\u001b[0m\u001b[0mepochs\u001b[0m\u001b[0;34m)\u001b[0m\u001b[0;34m:\u001b[0m\u001b[0;34m\u001b[0m\u001b[0;34m\u001b[0m\u001b[0m\n\u001b[1;32m      4\u001b[0m   \u001b[0mprint\u001b[0m\u001b[0;34m(\u001b[0m\u001b[0;34mf\"Epoch {t+1}\\n........................\"\u001b[0m\u001b[0;34m)\u001b[0m\u001b[0;34m\u001b[0m\u001b[0;34m\u001b[0m\u001b[0m\n\u001b[0;32m----> 5\u001b[0;31m   \u001b[0mtrain_loop\u001b[0m\u001b[0;34m(\u001b[0m\u001b[0mtrain_dl\u001b[0m\u001b[0;34m,\u001b[0m \u001b[0mmodel\u001b[0m\u001b[0;34m,\u001b[0m \u001b[0mloss_fn\u001b[0m\u001b[0;34m,\u001b[0m \u001b[0moptimizer\u001b[0m\u001b[0;34m)\u001b[0m\u001b[0;34m\u001b[0m\u001b[0;34m\u001b[0m\u001b[0m\n\u001b[0m\u001b[1;32m      6\u001b[0m   \u001b[0mtest_loop\u001b[0m\u001b[0;34m(\u001b[0m\u001b[0mtest_dl\u001b[0m\u001b[0;34m,\u001b[0m \u001b[0mmodel\u001b[0m\u001b[0;34m,\u001b[0m \u001b[0mloss_fn\u001b[0m\u001b[0;34m)\u001b[0m\u001b[0;34m\u001b[0m\u001b[0;34m\u001b[0m\u001b[0m\n\u001b[1;32m      7\u001b[0m \u001b[0;34m\u001b[0m\u001b[0m\n",
            "\u001b[0;31mNameError\u001b[0m: name 'train_loop' is not defined"
          ]
        }
      ]
    },
    {
      "cell_type": "code",
      "source": [
        "model.eval()\n",
        "prediction = model(images.to(device))\n",
        "prediction.shape"
      ],
      "metadata": {
        "id": "Zj2ZpO20CROG",
        "colab": {
          "base_uri": "https://localhost:8080/"
        },
        "outputId": "ad4ba170-8e1f-4f59-dd72-fa342581f265"
      },
      "execution_count": null,
      "outputs": [
        {
          "output_type": "execute_result",
          "data": {
            "text/plain": [
              "torch.Size([64, 10])"
            ]
          },
          "metadata": {},
          "execution_count": 62
        }
      ]
    },
    {
      "cell_type": "code",
      "source": [
        "def Test_plot(model, test_DL):\n",
        "    model.eval()\n",
        "    with torch.no_grad():\n",
        "        x_batch, y_batch = next(iter(test_DL))\n",
        "        x_batch = x_batch.to(device)\n",
        "        y_hat = model(x_batch)\n",
        "        pred = y_hat.argmax(dim=1)\n",
        "\n",
        "    x_batch = x_batch.to(\"cpu\")\n",
        "\n",
        "    plt.figure(figsize=(8,4))\n",
        "    for idx in range(6):\n",
        "        plt.subplot(2,3, idx+1, xticks=[], yticks=[])\n",
        "        plt.imshow(x_batch[idx].permute(1,2,0).squeeze(), cmap=\"gray\")\n",
        "        pred_class = test_DL.dataset.classes[pred[idx]]\n",
        "        true_class = test_DL.dataset.classes[y_batch[idx]]\n",
        "        plt.title(f\"{pred_class} ({true_class})\", color = \"g\" if pred_class==true_class else \"r\")\n",
        "\n",
        "def im_plot(DL):\n",
        "    x_batch, y_batch = next(iter(DL))\n",
        "    plt.figure(figsize=(8,4))\n",
        "\n",
        "    for idx in range(6):\n",
        "        im = x_batch[idx]\n",
        "        im = im-im.min() # for imshow clipping\n",
        "        im = im/im.max() # for imshow clipping\n",
        "\n",
        "        plt.subplot(2,3, idx+1, xticks=[], yticks=[])\n",
        "        plt.imshow(im.permute(1,2,0).squeeze())\n",
        "        true_class = DL.dataset.classes[y_batch[idx]]\n",
        "        plt.title(true_class, color = \"g\")\n",
        "    print(f\"x_batch size = {x_batch.shape}\")"
      ],
      "metadata": {
        "id": "DJKB03bCGCmT"
      },
      "execution_count": null,
      "outputs": []
    },
    {
      "cell_type": "code",
      "source": [
        "Test_plot(model, test_dl)"
      ],
      "metadata": {
        "colab": {
          "base_uri": "https://localhost:8080/",
          "height": 367
        },
        "id": "LD-YzaaBEmK8",
        "outputId": "49db857c-88e9-4177-aae1-cfb3946d32b9"
      },
      "execution_count": null,
      "outputs": [
        {
          "output_type": "display_data",
          "data": {
            "text/plain": [
              "<Figure size 800x400 with 6 Axes>"
            ],
            "image/png": "[encoded data removed]"
          },
          "metadata": {}
        }
      ]
    }
  ]
}