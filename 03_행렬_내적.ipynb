{
  "nbformat": 4,
  "nbformat_minor": 0,
  "metadata": {
    "colab": {
      "provenance": [],
      "authorship_tag": "ABX9TyNx/1DvkjUhSOpFcXyX6I3H",
      "include_colab_link": true
    },
    "kernelspec": {
      "name": "python3",
      "display_name": "Python 3"
    },
    "language_info": {
      "name": "python"
    }
  },
  "cells": [
    {
      "cell_type": "markdown",
      "metadata": {
        "id": "view-in-github",
        "colab_type": "text"
      },
      "source": [
        "<a href=\"https://colab.research.google.com/github/seonae0223/Deep_Learning/blob/main/03_%ED%96%89%EB%A0%AC_%EB%82%B4%EC%A0%81.ipynb\" target=\"_parent\"><img src=\"https://colab.research.google.com/assets/colab-badge.svg\" alt=\"Open In Colab\"/></a>"
      ]
    },
    {
      "cell_type": "code",
      "execution_count": null,
      "metadata": {
        "id": "brbqp0Dmhi75"
      },
      "outputs": [],
      "source": [
        "import numpy as np"
      ]
    },
    {
      "cell_type": "markdown",
      "source": [
        "# 배열의 정보 확인"
      ],
      "metadata": {
        "id": "kx4NuIi4wLLX"
      }
    },
    {
      "cell_type": "code",
      "source": [
        "A = np.array([1, 2, 3, 4])\n",
        "\n",
        "# 배열의 차원 확인\n",
        "print(A.ndim) # ndim : 차원 확인하기\n",
        "\n",
        "# 배열의 모양(shape) 확인\n",
        "print(A.shape)"
      ],
      "metadata": {
        "colab": {
          "base_uri": "https://localhost:8080/"
        },
        "id": "8ygb1OrZwIwl",
        "outputId": "7e5d858c-3983-4f37-e0a4-7093848cd8af"
      },
      "execution_count": null,
      "outputs": [
        {
          "output_type": "stream",
          "name": "stdout",
          "text": [
            "1\n",
            "(4,)\n"
          ]
        }
      ]
    },
    {
      "cell_type": "code",
      "source": [
        "B = np.array([[1, 2],\n",
        "              [3, 4],\n",
        "              [5, 6]])\n",
        "\n",
        "print(B.ndim) # 1차원 배열의 개수\n",
        "print(B.shape) # 0차원 스칼라 배열의 개수"
      ],
      "metadata": {
        "colab": {
          "base_uri": "https://localhost:8080/"
        },
        "id": "7AqC3qS8wdn1",
        "outputId": "b39615bc-3197-4a78-acb8-74a5a8c50fa8"
      },
      "execution_count": null,
      "outputs": [
        {
          "output_type": "stream",
          "name": "stdout",
          "text": [
            "2\n",
            "(3, 2)\n"
          ]
        }
      ]
    },
    {
      "cell_type": "code",
      "source": [
        "A = np.array([[1, 2],\n",
        "              [3, 4],\n",
        "              [5, 6]])\n",
        "\n",
        "B = np.array([[10, 11],\n",
        "              [12, 13],\n",
        "              [14, 15]])"
      ],
      "metadata": {
        "id": "jxlahziUwvrM"
      },
      "execution_count": null,
      "outputs": []
    },
    {
      "cell_type": "code",
      "source": [
        "A @ B.T # (3 x 2) @ (3 x 2)^T = (3 x 2) @ (2 x 3) = (3 x 3) A와 B를 내적 (B를 Transform 해줘야 함)"
      ],
      "metadata": {
        "colab": {
          "base_uri": "https://localhost:8080/"
        },
        "id": "DzYTqIw4xIKP",
        "outputId": "a1325230-e305-4e26-f48a-65a8027f5539"
      },
      "execution_count": null,
      "outputs": [
        {
          "output_type": "execute_result",
          "data": {
            "text/plain": [
              "array([[ 32,  38,  44],\n",
              "       [ 74,  88, 102],\n",
              "       [116, 138, 160]])"
            ]
          },
          "metadata": {},
          "execution_count": 8
        }
      ]
    },
    {
      "cell_type": "code",
      "source": [
        "A.T @ B"
      ],
      "metadata": {
        "colab": {
          "base_uri": "https://localhost:8080/"
        },
        "id": "V8_2QA0fxKBK",
        "outputId": "f3cd558d-51e8-4aec-e050-ccef7c313916"
      },
      "execution_count": null,
      "outputs": [
        {
          "output_type": "execute_result",
          "data": {
            "text/plain": [
              "array([[116, 125],\n",
              "       [152, 164]])"
            ]
          },
          "metadata": {},
          "execution_count": 9
        }
      ]
    },
    {
      "cell_type": "code",
      "source": [],
      "metadata": {
        "id": "es_UWrCmxTqi"
      },
      "execution_count": null,
      "outputs": []
    }
  ]
}