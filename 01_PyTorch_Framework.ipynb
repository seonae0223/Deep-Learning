{
  "nbformat": 4,
  "nbformat_minor": 0,
  "metadata": {
    "colab": {
      "provenance": [],
      "gpuType": "T4",
      "include_colab_link": true
    },
    "kernelspec": {
      "name": "python3",
      "display_name": "Python 3"
    },
    "language_info": {
      "name": "python"
    },
    "accelerator": "GPU"
  },
  "cells": [
    {
      "cell_type": "markdown",
      "metadata": {
        "id": "view-in-github",
        "colab_type": "text"
      },
      "source": [
        "<a href=\"https://colab.research.google.com/github/seonae0223/Deep_Learning/blob/main/01_PyTorch_Framework.ipynb\" target=\"_parent\"><img src=\"https://colab.research.google.com/assets/colab-badge.svg\" alt=\"Open In Colab\"/></a>"
      ]
    },
    {
      "cell_type": "markdown",
      "source": [
        "# 파이토치(PyTorch란?)\n",
        "- PyTorch는 머신러닝 프레임워크 입니다.\n",
        "  - PyTorch의 Tensor는 Numpy배열과 매우 흡사합니다.\n",
        "- PyTorch를 사용하면 GPU 연동을 통해 효율적으로 딥러닝 모델을 학습할 수 있습니다."
      ],
      "metadata": {
        "id": "CoAHRoR2LjzT"
      }
    },
    {
      "cell_type": "code",
      "source": [
        "import torch"
      ],
      "metadata": {
        "id": "8tu25pS2MXdD"
      },
      "execution_count": null,
      "outputs": []
    },
    {
      "cell_type": "markdown",
      "source": [
        "## 1) GPU 사용여부 체크하기\n",
        "- Colab 기준 **[수정 - 노트설정 - 하드웨어 가속기]**를 GPU로 바꿔줍니다.\n",
        "\n",
        "GPU\n",
        "- 모델의 학습(미분-역전파), 추론(내적)에 사용한다.\n",
        "- 추론(내적)용 GPU가 따로 존재한다.(기업용)\n",
        "- CPU도 해당 연산을 실행할 수 있지만, 단순한 계산 능력이 많이 필요한 작업이기 때문에 CPU 보다 단순 계산을 많이 할 수 있는 GPU를 사용하는게 적합함.\n",
        "- GPU는 고성능 연산 처리 장치로, 계산 능력이 CPU 보다는 뛰어나지만 계산을 하는 자원이 많지는 않다.\n",
        "- tensor 라는 배열에서 VRAM에 들어가게 되면, GPU를 사용해야 함.\n",
        "\n",
        "CPU\n",
        "- Data를 불러내서 시각화하고, 분석한다.\n",
        "- tensor 라는 배열에서 RAM에 들어가게 되면, CPU를 사용해야 함.\n"
      ],
      "metadata": {
        "id": "dFlkstZaMErx"
      }
    },
    {
      "cell_type": "code",
      "source": [
        "data = [[1, 2],\n",
        "        [3, 4]]\n",
        "\n",
        "x = torch.tensor(data)\n",
        "print(x.is_cuda)\n",
        "\n",
        "# Tensor를 GPU로 옮기기\n",
        "x = x.cuda()\n",
        "print(x.is_cuda)\n",
        "\n",
        "# Tensor를 CPU로 옮기기\n",
        "x = x.cpu()\n",
        "print(x.is_cuda)"
      ],
      "metadata": {
        "colab": {
          "base_uri": "https://localhost:8080/"
        },
        "id": "F_VacU34MHkz",
        "outputId": "bd1eec6d-5508-46ba-a08b-1af69dd8a35b"
      },
      "execution_count": null,
      "outputs": [
        {
          "output_type": "stream",
          "name": "stdout",
          "text": [
            "False\n",
            "True\n",
            "False\n"
          ]
        }
      ]
    },
    {
      "cell_type": "markdown",
      "source": [
        "서로 다른 장치(device)에 있는 텐서끼리 연산을 수행하면 오류가 발생합니다."
      ],
      "metadata": {
        "id": "usu6JJAQMjgC"
      }
    },
    {
      "cell_type": "markdown",
      "source": [
        "# 텐서 생성하기\n",
        "- PyTorch의 텐서(tensor)는 기능적으로 넘파이(numpy)와 매우 유사합니다.\n",
        "- 기본적으로 **다차원 배열**을 처리하기에 적합한 자료구조로 이해할 수 있습니다.\n",
        "- PyTorch의 텐서는 **\"자동 미분\"**기능을 제공합니다."
      ],
      "metadata": {
        "id": "d3MfygPvMwKS"
      }
    },
    {
      "cell_type": "markdown",
      "source": [
        "## 1) 텐서의 속성\n",
        "- 텐서의 기본 속성은 다음과 같습니다.\n",
        "  - 모양(shape)\n",
        "  - 자료형(data type)\n",
        "  - 저장된 장치(device)"
      ],
      "metadata": {
        "id": "bp9J8k_8M_gi"
      }
    },
    {
      "cell_type": "code",
      "source": [
        "tensor = torch.rand(3, 4)\n",
        "\n",
        "print(tensor)\n",
        "print(f\"Shape : {tensor.shape}\")\n",
        "print(f\"Data Type : {tensor.dtype}\")\n",
        "print(f\"Device : {tensor.device}\")"
      ],
      "metadata": {
        "colab": {
          "base_uri": "https://localhost:8080/"
        },
        "id": "eVTRJquqNJdD",
        "outputId": "94e207d5-80dd-40b6-dd4a-a7936a9486ce"
      },
      "execution_count": null,
      "outputs": [
        {
          "output_type": "stream",
          "name": "stdout",
          "text": [
            "tensor([[0.1684, 0.3716, 0.3932, 0.5118],\n",
            "        [0.1809, 0.0949, 0.0939, 0.8040],\n",
            "        [0.6314, 0.8918, 0.4972, 0.7828]])\n",
            "Shape : torch.Size([3, 4])\n",
            "Data Type : torch.float32\n",
            "Device : cpu\n"
          ]
        }
      ]
    },
    {
      "cell_type": "markdown",
      "source": [
        "## 2) 텐서 생성하기\n",
        "- 파이썬의 `list`에서 직접 텐서를 생성할 수 있습니다."
      ],
      "metadata": {
        "id": "bg_ZExtANSSL"
      }
    },
    {
      "cell_type": "code",
      "source": [
        "data = [[1, 2],\n",
        "        [3, 4]]\n",
        "\n",
        "x = torch.tensor(data)\n",
        "print(x)"
      ],
      "metadata": {
        "colab": {
          "base_uri": "https://localhost:8080/"
        },
        "id": "jwL2RvsANari",
        "outputId": "a4ef57df-055b-4d56-f963-97aa247c12e4"
      },
      "execution_count": null,
      "outputs": [
        {
          "output_type": "stream",
          "name": "stdout",
          "text": [
            "tensor([[1, 2],\n",
            "        [3, 4]])\n"
          ]
        }
      ]
    },
    {
      "cell_type": "markdown",
      "source": [
        "- numpy 배열에서 텐서를 생성할 수 있습니다."
      ],
      "metadata": {
        "id": "fqh0DDVBNgGC"
      }
    },
    {
      "cell_type": "code",
      "source": [
        "a = torch.tensor([5])\n",
        "b = torch.tensor([7])\n",
        "\n",
        "c = (a + b).numpy()\n",
        "print(type(c))"
      ],
      "metadata": {
        "colab": {
          "base_uri": "https://localhost:8080/"
        },
        "id": "xNv9cxNwNkGa",
        "outputId": "e56c5bb2-cdd9-441e-ccbe-1d5cacf40ee7"
      },
      "execution_count": null,
      "outputs": [
        {
          "output_type": "stream",
          "name": "stdout",
          "text": [
            "<class 'numpy.ndarray'>\n"
          ]
        }
      ]
    },
    {
      "cell_type": "code",
      "source": [
        "result = c * 10\n",
        "tensor = torch.from_numpy(result)\n",
        "print(tensor)\n",
        "print(type(tensor))"
      ],
      "metadata": {
        "colab": {
          "base_uri": "https://localhost:8080/"
        },
        "id": "4zxkmd3QNqvq",
        "outputId": "b0752c1b-0639-420f-e0c9-d034e49f4943"
      },
      "execution_count": null,
      "outputs": [
        {
          "output_type": "stream",
          "name": "stdout",
          "text": [
            "tensor([120])\n",
            "<class 'torch.Tensor'>\n"
          ]
        }
      ]
    },
    {
      "cell_type": "markdown",
      "source": [
        "## 3) 다른 텐서로부터 텐서 초기화 하기\n",
        "- 다른 텐서의 정보를 토대로 텐서를 초기화 할 수 있습니다.\n",
        "- **텐서의 속성**이란? 모양(shape)과 자료형(data type)을 일컫습니다."
      ],
      "metadata": {
        "id": "Wg6ZFRfNNwHy"
      }
    },
    {
      "cell_type": "code",
      "source": [
        "x = torch.tensor([[5, 7],\n",
        "                  [1, 2]])\n",
        "\n",
        "# 텐서 x와 같은 모양을 가지지만, 값이 1인 텐서 생성하기\n",
        "x_ones = torch.ones_like(x)\n",
        "print(x_ones)"
      ],
      "metadata": {
        "colab": {
          "base_uri": "https://localhost:8080/"
        },
        "id": "H7-x_oK3N8eZ",
        "outputId": "7760b36a-dbe2-4894-c365-68430fc89329"
      },
      "execution_count": null,
      "outputs": [
        {
          "output_type": "stream",
          "name": "stdout",
          "text": [
            "tensor([[1, 1],\n",
            "        [1, 1]])\n"
          ]
        }
      ]
    },
    {
      "cell_type": "code",
      "source": [
        "# 텐서 x와 같은 모양을 가지지만, 자료형을 float으로, 값은 랜덤하게 채우기\n",
        "x_rand = torch.rand_like(x, dtype=torch.float32) # uniform distribution [0, 1]\n",
        "print(x_rand)"
      ],
      "metadata": {
        "colab": {
          "base_uri": "https://localhost:8080/"
        },
        "id": "ZLDei5b1OG_i",
        "outputId": "4fce2113-cc06-4f22-932d-3700fdce2c32"
      },
      "execution_count": null,
      "outputs": [
        {
          "output_type": "stream",
          "name": "stdout",
          "text": [
            "tensor([[0.8437, 0.3930],\n",
            "        [0.2625, 0.2956]])\n"
          ]
        }
      ]
    },
    {
      "cell_type": "markdown",
      "source": [
        "# 텐서의 형변환 및 차원 조작\n",
        "- 텐서는 넘파이 배열처럼 조작이 가능합니다."
      ],
      "metadata": {
        "id": "w9_vrf1FOQga"
      }
    },
    {
      "cell_type": "markdown",
      "source": [
        "## 1) 텐서의 특정 차원에 접근하기\n",
        "- 텐서의 원하는 차원에 접근할 수 있습니다.\n",
        "- axis=0  == dim=0 이므로 가로축을 의미"
      ],
      "metadata": {
        "id": "fWdGTxYWPoxa"
      }
    },
    {
      "cell_type": "code",
      "source": [
        "tensor = torch.tensor([\n",
        "    [1, 2, 3, 4],\n",
        "    [5, 6, 7, 8],\n",
        "    [9, 10, 11, 12]\n",
        "])\n",
        "\n",
        "print(tensor[0])\n",
        "print(tensor[:, 0])\n",
        "print(tensor[..., -1]) # ... : 스프레드 연산. tensor의 모든 데이터를 선택"
      ],
      "metadata": {
        "colab": {
          "base_uri": "https://localhost:8080/"
        },
        "id": "-HWa7yXqPsx5",
        "outputId": "47d3d349-2c0f-4a45-a005-f4d80b3ca09b"
      },
      "execution_count": null,
      "outputs": [
        {
          "output_type": "stream",
          "name": "stdout",
          "text": [
            "tensor([1, 2, 3, 4])\n",
            "tensor([1, 5, 9])\n",
            "tensor([ 4,  8, 12])\n"
          ]
        }
      ]
    },
    {
      "cell_type": "markdown",
      "source": [
        "## 2) 텐서 이어붙이기\n",
        "-텐서를 이어서 새로운 텐서를 만들 수 있습니다."
      ],
      "metadata": {
        "id": "qbxZu7H0P38y"
      }
    },
    {
      "cell_type": "markdown",
      "source": [
        "### 2-1) cat\n",
        "단순하게 텐서를 축(dim)에 맞춰 연결합니다."
      ],
      "metadata": {
        "id": "dBQrwPD7l8bv"
      }
    },
    {
      "cell_type": "code",
      "source": [
        "tensor1 = torch.tensor([\n",
        "    [1, 2, 3, 4],\n",
        "    [5, 6, 7, 8],\n",
        "    [9, 10, 11, 12]\n",
        "])\n",
        "\n",
        "tensor2 = torch.tensor([\n",
        "    [13, 14, 15, 16],\n",
        "    [17, 18, 19, 20],\n",
        "    [21, 22, 23, 24]\n",
        "])\n",
        "\n",
        "# dim : 텐서의 축\n",
        "# 0번 축을 기준으로 이어 붙입니다.\n",
        "result = torch.cat([tensor1, tensor2], dim=0)\n",
        "print(result)\n",
        "\n",
        "print()\n",
        "# 1번 축을 기준으로 이어 붙입니다.\n",
        "result = torch.cat([tensor1, tensor2], dim=1)\n",
        "print(result)"
      ],
      "metadata": {
        "colab": {
          "base_uri": "https://localhost:8080/"
        },
        "id": "PIXqSEKUWK4z",
        "outputId": "b6ab2c3e-7644-4c5a-c3a1-a0929fb39130"
      },
      "execution_count": null,
      "outputs": [
        {
          "output_type": "stream",
          "name": "stdout",
          "text": [
            "tensor([[ 1,  2,  3,  4],\n",
            "        [ 5,  6,  7,  8],\n",
            "        [ 9, 10, 11, 12],\n",
            "        [13, 14, 15, 16],\n",
            "        [17, 18, 19, 20],\n",
            "        [21, 22, 23, 24]])\n",
            "\n",
            "tensor([[ 1,  2,  3,  4, 13, 14, 15, 16],\n",
            "        [ 5,  6,  7,  8, 17, 18, 19, 20],\n",
            "        [ 9, 10, 11, 12, 21, 22, 23, 24]])\n"
          ]
        }
      ]
    },
    {
      "cell_type": "markdown",
      "source": [
        "### 2-2) stack\n",
        "리스트 내의 텐서를 쌓아줍니다. 차원수가 증가합니다. 예를 들어 2차원 배열과 2차원 배열을 쌓은 3차원 배열을 만들어 줍니다.\n",
        "\n",
        "- stack은 차원이 늘어나지만, concat은 차원이 늘어나지 않고 이어붙일 수 있다."
      ],
      "metadata": {
        "id": "TWs4lp_9mBH9"
      }
    },
    {
      "cell_type": "code",
      "source": [
        "tensor1 = torch.tensor([\n",
        "    [1, 2, 3, 4],\n",
        "    [5, 6, 7, 8],\n",
        "    [9, 10, 11, 12]\n",
        "])\n",
        "\n",
        "tensor2 = torch.tensor([\n",
        "    [13, 14, 15, 16],\n",
        "    [17, 18, 19, 20],\n",
        "    [21, 22, 23, 24]\n",
        "])\n",
        "\n",
        "tensor3 = torch.stack([tensor1, tensor2])\n",
        "tensor3"
      ],
      "metadata": {
        "colab": {
          "base_uri": "https://localhost:8080/"
        },
        "id": "iSe0ReDKmHK2",
        "outputId": "69a5abda-3091-4819-dab6-5bf1892769e2"
      },
      "execution_count": null,
      "outputs": [
        {
          "output_type": "execute_result",
          "data": {
            "text/plain": [
              "tensor([[[ 1,  2,  3,  4],\n",
              "         [ 5,  6,  7,  8],\n",
              "         [ 9, 10, 11, 12]],\n",
              "\n",
              "        [[13, 14, 15, 16],\n",
              "         [17, 18, 19, 20],\n",
              "         [21, 22, 23, 24]]])"
            ]
          },
          "metadata": {},
          "execution_count": 11
        }
      ]
    },
    {
      "cell_type": "markdown",
      "source": [
        "## 3) 텐서 자르기(slice)"
      ],
      "metadata": {
        "id": "FDwjwhpTi7E_"
      }
    },
    {
      "cell_type": "code",
      "source": [
        "tensor1 = torch.tensor([[1,2,3,4],\n",
        "                        [5,6,7,8]])\n",
        "\n",
        "tensor2 = tensor1[:, 0]\n",
        "print(tensor2)"
      ],
      "metadata": {
        "colab": {
          "base_uri": "https://localhost:8080/"
        },
        "id": "WruuA0-ji-Ml",
        "outputId": "db1e3474-6896-44d6-ae40-1360f9fdb459"
      },
      "execution_count": null,
      "outputs": [
        {
          "output_type": "stream",
          "name": "stdout",
          "text": [
            "tensor([1, 5])\n"
          ]
        }
      ]
    },
    {
      "cell_type": "code",
      "source": [
        "tensor3 = tensor1[:, 1:3:2]\n",
        "print(tensor3)"
      ],
      "metadata": {
        "colab": {
          "base_uri": "https://localhost:8080/"
        },
        "id": "qF5r5thEi-P1",
        "outputId": "017fe67a-2f52-4f95-b02b-a45b4e50b1b9"
      },
      "execution_count": null,
      "outputs": [
        {
          "output_type": "stream",
          "name": "stdout",
          "text": [
            "tensor([[2],\n",
            "        [6]])\n"
          ]
        }
      ]
    },
    {
      "cell_type": "code",
      "source": [
        "tensor3 = tensor1[0, 1:3]\n",
        "print(tensor3)"
      ],
      "metadata": {
        "colab": {
          "base_uri": "https://localhost:8080/"
        },
        "id": "7d2plWG3i-SN",
        "outputId": "560117a1-4c67-4bf2-ad80-0b65257e9685"
      },
      "execution_count": null,
      "outputs": [
        {
          "output_type": "stream",
          "name": "stdout",
          "text": [
            "tensor([2, 3])\n"
          ]
        }
      ]
    },
    {
      "cell_type": "code",
      "source": [
        "tensor1 = torch.tensor([[[1, 2],\n",
        "                         [3, 4]],\n",
        "\n",
        "                        [[5, 6],\n",
        "                         [7, 8]],\n",
        "\n",
        "                        [[9, 10],\n",
        "                         [11,12]]])\n",
        "\n",
        "print(tensor1[0])\n",
        "print(tensor1[0, :])\n",
        "print(tensor1[0, :, 0])"
      ],
      "metadata": {
        "colab": {
          "base_uri": "https://localhost:8080/"
        },
        "id": "g8xkDzR5i-U2",
        "outputId": "46cfbcde-a1a6-48e4-cebc-7557afbe6dbe"
      },
      "execution_count": null,
      "outputs": [
        {
          "output_type": "stream",
          "name": "stdout",
          "text": [
            "tensor([[1, 2],\n",
            "        [3, 4]])\n",
            "tensor([[1, 2],\n",
            "        [3, 4]])\n",
            "tensor([1, 3])\n"
          ]
        }
      ]
    },
    {
      "cell_type": "code",
      "source": [
        "print(tensor1[-1])\n",
        "print(tensor1[-1, :])\n",
        "print(tensor1[-1, :, :])"
      ],
      "metadata": {
        "colab": {
          "base_uri": "https://localhost:8080/"
        },
        "id": "GS5jVIwWi-XG",
        "outputId": "dfaf0c3e-85ac-4f61-ace5-8c60e08a58dd"
      },
      "execution_count": null,
      "outputs": [
        {
          "output_type": "stream",
          "name": "stdout",
          "text": [
            "tensor([[ 9, 10],\n",
            "        [11, 12]])\n",
            "tensor([[ 9, 10],\n",
            "        [11, 12]])\n",
            "tensor([[ 9, 10],\n",
            "        [11, 12]])\n"
          ]
        }
      ]
    },
    {
      "cell_type": "code",
      "source": [
        "print(tensor1[1:3, :, :].shape)\n",
        "print(tensor1[:, 1, :].shape)\n",
        "print(tensor1[:, :-1, :].shape)"
      ],
      "metadata": {
        "colab": {
          "base_uri": "https://localhost:8080/"
        },
        "id": "W8qu9-1Ji-ZW",
        "outputId": "d956eeed-d4f5-475e-9583-16ede82669bd"
      },
      "execution_count": null,
      "outputs": [
        {
          "output_type": "stream",
          "name": "stdout",
          "text": [
            "torch.Size([2, 2, 2])\n",
            "torch.Size([3, 2])\n",
            "torch.Size([3, 1, 2])\n"
          ]
        }
      ]
    },
    {
      "cell_type": "markdown",
      "source": [
        "### 3-1) split\n",
        "지정한 size만큼 tensor를 쪼개어 줍니다."
      ],
      "metadata": {
        "id": "tCPg76_wkbM2"
      }
    },
    {
      "cell_type": "code",
      "source": [
        "tensor1 = torch.rand(17, 4)\n",
        "\n",
        "splits = tensor1.split(4, dim=0)\n",
        "for s in splits:\n",
        "  print(s.shape)"
      ],
      "metadata": {
        "colab": {
          "base_uri": "https://localhost:8080/"
        },
        "id": "uR8T54eKkgsN",
        "outputId": "266be453-7413-4034-dd78-03d11c2def68"
      },
      "execution_count": null,
      "outputs": [
        {
          "output_type": "stream",
          "name": "stdout",
          "text": [
            "torch.Size([4, 4])\n",
            "torch.Size([4, 4])\n",
            "torch.Size([4, 4])\n",
            "torch.Size([4, 4])\n",
            "torch.Size([1, 4])\n"
          ]
        }
      ]
    },
    {
      "cell_type": "markdown",
      "source": [
        "### 3-2) chunk\n",
        "지정한 개수만큼 쪼개어진 텐서를 만들어 냅니다."
      ],
      "metadata": {
        "id": "MZp95qepky9F"
      }
    },
    {
      "cell_type": "code",
      "source": [
        "tensor1 = torch.rand(17, 4)\n",
        "\n",
        "chunks = tensor1.chunk(4, dim=0)\n",
        "for c in chunks:\n",
        "  print(c.shape)"
      ],
      "metadata": {
        "colab": {
          "base_uri": "https://localhost:8080/"
        },
        "id": "skcoaBG5k4Xl",
        "outputId": "a09302ea-fe2e-42c8-ff7c-c559d35b8a26"
      },
      "execution_count": null,
      "outputs": [
        {
          "output_type": "stream",
          "name": "stdout",
          "text": [
            "torch.Size([5, 4])\n",
            "torch.Size([5, 4])\n",
            "torch.Size([5, 4])\n",
            "torch.Size([2, 4])\n"
          ]
        }
      ]
    },
    {
      "cell_type": "markdown",
      "source": [
        "### 3-3) index_select\n",
        "인덱스를 이용해 해당 위치의 텐서를 참조합니다."
      ],
      "metadata": {
        "id": "x5ohgUBalMLu"
      }
    },
    {
      "cell_type": "code",
      "source": [
        "tensor1 = torch.tensor([[[1, 2],\n",
        "                         [3, 4]],\n",
        "\n",
        "                        [[5, 6],\n",
        "                         [7, 8]],\n",
        "\n",
        "                        [[9, 10],\n",
        "                         [11,12]]])\n",
        "\n",
        "indice = torch.tensor([2, 0])\n",
        "print(indice)\n",
        "\n",
        "tensor2 = tensor1.index_select(dim=0, index=indice)\n",
        "print(tensor2)"
      ],
      "metadata": {
        "colab": {
          "base_uri": "https://localhost:8080/"
        },
        "id": "AKXjGV36lT5N",
        "outputId": "0a3a0dad-6fe1-437e-a0a2-4ca0fcd9e5e9"
      },
      "execution_count": null,
      "outputs": [
        {
          "output_type": "stream",
          "name": "stdout",
          "text": [
            "tensor([2, 0])\n",
            "tensor([[[ 9, 10],\n",
            "         [11, 12]],\n",
            "\n",
            "        [[ 1,  2],\n",
            "         [ 3,  4]]])\n"
          ]
        }
      ]
    },
    {
      "cell_type": "markdown",
      "source": [
        "## 4) 텐서 형변환(type casting)\n",
        "- 텐서의 자료형을 변환할 수 있습니다."
      ],
      "metadata": {
        "id": "DspSCPCkWhPz"
      }
    },
    {
      "cell_type": "code",
      "source": [
        "tensor1 = torch.tensor([2], dtype=torch.int)\n",
        "tensor2 = torch.tensor([5.0])\n",
        "\n",
        "print(tensor1.dtype)\n",
        "print(tensor2.dtype)"
      ],
      "metadata": {
        "colab": {
          "base_uri": "https://localhost:8080/"
        },
        "id": "QuCZAIOAWwv7",
        "outputId": "8e07f0d2-48d7-43b1-9d6c-77a248979cdd"
      },
      "execution_count": null,
      "outputs": [
        {
          "output_type": "stream",
          "name": "stdout",
          "text": [
            "torch.int32\n",
            "torch.float32\n"
          ]
        }
      ]
    },
    {
      "cell_type": "code",
      "source": [
        "print(tensor1 + tensor2)\n",
        "print((tensor1 + tensor2).dtype)"
      ],
      "metadata": {
        "colab": {
          "base_uri": "https://localhost:8080/"
        },
        "id": "BHQ-2AL_W3ZU",
        "outputId": "7f7549c9-b2ff-4ffd-96ab-5899bfae2116"
      },
      "execution_count": null,
      "outputs": [
        {
          "output_type": "stream",
          "name": "stdout",
          "text": [
            "tensor([7.])\n",
            "torch.float32\n"
          ]
        }
      ]
    },
    {
      "cell_type": "code",
      "source": [
        "print((tensor1 + tensor2.type(torch.int)))"
      ],
      "metadata": {
        "colab": {
          "base_uri": "https://localhost:8080/"
        },
        "id": "aXTlAeBXW7aT",
        "outputId": "5fbf9271-28b9-4e96-f909-b6c6cc4e4974"
      },
      "execution_count": null,
      "outputs": [
        {
          "output_type": "stream",
          "name": "stdout",
          "text": [
            "tensor([7], dtype=torch.int32)\n"
          ]
        }
      ]
    },
    {
      "cell_type": "markdown",
      "source": [
        "## 5) 텐서의 모양 변경"
      ],
      "metadata": {
        "id": "b_uoDbe7XM37"
      }
    },
    {
      "cell_type": "markdown",
      "source": [
        "### 5-1) view\n",
        "- 텐서를 원하는 개수로 각 차원에 매핑하여 텐서의 차원을 시킬 수 있습니다."
      ],
      "metadata": {
        "id": "9wg4BWsIZFeN"
      }
    },
    {
      "cell_type": "code",
      "source": [
        "tensor1 = torch.tensor([1, 2, 3, 4, 5, 6, 7, 8])"
      ],
      "metadata": {
        "id": "BqGiUj1gaS1d"
      },
      "execution_count": null,
      "outputs": []
    },
    {
      "cell_type": "code",
      "source": [
        "tensor2 = tensor1.view(4, 2)\n",
        "\n",
        "print(f\"tensor1 : {tensor1}\")\n",
        "print(f\"tensor2 : {tensor2}\")"
      ],
      "metadata": {
        "colab": {
          "base_uri": "https://localhost:8080/"
        },
        "id": "I2vnGOd8XUoT",
        "outputId": "5019f452-1668-449c-eeff-2406eedad155"
      },
      "execution_count": null,
      "outputs": [
        {
          "output_type": "stream",
          "name": "stdout",
          "text": [
            "tensor1 : tensor([1, 2, 3, 4, 5, 6, 7, 8])\n",
            "tensor2 : tensor([[1, 2],\n",
            "        [3, 4],\n",
            "        [5, 6],\n",
            "        [7, 8]])\n"
          ]
        }
      ]
    },
    {
      "cell_type": "code",
      "source": [
        "# tensor1의 값을 변경하면 tensor2도 변경이 된다.\n",
        "tensor1[0] = 7\n",
        "print(tensor2)"
      ],
      "metadata": {
        "colab": {
          "base_uri": "https://localhost:8080/"
        },
        "id": "axAmTsyOXgob",
        "outputId": "d05ffc20-c033-4031-85cc-2fdfb48e9850"
      },
      "execution_count": null,
      "outputs": [
        {
          "output_type": "stream",
          "name": "stdout",
          "text": [
            "tensor([[7, 2],\n",
            "        [3, 4],\n",
            "        [5, 6],\n",
            "        [7, 8]])\n"
          ]
        }
      ]
    },
    {
      "cell_type": "code",
      "source": [
        "# tensor1을 복사하여 변경하면 tensor1을 변경해도 tensor2는 변경이 안된다.\n",
        "tensor3 = tensor1.clone().view(4, 2)\n",
        "tensor1[0] = 20\n",
        "\n",
        "print(tensor3)"
      ],
      "metadata": {
        "colab": {
          "base_uri": "https://localhost:8080/"
        },
        "id": "nhO1BsgwXm1b",
        "outputId": "ea8e6477-1795-4f0a-c5cf-a56cc5993f80"
      },
      "execution_count": null,
      "outputs": [
        {
          "output_type": "stream",
          "name": "stdout",
          "text": [
            "tensor([[7, 2],\n",
            "        [3, 4],\n",
            "        [5, 6],\n",
            "        [7, 8]])\n"
          ]
        }
      ]
    },
    {
      "cell_type": "code",
      "source": [
        "# -1을 이용하면 비워져 있는 차원의 값이 적절하게 채워진다.\n",
        "tensor4 = tensor1.view(-1, 4)\n",
        "print(tensor4)"
      ],
      "metadata": {
        "id": "dQx5kq2qf2st",
        "colab": {
          "base_uri": "https://localhost:8080/"
        },
        "outputId": "73e48b0e-34e7-4690-a64f-51d43347d989"
      },
      "execution_count": null,
      "outputs": [
        {
          "output_type": "stream",
          "name": "stdout",
          "text": [
            "tensor([[20,  2,  3,  4],\n",
            "        [ 5,  6,  7,  8]])\n"
          ]
        }
      ]
    },
    {
      "cell_type": "markdown",
      "source": [
        "### 5-2) reshape\n",
        "- view()와 비슷하나, 텐서가 메모리 상에 연속적이지 않아도(not contiguous) shape이 변경 됩니다."
      ],
      "metadata": {
        "id": "3EDzu9lmXwk7"
      }
    },
    {
      "cell_type": "code",
      "source": [
        "tensor1 = torch.tensor([1, 2, 3, 4, 5, 6, 7, 8])"
      ],
      "metadata": {
        "id": "6CmLu4SKaokU"
      },
      "execution_count": null,
      "outputs": []
    },
    {
      "cell_type": "code",
      "source": [
        "tensor2 = tensor1.reshape(4, 2)\n",
        "\n",
        "print(f\"tensor2 : {tensor2}\")"
      ],
      "metadata": {
        "colab": {
          "base_uri": "https://localhost:8080/"
        },
        "id": "duKBFwYIZTRc",
        "outputId": "cf0cb886-4987-4a04-ec46-89d8d0922b57"
      },
      "execution_count": null,
      "outputs": [
        {
          "output_type": "stream",
          "name": "stdout",
          "text": [
            "tensor2 : tensor([[1, 2],\n",
            "        [3, 4],\n",
            "        [5, 6],\n",
            "        [7, 8]])\n"
          ]
        }
      ]
    },
    {
      "cell_type": "markdown",
      "source": [
        "# 텐서의 연산"
      ],
      "metadata": {
        "id": "JKEaWkjhZe8M"
      }
    },
    {
      "cell_type": "code",
      "source": [
        "a = torch.tensor([[1, 2],\n",
        "                  [3, 4]])\n",
        "\n",
        "b = torch.tensor([[2, 2],\n",
        "                  [3, 3]])"
      ],
      "metadata": {
        "id": "z_-Wfoq9oIzn"
      },
      "execution_count": null,
      "outputs": []
    },
    {
      "cell_type": "code",
      "source": [
        "print(a + b)"
      ],
      "metadata": {
        "colab": {
          "base_uri": "https://localhost:8080/"
        },
        "id": "Nc0AZ1pvoQoU",
        "outputId": "9e0648a0-ccd4-494d-8125-ab5a45c9dcf5"
      },
      "execution_count": null,
      "outputs": [
        {
          "output_type": "stream",
          "name": "stdout",
          "text": [
            "tensor([[3, 4],\n",
            "        [6, 7]])\n"
          ]
        }
      ]
    },
    {
      "cell_type": "code",
      "source": [
        "print(a - b)"
      ],
      "metadata": {
        "colab": {
          "base_uri": "https://localhost:8080/"
        },
        "id": "-vkzqCAMoRZl",
        "outputId": "e961f855-bc30-4bda-cef7-b6f30cce501c"
      },
      "execution_count": null,
      "outputs": [
        {
          "output_type": "stream",
          "name": "stdout",
          "text": [
            "tensor([[-1,  0],\n",
            "        [ 0,  1]])\n"
          ]
        }
      ]
    },
    {
      "cell_type": "code",
      "source": [
        "print(a * b)"
      ],
      "metadata": {
        "colab": {
          "base_uri": "https://localhost:8080/"
        },
        "id": "Cs4NoN9yoSA2",
        "outputId": "0600071c-447f-4033-98e5-29d89ddc4444"
      },
      "execution_count": null,
      "outputs": [
        {
          "output_type": "stream",
          "name": "stdout",
          "text": [
            "tensor([[ 2,  4],\n",
            "        [ 9, 12]])\n"
          ]
        }
      ]
    },
    {
      "cell_type": "code",
      "source": [
        "print(a / b)"
      ],
      "metadata": {
        "colab": {
          "base_uri": "https://localhost:8080/"
        },
        "id": "n2oK9juXoSoN",
        "outputId": "c2c719ac-3908-4d2a-b480-1f105eb532b2"
      },
      "execution_count": null,
      "outputs": [
        {
          "output_type": "stream",
          "name": "stdout",
          "text": [
            "tensor([[0.5000, 1.0000],\n",
            "        [1.0000, 1.3333]])\n"
          ]
        }
      ]
    },
    {
      "cell_type": "code",
      "source": [
        "print( a == b )"
      ],
      "metadata": {
        "colab": {
          "base_uri": "https://localhost:8080/"
        },
        "id": "Z0xfsVfioTLd",
        "outputId": "a957abf7-18d5-49c9-864f-431ec0a9f5ba"
      },
      "execution_count": null,
      "outputs": [
        {
          "output_type": "stream",
          "name": "stdout",
          "text": [
            "tensor([[False,  True],\n",
            "        [ True, False]])\n"
          ]
        }
      ]
    },
    {
      "cell_type": "code",
      "source": [
        "print( a != b )"
      ],
      "metadata": {
        "colab": {
          "base_uri": "https://localhost:8080/"
        },
        "id": "hA0Lxu12oT1l",
        "outputId": "c146285a-78b5-4d36-da2f-45ce2f8ab1de"
      },
      "execution_count": null,
      "outputs": [
        {
          "output_type": "stream",
          "name": "stdout",
          "text": [
            "tensor([[ True, False],\n",
            "        [False,  True]])\n"
          ]
        }
      ]
    },
    {
      "cell_type": "code",
      "source": [
        "print( a ** b )"
      ],
      "metadata": {
        "colab": {
          "base_uri": "https://localhost:8080/"
        },
        "id": "ZwWmXH5noZkF",
        "outputId": "6c369fab-edd2-4ae2-80fc-457ffa963da0"
      },
      "execution_count": null,
      "outputs": [
        {
          "output_type": "stream",
          "name": "stdout",
          "text": [
            "tensor([[ 1,  4],\n",
            "        [27, 64]])\n"
          ]
        }
      ]
    },
    {
      "cell_type": "markdown",
      "source": [
        "## Inplace 연산\n",
        "Inplace 연산은 텐서의 실제 값을 바꿔주는 연산을 의미합니다."
      ],
      "metadata": {
        "id": "sRbt1hDSoarV"
      }
    },
    {
      "cell_type": "code",
      "source": [
        "print(a)\n",
        "print(a.mul(b))\n",
        "print(a)"
      ],
      "metadata": {
        "colab": {
          "base_uri": "https://localhost:8080/"
        },
        "id": "T-z2DgySol4t",
        "outputId": "4b22f224-dc7c-4dcd-b375-d34d3750eb0e"
      },
      "execution_count": null,
      "outputs": [
        {
          "output_type": "stream",
          "name": "stdout",
          "text": [
            "tensor([[1, 2],\n",
            "        [3, 4]])\n",
            "tensor([[ 2,  4],\n",
            "        [ 9, 12]])\n",
            "tensor([[1, 2],\n",
            "        [3, 4]])\n"
          ]
        }
      ]
    },
    {
      "cell_type": "code",
      "source": [
        "# a와 b의 Element wise product를 수행한 후 도로 a에 넣습니다.\n",
        "# 연산 함수 뒤에 언더바(_)가 보통 붙습니다.\n",
        "print(a.mul_(b))\n",
        "print(a)"
      ],
      "metadata": {
        "colab": {
          "base_uri": "https://localhost:8080/"
        },
        "id": "tEvwgceBooXt",
        "outputId": "2f4705ba-6075-4cc6-e806-d0e22b79ae9e"
      },
      "execution_count": null,
      "outputs": [
        {
          "output_type": "stream",
          "name": "stdout",
          "text": [
            "tensor([[ 2,  4],\n",
            "        [ 9, 12]])\n",
            "tensor([[ 2,  4],\n",
            "        [ 9, 12]])\n"
          ]
        }
      ]
    },
    {
      "cell_type": "markdown",
      "source": [
        "## 차원 감소 연산\n",
        "주로 합계나 평균 등 차원 축에 따라 연산이 된 후 감소가 되는 연산을 의미합니다."
      ],
      "metadata": {
        "id": "iyCEYT8uorr1"
      }
    },
    {
      "cell_type": "code",
      "source": [
        "a = torch.tensor([[1, 2],\n",
        "                  [3, 4]], dtype=torch.float)\n",
        "\n",
        "# 차원을 따로 지정하지 않으면 텐서 내 모든 데이터에 대한 연산이 이뤄진 후 스칼라 값으로 표현\n",
        "print(a.sum())\n",
        "print(a.mean())"
      ],
      "metadata": {
        "colab": {
          "base_uri": "https://localhost:8080/"
        },
        "id": "IIaaKfhZo4DW",
        "outputId": "e77b402e-f2c1-477d-eee6-a3b693d5d1c3"
      },
      "execution_count": null,
      "outputs": [
        {
          "output_type": "stream",
          "name": "stdout",
          "text": [
            "tensor(10.)\n",
            "tensor(2.5000)\n"
          ]
        }
      ]
    },
    {
      "cell_type": "code",
      "source": [
        "# 차원을 따로 지정하면, 지정한 차원에 맞게 연산\n",
        "print(a.sum(dim=0))\n",
        "print(a.sum(dim=1))\n",
        "\n",
        "print()\n",
        "\n",
        "print(a.mean(dim=0))\n",
        "print(a.mean(dim=1))"
      ],
      "metadata": {
        "colab": {
          "base_uri": "https://localhost:8080/"
        },
        "id": "ZT1pTG_ZpGcN",
        "outputId": "b7ed4119-3871-46ef-c5db-d92efd322825"
      },
      "execution_count": null,
      "outputs": [
        {
          "output_type": "stream",
          "name": "stdout",
          "text": [
            "tensor([4., 6.])\n",
            "tensor([3., 7.])\n",
            "\n",
            "tensor([2., 3.])\n",
            "tensor([1.5000, 3.5000])\n"
          ]
        }
      ]
    },
    {
      "cell_type": "markdown",
      "source": [
        "## 브로드캐스팅\n",
        "차원 수가 맞지 않아도 자동으로 텐서를 높은 차원으로 확장해 연산이 가능토록 합니다."
      ],
      "metadata": {
        "id": "FFrZWmsCpYIG"
      }
    },
    {
      "cell_type": "code",
      "source": [
        "a = torch.tensor([[1, 2]])\n",
        "b = torch.tensor([[3, 4]])\n",
        "\n",
        "print(a.shape, b.shape)"
      ],
      "metadata": {
        "colab": {
          "base_uri": "https://localhost:8080/"
        },
        "id": "t7Avi3LFpn2e",
        "outputId": "a1546b24-251a-4e4a-e313-408a1447ac6f"
      },
      "execution_count": null,
      "outputs": [
        {
          "output_type": "stream",
          "name": "stdout",
          "text": [
            "torch.Size([1, 2]) torch.Size([1, 2])\n"
          ]
        }
      ]
    },
    {
      "cell_type": "code",
      "source": [
        "print(a + b)"
      ],
      "metadata": {
        "colab": {
          "base_uri": "https://localhost:8080/"
        },
        "id": "qGb67gvIpuxG",
        "outputId": "99a17686-f4b1-4a72-ea25-0c34a547f71c"
      },
      "execution_count": null,
      "outputs": [
        {
          "output_type": "stream",
          "name": "stdout",
          "text": [
            "tensor([[4, 6]])\n"
          ]
        }
      ]
    },
    {
      "cell_type": "markdown",
      "source": [
        "### tensor, scalar 연산"
      ],
      "metadata": {
        "id": "juicbF1UpzRe"
      }
    },
    {
      "cell_type": "code",
      "source": [
        "a = torch.tensor([[1, 2],\n",
        "                  [3, 4]])\n",
        "\n",
        "print(a + 10)"
      ],
      "metadata": {
        "colab": {
          "base_uri": "https://localhost:8080/"
        },
        "id": "iaW0kw4fp3Mw",
        "outputId": "8bb55439-2209-4187-e8c4-f9b945768fc9"
      },
      "execution_count": null,
      "outputs": [
        {
          "output_type": "stream",
          "name": "stdout",
          "text": [
            "tensor([[11, 12],\n",
            "        [13, 14]])\n"
          ]
        }
      ]
    },
    {
      "cell_type": "markdown",
      "source": [
        "### tensor, vector 연산"
      ],
      "metadata": {
        "id": "F4Ba5i9-p5ku"
      }
    },
    {
      "cell_type": "code",
      "source": [
        "a = torch.tensor([[1, 2],\n",
        "                  [3, 4]])\n",
        "\n",
        "b = torch.tensor([10, 20])\n",
        "\n",
        "print(b.shape)\n",
        "print(a + b)"
      ],
      "metadata": {
        "colab": {
          "base_uri": "https://localhost:8080/"
        },
        "id": "9BeS0UyQqDII",
        "outputId": "9739611f-d1f5-4e3d-ee57-8d07ace12b9b"
      },
      "execution_count": null,
      "outputs": [
        {
          "output_type": "stream",
          "name": "stdout",
          "text": [
            "torch.Size([2])\n",
            "tensor([[11, 22],\n",
            "        [13, 24]])\n"
          ]
        }
      ]
    },
    {
      "cell_type": "code",
      "source": [
        "a = torch.tensor([[1, 2],\n",
        "                  [3, 4]])\n",
        "\n",
        "b = torch.tensor([[10, 20]])\n",
        "print(b.shape)\n",
        "print(a + b)"
      ],
      "metadata": {
        "colab": {
          "base_uri": "https://localhost:8080/"
        },
        "id": "YtZqLgCRqHYG",
        "outputId": "5676ebea-9042-4937-ebc3-4543fdbda382"
      },
      "execution_count": null,
      "outputs": [
        {
          "output_type": "stream",
          "name": "stdout",
          "text": [
            "torch.Size([1, 2])\n",
            "tensor([[11, 22],\n",
            "        [13, 24]])\n"
          ]
        }
      ]
    },
    {
      "cell_type": "code",
      "source": [
        "a = torch.tensor([[1, 2],\n",
        "                  [3, 4]])\n",
        "\n",
        "b = torch.tensor([[10],\n",
        "                  [20]])\n",
        "print(b.shape)\n",
        "print(a + b)"
      ],
      "metadata": {
        "colab": {
          "base_uri": "https://localhost:8080/"
        },
        "id": "UaB_2e4EqOFm",
        "outputId": "848a4dc1-e3c8-479a-f47c-88ccde0fbf4d"
      },
      "execution_count": null,
      "outputs": [
        {
          "output_type": "stream",
          "name": "stdout",
          "text": [
            "torch.Size([2, 1])\n",
            "tensor([[11, 12],\n",
            "        [23, 24]])\n"
          ]
        }
      ]
    },
    {
      "cell_type": "markdown",
      "source": [
        "### tensor, tensor 연산"
      ],
      "metadata": {
        "id": "zhl6gzSaqSaG"
      }
    },
    {
      "cell_type": "code",
      "source": [
        "a = torch.tensor([[1, 2]])\n",
        "\n",
        "b = torch.tensor([[10],\n",
        "                  [20]])\n",
        "\n",
        "print(a.shape, b.shape)\n",
        "print(a + b)"
      ],
      "metadata": {
        "colab": {
          "base_uri": "https://localhost:8080/"
        },
        "id": "pZ5TlISjqirQ",
        "outputId": "83319ed1-a6b1-4cf3-fee0-198a0c9af4f4"
      },
      "execution_count": null,
      "outputs": [
        {
          "output_type": "stream",
          "name": "stdout",
          "text": [
            "torch.Size([1, 2]) torch.Size([2, 1])\n",
            "tensor([[11, 12],\n",
            "        [21, 22]])\n"
          ]
        }
      ]
    },
    {
      "cell_type": "code",
      "source": [
        "a = torch.tensor([[[1, 2],\n",
        "                   [3, 4]],\n",
        "\n",
        "                   [[5, 6],\n",
        "                    [7, 8]],\n",
        "\n",
        "                   [[9, 10],\n",
        "                    [11,12]]])\n",
        "\n",
        "b = torch.tensor([100, 200])\n",
        "\n",
        "print(a+b)"
      ],
      "metadata": {
        "colab": {
          "base_uri": "https://localhost:8080/"
        },
        "id": "8SyJmKFPqpgm",
        "outputId": "13801574-a843-4e35-e0c1-80272ce0e65e"
      },
      "execution_count": null,
      "outputs": [
        {
          "output_type": "stream",
          "name": "stdout",
          "text": [
            "tensor([[[101, 202],\n",
            "         [103, 204]],\n",
            "\n",
            "        [[105, 206],\n",
            "         [107, 208]],\n",
            "\n",
            "        [[109, 210],\n",
            "         [111, 212]]])\n"
          ]
        }
      ]
    },
    {
      "cell_type": "code",
      "source": [
        "a = torch.tensor([[[1, 2],\n",
        "                   [3, 4]],\n",
        "\n",
        "                   [[5, 6],\n",
        "                    [7, 8]],\n",
        "\n",
        "                   [[9, 10],\n",
        "                    [11,12]]])\n",
        "\n",
        "b = torch.tensor([[100, 200],\n",
        "                  [300, 400]])\n",
        "\n",
        "print(a+b)"
      ],
      "metadata": {
        "colab": {
          "base_uri": "https://localhost:8080/"
        },
        "id": "ixnqf9Lqq8He",
        "outputId": "9fe0fbd0-fdf0-491c-d659-a638f5ed940a"
      },
      "execution_count": null,
      "outputs": [
        {
          "output_type": "stream",
          "name": "stdout",
          "text": [
            "tensor([[[101, 202],\n",
            "         [303, 404]],\n",
            "\n",
            "        [[105, 206],\n",
            "         [307, 408]],\n",
            "\n",
            "        [[109, 210],\n",
            "         [311, 412]]])\n"
          ]
        }
      ]
    },
    {
      "cell_type": "code",
      "source": [
        "a = torch.tensor([[[1, 2],\n",
        "                   [3, 4]],\n",
        "\n",
        "                   [[5, 6],\n",
        "                    [7, 8]],\n",
        "\n",
        "                   [[9, 10],\n",
        "                    [11,12]]])\n",
        "\n",
        "b = torch.tensor([[100],\n",
        "                  [300]])\n",
        "\n",
        "print(a+b)"
      ],
      "metadata": {
        "colab": {
          "base_uri": "https://localhost:8080/"
        },
        "id": "JGqxMMsQq-xe",
        "outputId": "fbe78d00-968b-4a6b-e7cd-3cdb89ac7b70"
      },
      "execution_count": null,
      "outputs": [
        {
          "output_type": "stream",
          "name": "stdout",
          "text": [
            "tensor([[[101, 102],\n",
            "         [303, 304]],\n",
            "\n",
            "        [[105, 106],\n",
            "         [307, 308]],\n",
            "\n",
            "        [[109, 110],\n",
            "         [311, 312]]])\n"
          ]
        }
      ]
    },
    {
      "cell_type": "markdown",
      "source": [
        "# 파이토치의 여러 함수들"
      ],
      "metadata": {
        "id": "yeahm4PHrL1V"
      }
    },
    {
      "cell_type": "markdown",
      "source": [
        "## expand\n",
        "설정한 차원의 방향으로 텐서를 복사하면서 확장합니다."
      ],
      "metadata": {
        "id": "dtG63ItWNcT8"
      }
    },
    {
      "cell_type": "code",
      "source": [
        "x = torch.tensor([[[1, 2]],\n",
        "                  [[3, 4]]])\n",
        "\n",
        "print(x.size()) # x.shape과 같다."
      ],
      "metadata": {
        "id": "TQ3fo8drtYrg",
        "colab": {
          "base_uri": "https://localhost:8080/"
        },
        "outputId": "c1d09f27-28a5-4578-a4ed-b9b578fc3512"
      },
      "execution_count": null,
      "outputs": [
        {
          "output_type": "stream",
          "name": "stdout",
          "text": [
            "torch.Size([2, 1, 2])\n"
          ]
        }
      ]
    },
    {
      "cell_type": "code",
      "source": [
        "y = x.expand(2, 3, 2)\n",
        "print(y)\n",
        "print(y.size())"
      ],
      "metadata": {
        "colab": {
          "base_uri": "https://localhost:8080/"
        },
        "id": "4aWWInTYNWoz",
        "outputId": "b8884b45-d8a8-42af-80b3-ef9ffb0909b7"
      },
      "execution_count": null,
      "outputs": [
        {
          "output_type": "stream",
          "name": "stdout",
          "text": [
            "tensor([[[1, 2],\n",
            "         [1, 2],\n",
            "         [1, 2]],\n",
            "\n",
            "        [[3, 4],\n",
            "         [3, 4],\n",
            "         [3, 4]]])\n",
            "torch.Size([2, 3, 2])\n"
          ]
        }
      ]
    },
    {
      "cell_type": "code",
      "source": [
        "# 위의 expand를 cat으로 구현해 보기\n",
        "z = torch.cat([x, x, x], dim=1)\n",
        "print(z)\n",
        "print(z.size())"
      ],
      "metadata": {
        "colab": {
          "base_uri": "https://localhost:8080/"
        },
        "id": "QohfmYw8NoXb",
        "outputId": "6e1b532b-a501-4954-c293-f9a937740146"
      },
      "execution_count": null,
      "outputs": [
        {
          "output_type": "stream",
          "name": "stdout",
          "text": [
            "tensor([[[1, 2],\n",
            "         [1, 2],\n",
            "         [1, 2]],\n",
            "\n",
            "        [[3, 4],\n",
            "         [3, 4],\n",
            "         [3, 4]]])\n",
            "torch.Size([2, 3, 2])\n"
          ]
        }
      ]
    },
    {
      "cell_type": "markdown",
      "source": [
        "## randperm\n",
        "설정한 숫자만큼의 무작위 순열을 만들어 냅니다."
      ],
      "metadata": {
        "id": "_BqHivFPNsGj"
      }
    },
    {
      "cell_type": "code",
      "source": [
        "x = torch.randperm(10)\n",
        "\n",
        "print(x)\n",
        "print(x.shape)"
      ],
      "metadata": {
        "colab": {
          "base_uri": "https://localhost:8080/"
        },
        "id": "zHUdqNSJONuC",
        "outputId": "799e7f59-91a0-4b24-d889-79fc876c6399"
      },
      "execution_count": null,
      "outputs": [
        {
          "output_type": "stream",
          "name": "stdout",
          "text": [
            "tensor([8, 2, 0, 5, 4, 7, 3, 9, 6, 1])\n",
            "torch.Size([10])\n"
          ]
        }
      ]
    },
    {
      "cell_type": "markdown",
      "source": [
        "## argmax\n",
        "설정한 차원에서 가장 큰 값이 들어있는 인덱스를 반환합니다."
      ],
      "metadata": {
        "id": "rkejm3fWOQ9D"
      }
    },
    {
      "cell_type": "code",
      "source": [
        "x = torch.randperm(3**3).reshape(3, 3, -1)\n",
        "\n",
        "print(x)\n",
        "print(x.size())"
      ],
      "metadata": {
        "colab": {
          "base_uri": "https://localhost:8080/"
        },
        "id": "h9CQ3ekZOdKS",
        "outputId": "8975b0db-57b5-463d-aaf2-e2e01694f9fc"
      },
      "execution_count": null,
      "outputs": [
        {
          "output_type": "stream",
          "name": "stdout",
          "text": [
            "tensor([[[ 0, 14,  2],\n",
            "         [24, 23, 18],\n",
            "         [20,  9,  3]],\n",
            "\n",
            "        [[13,  5, 17],\n",
            "         [26, 16, 12],\n",
            "         [ 1, 21, 10]],\n",
            "\n",
            "        [[15, 19, 25],\n",
            "         [ 4, 11,  6],\n",
            "         [ 8,  7, 22]]])\n",
            "torch.Size([3, 3, 3])\n"
          ]
        }
      ]
    },
    {
      "cell_type": "code",
      "source": [
        "# -1번 방향(스칼라 축)에서 가장 큰 값의 인덱스를 추출하기\n",
        "y = x.argmax(dim=-1)\n",
        "\n",
        "print(y)\n",
        "print(y.size())"
      ],
      "metadata": {
        "colab": {
          "base_uri": "https://localhost:8080/"
        },
        "id": "HQUmQisrOiEa",
        "outputId": "209dd29d-5ed4-4032-ccd1-548d1b1b03fc"
      },
      "execution_count": null,
      "outputs": [
        {
          "output_type": "stream",
          "name": "stdout",
          "text": [
            "tensor([[1, 0, 0],\n",
            "        [2, 0, 1],\n",
            "        [2, 1, 2]])\n",
            "torch.Size([3, 3])\n"
          ]
        }
      ]
    },
    {
      "cell_type": "code",
      "source": [
        "# 1번 방향에서 가장 큰 값의 인덱스를 추출하기\n",
        "z = x.argmax(dim=1)\n",
        "\n",
        "print(z)\n",
        "print(z.size())"
      ],
      "metadata": {
        "colab": {
          "base_uri": "https://localhost:8080/"
        },
        "id": "vCtX15FPOsy6",
        "outputId": "096a9743-49e0-4112-b17b-89a9ee3beb72"
      },
      "execution_count": null,
      "outputs": [
        {
          "output_type": "stream",
          "name": "stdout",
          "text": [
            "tensor([[1, 1, 1],\n",
            "        [1, 2, 0],\n",
            "        [0, 0, 0]])\n",
            "torch.Size([3, 3])\n"
          ]
        }
      ]
    },
    {
      "cell_type": "markdown",
      "source": [
        "## topk\n",
        "가장 큰 k개의 값과, 그 값의 인덱스를 튜플 형식으로 반환합니다."
      ],
      "metadata": {
        "id": "fy46YB4NOy1C"
      }
    },
    {
      "cell_type": "code",
      "source": [
        "values, indices = torch.topk(x, k=1, dim=-1)\n",
        "\n",
        "print(values)\n",
        "print(values.size())"
      ],
      "metadata": {
        "colab": {
          "base_uri": "https://localhost:8080/"
        },
        "id": "FiwXLm3mTXCv",
        "outputId": "b23e4817-df75-4f84-902b-052ac685cba2"
      },
      "execution_count": null,
      "outputs": [
        {
          "output_type": "stream",
          "name": "stdout",
          "text": [
            "tensor([[[14],\n",
            "         [24],\n",
            "         [20]],\n",
            "\n",
            "        [[17],\n",
            "         [26],\n",
            "         [21]],\n",
            "\n",
            "        [[25],\n",
            "         [11],\n",
            "         [22]]])\n",
            "torch.Size([3, 3, 1])\n"
          ]
        }
      ]
    },
    {
      "cell_type": "code",
      "source": [
        "print(indices)\n",
        "print(indices.size())"
      ],
      "metadata": {
        "colab": {
          "base_uri": "https://localhost:8080/"
        },
        "id": "ZKJW0L-xTbyI",
        "outputId": "cc578ede-c69e-4629-868b-91bf1106135f"
      },
      "execution_count": null,
      "outputs": [
        {
          "output_type": "stream",
          "name": "stdout",
          "text": [
            "tensor([[[1],\n",
            "         [0],\n",
            "         [0]],\n",
            "\n",
            "        [[2],\n",
            "         [0],\n",
            "         [1]],\n",
            "\n",
            "        [[2],\n",
            "         [1],\n",
            "         [2]]])\n",
            "torch.Size([3, 3, 1])\n"
          ]
        }
      ]
    },
    {
      "cell_type": "markdown",
      "source": [
        "### topk를 이용해 정렬하기"
      ],
      "metadata": {
        "id": "XWMrToz3TgUQ"
      }
    },
    {
      "cell_type": "code",
      "source": [
        "target_dim = -1\n",
        "values, indices = torch.topk(\n",
        "    x,\n",
        "    k=x.size(target_dim),\n",
        "    largest=True # 큰 것 부터 뽑아내기, 즉 내림차순 정렬, False로 하면 작은 것 부터 뽑아내기 때문에 오름차순이 된다.\n",
        ")\n",
        "\n",
        "print(values)"
      ],
      "metadata": {
        "colab": {
          "base_uri": "https://localhost:8080/"
        },
        "id": "ATSupkY1VvmA",
        "outputId": "5e2b26ba-c695-44b3-e8fa-717c17e1ab47"
      },
      "execution_count": null,
      "outputs": [
        {
          "output_type": "stream",
          "name": "stdout",
          "text": [
            "tensor([[[14,  2,  0],\n",
            "         [24, 23, 18],\n",
            "         [20,  9,  3]],\n",
            "\n",
            "        [[17, 13,  5],\n",
            "         [26, 16, 12],\n",
            "         [21, 10,  1]],\n",
            "\n",
            "        [[25, 19, 15],\n",
            "         [11,  6,  4],\n",
            "         [22,  8,  7]]])\n"
          ]
        }
      ]
    },
    {
      "cell_type": "markdown",
      "source": [
        "### sort를 이용해 topk 구현하기"
      ],
      "metadata": {
        "id": "GrWxeTK-V3YP"
      }
    },
    {
      "cell_type": "code",
      "source": [
        "k = 1\n",
        "values, indices = torch.sort(x, dim=-1, descending=True)\n",
        "values, indices = values[:, :, :k], indices[:, :, k]\n",
        "\n",
        "print(values)"
      ],
      "metadata": {
        "colab": {
          "base_uri": "https://localhost:8080/"
        },
        "id": "XsSQQPNeWBHA",
        "outputId": "3c8e8eb8-86cd-4b54-ebba-924863c42cc3"
      },
      "execution_count": null,
      "outputs": [
        {
          "output_type": "stream",
          "name": "stdout",
          "text": [
            "tensor([[[14],\n",
            "         [24],\n",
            "         [20]],\n",
            "\n",
            "        [[17],\n",
            "         [26],\n",
            "         [21]],\n",
            "\n",
            "        [[25],\n",
            "         [11],\n",
            "         [22]]])\n"
          ]
        }
      ]
    },
    {
      "cell_type": "markdown",
      "source": [
        "## squeeze, unsqueeze\n",
        "\n",
        "- squeeze : 개수가 하나인 차원을 삭제합니다.\n",
        "- unsqueeze : 원하는 곳에 하나의 차원을 추가합니다."
      ],
      "metadata": {
        "id": "Ge9yHv_xWKUP"
      }
    },
    {
      "cell_type": "code",
      "source": [
        "# squeeze\n",
        "x = torch.tensor([[[1, 2],\n",
        "                   [3, 4]]])\n",
        "\n",
        "print(x)\n",
        "print(x.size())"
      ],
      "metadata": {
        "colab": {
          "base_uri": "https://localhost:8080/"
        },
        "id": "8130AJ7DWdee",
        "outputId": "f5efe780-4cb2-4981-cd79-363fc73753a3"
      },
      "execution_count": null,
      "outputs": [
        {
          "output_type": "stream",
          "name": "stdout",
          "text": [
            "tensor([[[1, 2],\n",
            "         [3, 4]]])\n",
            "torch.Size([1, 2, 2])\n"
          ]
        }
      ]
    },
    {
      "cell_type": "code",
      "source": [
        "print(x.squeeze())\n",
        "print(x.squeeze().shape)"
      ],
      "metadata": {
        "colab": {
          "base_uri": "https://localhost:8080/"
        },
        "id": "6re6PTdcXmgm",
        "outputId": "c4cb8778-df16-4c35-8e19-63bffaa1a28e"
      },
      "execution_count": null,
      "outputs": [
        {
          "output_type": "stream",
          "name": "stdout",
          "text": [
            "tensor([[1, 2],\n",
            "        [3, 4]])\n",
            "torch.Size([2, 2])\n"
          ]
        }
      ]
    },
    {
      "cell_type": "code",
      "source": [
        "print(x.squeeze(0))\n",
        "print(x.squeeze(0).shape)"
      ],
      "metadata": {
        "colab": {
          "base_uri": "https://localhost:8080/"
        },
        "id": "qErrAVxAXwVG",
        "outputId": "a8826cea-0b77-4d2a-aa5d-d12ebcf03dd1"
      },
      "execution_count": null,
      "outputs": [
        {
          "output_type": "stream",
          "name": "stdout",
          "text": [
            "tensor([[1, 2],\n",
            "        [3, 4]])\n",
            "torch.Size([2, 2])\n"
          ]
        }
      ]
    },
    {
      "cell_type": "code",
      "source": [
        "print(x.squeeze(1))\n",
        "print(x.squeeze(1).shape) # 인덱스 1번 위치에는 element가 2개 이므로 squeeze가 일어나지 않는다."
      ],
      "metadata": {
        "colab": {
          "base_uri": "https://localhost:8080/"
        },
        "id": "yDQIS2dUX1nO",
        "outputId": "a938b680-d9d5-4b44-e9ff-0e13bd6bbdad"
      },
      "execution_count": null,
      "outputs": [
        {
          "output_type": "stream",
          "name": "stdout",
          "text": [
            "tensor([[[1, 2],\n",
            "         [3, 4]]])\n",
            "torch.Size([1, 2, 2])\n"
          ]
        }
      ]
    },
    {
      "cell_type": "code",
      "source": [
        "# unsqueeze\n",
        "x = torch.tensor([[1, 2],\n",
        "                  [3, 4]])\n",
        "\n",
        "print(x)\n",
        "print(x.size())"
      ],
      "metadata": {
        "colab": {
          "base_uri": "https://localhost:8080/"
        },
        "id": "KjTWjCPiX3Zd",
        "outputId": "1f17f07d-278b-4eed-b4b4-62e087d7bc8d"
      },
      "execution_count": null,
      "outputs": [
        {
          "output_type": "stream",
          "name": "stdout",
          "text": [
            "tensor([[1, 2],\n",
            "        [3, 4]])\n",
            "torch.Size([2, 2])\n"
          ]
        }
      ]
    },
    {
      "cell_type": "code",
      "source": [
        "print(x.unsqueeze(0))\n",
        "print(x.unsqueeze(0).shape)"
      ],
      "metadata": {
        "colab": {
          "base_uri": "https://localhost:8080/"
        },
        "id": "8VEplhL7YJvO",
        "outputId": "32321c1e-17c7-44a6-9c70-8b50e7417941"
      },
      "execution_count": null,
      "outputs": [
        {
          "output_type": "stream",
          "name": "stdout",
          "text": [
            "tensor([[[1, 2],\n",
            "         [3, 4]]])\n",
            "torch.Size([1, 2, 2])\n"
          ]
        }
      ]
    },
    {
      "cell_type": "code",
      "source": [
        "print(x.unsqueeze(1))\n",
        "print(x.unsqueeze(1).shape)"
      ],
      "metadata": {
        "colab": {
          "base_uri": "https://localhost:8080/"
        },
        "id": "gEbRlAIaYOk-",
        "outputId": "becef1c4-7ef2-4598-e767-807140ca3fc7"
      },
      "execution_count": null,
      "outputs": [
        {
          "output_type": "stream",
          "name": "stdout",
          "text": [
            "tensor([[[1, 2]],\n",
            "\n",
            "        [[3, 4]]])\n",
            "torch.Size([2, 1, 2])\n"
          ]
        }
      ]
    },
    {
      "cell_type": "markdown",
      "source": [
        "# 자동 미분\n",
        "- PyTorch에서는 텐서를 연산한 후 해당 연산에 대한 미분을 자동으로 수행하는 기능을 제공합니다.\n",
        "- 이 기능에 의해 딥러닝이 가능하게 됩니다."
      ],
      "metadata": {
        "id": "I3Ii7lflJrQh"
      }
    },
    {
      "cell_type": "markdown",
      "source": [
        "## backward 사용하기\n",
        "- 역전파(backaward)를 하기 위해 미분을 하는 과정입니다."
      ],
      "metadata": {
        "id": "7XqsdA7BMFt7"
      }
    },
    {
      "cell_type": "code",
      "source": [
        "# requires_grad=True 옵션을 이용해 텐서의 기울기를 구할 수 있도록 합니다. 즉 미분이 됩니다.\n",
        "x = torch.tensor([1], requires_grad=True) # ⭐텐서의 숫자는 반드시 정수가 아닌 \"실수\"여야 합니다.\n",
        "print(x)"
      ],
      "metadata": {
        "colab": {
          "base_uri": "https://localhost:8080/",
          "height": 184
        },
        "id": "aWgcu6d8JsnX",
        "outputId": "2304380e-1153-4fef-ff9d-b1ac1a120c90"
      },
      "execution_count": null,
      "outputs": [
        {
          "output_type": "error",
          "ename": "RuntimeError",
          "evalue": "Only Tensors of floating point and complex dtype can require gradients",
          "traceback": [
            "\u001b[0;31m---------------------------------------------------------------------------\u001b[0m",
            "\u001b[0;31mRuntimeError\u001b[0m                              Traceback (most recent call last)",
            "\u001b[0;32m<ipython-input-71-7228c438b609>\u001b[0m in \u001b[0;36m<cell line: 2>\u001b[0;34m()\u001b[0m\n\u001b[1;32m      1\u001b[0m \u001b[0;31m# requires_grad=True 옵션을 이용해 텐서의 기울기를 구할 수 있도록 합니다. 즉 미분이 됩니다.\u001b[0m\u001b[0;34m\u001b[0m\u001b[0;34m\u001b[0m\u001b[0m\n\u001b[0;32m----> 2\u001b[0;31m \u001b[0mx\u001b[0m \u001b[0;34m=\u001b[0m \u001b[0mtorch\u001b[0m\u001b[0;34m.\u001b[0m\u001b[0mtensor\u001b[0m\u001b[0;34m(\u001b[0m\u001b[0;34m[\u001b[0m\u001b[0;36m1\u001b[0m\u001b[0;34m]\u001b[0m\u001b[0;34m,\u001b[0m \u001b[0mrequires_grad\u001b[0m\u001b[0;34m=\u001b[0m\u001b[0;32mTrue\u001b[0m\u001b[0;34m)\u001b[0m \u001b[0;31m# 텐서의 숫자는 반드시 정수가 아닌 \"실수\"여야 합니다.\u001b[0m\u001b[0;34m\u001b[0m\u001b[0;34m\u001b[0m\u001b[0m\n\u001b[0m\u001b[1;32m      3\u001b[0m \u001b[0mprint\u001b[0m\u001b[0;34m(\u001b[0m\u001b[0mx\u001b[0m\u001b[0;34m)\u001b[0m\u001b[0;34m\u001b[0m\u001b[0;34m\u001b[0m\u001b[0m\n",
            "\u001b[0;31mRuntimeError\u001b[0m: Only Tensors of floating point and complex dtype can require gradients"
          ]
        }
      ]
    },
    {
      "cell_type": "code",
      "source": [
        "x = torch.tensor([1.], requires_grad=True)\n",
        "print(x)"
      ],
      "metadata": {
        "colab": {
          "base_uri": "https://localhost:8080/"
        },
        "id": "KZW2G-iyKppt",
        "outputId": "5aaefcb2-de9c-4d40-d381-0f8652f556fb"
      },
      "execution_count": null,
      "outputs": [
        {
          "output_type": "stream",
          "name": "stdout",
          "text": [
            "tensor([1.], requires_grad=True)\n"
          ]
        }
      ]
    },
    {
      "cell_type": "code",
      "source": [
        "# 텐서 x 제곱하여 y 텐서 생성\n",
        "y = x**2\n",
        "print(y) # PowBackward0 확인"
      ],
      "metadata": {
        "colab": {
          "base_uri": "https://localhost:8080/"
        },
        "id": "xJnY6CDyKxdx",
        "outputId": "f0c94974-e05f-4125-c627-19e511116a1e"
      },
      "execution_count": null,
      "outputs": [
        {
          "output_type": "stream",
          "name": "stdout",
          "text": [
            "tensor([1.], grad_fn=<PowBackward0>)\n"
          ]
        }
      ]
    },
    {
      "cell_type": "markdown",
      "source": [
        "$x^2$를 미분하여 도함수를 구하면 $2x$가 됩니다. 이를 파이토치에서는 `backward()` 함수로 구해낼 수 있습니다."
      ],
      "metadata": {
        "id": "GCKY_3D1LG7e"
      }
    },
    {
      "cell_type": "code",
      "source": [
        "print(\"미분 수행 전 : \", x.grad)\n",
        "y.backward() # 미분 수행\n",
        "print(\"미분 수행 후 : \", x.grad)  # y=x^2을 미분한 2x의 x값에 1을 대입한 기울기 값. 즉 x=1일 때 x^2의 기울기"
      ],
      "metadata": {
        "colab": {
          "base_uri": "https://localhost:8080/"
        },
        "id": "KMhH1AcELXny",
        "outputId": "b6a69378-8b9e-4784-de53-0ae070f584d2"
      },
      "execution_count": null,
      "outputs": [
        {
          "output_type": "stream",
          "name": "stdout",
          "text": [
            "미분 수행 전 :  None\n",
            "미분 수행 후 :  tensor([2.])\n"
          ]
        }
      ]
    },
    {
      "cell_type": "markdown",
      "source": [
        "## 예시 1 - 중간 미분\n",
        "- 일반적으로 제일 마지막 연산 과정의 미분만을 수행합니다.\n",
        "  - 이 때 제일 마지막 연산 과정에 의해 등장한 텐서를 `Leaf Tensor`라고 합니다.\n",
        "  - Leaf Tensor로 부터 Root Tensor의 미분 값만 확인할 수 있습니다.\n",
        "- 하지만 중간 과정을 담당하는 텐서의 미분을 직접 수행하기 위해서는 `retain_grad()`를 사용합니다."
      ],
      "metadata": {
        "id": "W77iALhjLlfi"
      }
    },
    {
      "cell_type": "code",
      "source": [
        "x = torch.tensor([1.], requires_grad=True)\n",
        "y=x**2\n",
        "print(y)\n",
        "\n",
        "z=3*y\n",
        "print(z) # MulBackward0 확인"
      ],
      "metadata": {
        "colab": {
          "base_uri": "https://localhost:8080/"
        },
        "id": "25Za-8IQMO8R",
        "outputId": "52694470-97ca-4c4e-f9ab-364263615f37"
      },
      "execution_count": null,
      "outputs": [
        {
          "output_type": "stream",
          "name": "stdout",
          "text": [
            "tensor([1.], grad_fn=<PowBackward0>)\n",
            "tensor([3.], grad_fn=<MulBackward0>)\n"
          ]
        }
      ]
    },
    {
      "cell_type": "code",
      "source": [
        "# 미분 수행 1. 제일 마지막 연산인 z 부터 미분\n",
        "z.backward()\n",
        "print(\"z 미분 결과 : \", x.grad)\n",
        "\n",
        "y.backward() # y에 대한 미분은 사용 불가. 중간 연산 과정에 대한 미분은 따로 설정이 필요함. 또한 z.grad에 의해 이미 도함수는 모든 연산 과정에서 구해진 상태!\n",
        "print(\"y 미분 결과 : \", x.grad)"
      ],
      "metadata": {
        "colab": {
          "base_uri": "https://localhost:8080/",
          "height": 391
        },
        "id": "buPZar41MW3w",
        "outputId": "2ff32cd9-9df8-403a-e4d2-4d3e66de06be"
      },
      "execution_count": null,
      "outputs": [
        {
          "output_type": "stream",
          "name": "stdout",
          "text": [
            "z 미분 결과 :  tensor([6.])\n"
          ]
        },
        {
          "output_type": "error",
          "ename": "RuntimeError",
          "evalue": "Trying to backward through the graph a second time (or directly access saved tensors after they have already been freed). Saved intermediate values of the graph are freed when you call .backward() or autograd.grad(). Specify retain_graph=True if you need to backward through the graph a second time or if you need to access saved tensors after calling backward.",
          "traceback": [
            "\u001b[0;31m---------------------------------------------------------------------------\u001b[0m",
            "\u001b[0;31mRuntimeError\u001b[0m                              Traceback (most recent call last)",
            "\u001b[0;32m<ipython-input-77-3e830bf8ae23>\u001b[0m in \u001b[0;36m<cell line: 5>\u001b[0;34m()\u001b[0m\n\u001b[1;32m      3\u001b[0m \u001b[0mprint\u001b[0m\u001b[0;34m(\u001b[0m\u001b[0;34m\"z 미분 결과 : \"\u001b[0m\u001b[0;34m,\u001b[0m \u001b[0mx\u001b[0m\u001b[0;34m.\u001b[0m\u001b[0mgrad\u001b[0m\u001b[0;34m)\u001b[0m\u001b[0;34m\u001b[0m\u001b[0;34m\u001b[0m\u001b[0m\n\u001b[1;32m      4\u001b[0m \u001b[0;34m\u001b[0m\u001b[0m\n\u001b[0;32m----> 5\u001b[0;31m \u001b[0my\u001b[0m\u001b[0;34m.\u001b[0m\u001b[0mbackward\u001b[0m\u001b[0;34m(\u001b[0m\u001b[0;34m)\u001b[0m\u001b[0;34m\u001b[0m\u001b[0;34m\u001b[0m\u001b[0m\n\u001b[0m\u001b[1;32m      6\u001b[0m \u001b[0mprint\u001b[0m\u001b[0;34m(\u001b[0m\u001b[0;34m\"y 미분 결과 : \"\u001b[0m\u001b[0;34m,\u001b[0m \u001b[0mx\u001b[0m\u001b[0;34m.\u001b[0m\u001b[0mgrad\u001b[0m\u001b[0;34m)\u001b[0m\u001b[0;34m\u001b[0m\u001b[0;34m\u001b[0m\u001b[0m\n",
            "\u001b[0;32m/usr/local/lib/python3.10/dist-packages/torch/_tensor.py\u001b[0m in \u001b[0;36mbackward\u001b[0;34m(self, gradient, retain_graph, create_graph, inputs)\u001b[0m\n\u001b[1;32m    523\u001b[0m                 \u001b[0minputs\u001b[0m\u001b[0;34m=\u001b[0m\u001b[0minputs\u001b[0m\u001b[0;34m,\u001b[0m\u001b[0;34m\u001b[0m\u001b[0;34m\u001b[0m\u001b[0m\n\u001b[1;32m    524\u001b[0m             )\n\u001b[0;32m--> 525\u001b[0;31m         torch.autograd.backward(\n\u001b[0m\u001b[1;32m    526\u001b[0m             \u001b[0mself\u001b[0m\u001b[0;34m,\u001b[0m \u001b[0mgradient\u001b[0m\u001b[0;34m,\u001b[0m \u001b[0mretain_graph\u001b[0m\u001b[0;34m,\u001b[0m \u001b[0mcreate_graph\u001b[0m\u001b[0;34m,\u001b[0m \u001b[0minputs\u001b[0m\u001b[0;34m=\u001b[0m\u001b[0minputs\u001b[0m\u001b[0;34m\u001b[0m\u001b[0;34m\u001b[0m\u001b[0m\n\u001b[1;32m    527\u001b[0m         )\n",
            "\u001b[0;32m/usr/local/lib/python3.10/dist-packages/torch/autograd/__init__.py\u001b[0m in \u001b[0;36mbackward\u001b[0;34m(tensors, grad_tensors, retain_graph, create_graph, grad_variables, inputs)\u001b[0m\n\u001b[1;32m    265\u001b[0m     \u001b[0;31m# some Python versions print out the first line of a multi-line function\u001b[0m\u001b[0;34m\u001b[0m\u001b[0;34m\u001b[0m\u001b[0m\n\u001b[1;32m    266\u001b[0m     \u001b[0;31m# calls in the traceback and some print out the last line\u001b[0m\u001b[0;34m\u001b[0m\u001b[0;34m\u001b[0m\u001b[0m\n\u001b[0;32m--> 267\u001b[0;31m     _engine_run_backward(\n\u001b[0m\u001b[1;32m    268\u001b[0m         \u001b[0mtensors\u001b[0m\u001b[0;34m,\u001b[0m\u001b[0;34m\u001b[0m\u001b[0;34m\u001b[0m\u001b[0m\n\u001b[1;32m    269\u001b[0m         \u001b[0mgrad_tensors_\u001b[0m\u001b[0;34m,\u001b[0m\u001b[0;34m\u001b[0m\u001b[0;34m\u001b[0m\u001b[0m\n",
            "\u001b[0;32m/usr/local/lib/python3.10/dist-packages/torch/autograd/graph.py\u001b[0m in \u001b[0;36m_engine_run_backward\u001b[0;34m(t_outputs, *args, **kwargs)\u001b[0m\n\u001b[1;32m    742\u001b[0m         \u001b[0munregister_hooks\u001b[0m \u001b[0;34m=\u001b[0m \u001b[0m_register_logging_hooks_on_whole_graph\u001b[0m\u001b[0;34m(\u001b[0m\u001b[0mt_outputs\u001b[0m\u001b[0;34m)\u001b[0m\u001b[0;34m\u001b[0m\u001b[0;34m\u001b[0m\u001b[0m\n\u001b[1;32m    743\u001b[0m     \u001b[0;32mtry\u001b[0m\u001b[0;34m:\u001b[0m\u001b[0;34m\u001b[0m\u001b[0;34m\u001b[0m\u001b[0m\n\u001b[0;32m--> 744\u001b[0;31m         return Variable._execution_engine.run_backward(  # Calls into the C++ engine to run the backward pass\n\u001b[0m\u001b[1;32m    745\u001b[0m             \u001b[0mt_outputs\u001b[0m\u001b[0;34m,\u001b[0m \u001b[0;34m*\u001b[0m\u001b[0margs\u001b[0m\u001b[0;34m,\u001b[0m \u001b[0;34m**\u001b[0m\u001b[0mkwargs\u001b[0m\u001b[0;34m\u001b[0m\u001b[0;34m\u001b[0m\u001b[0m\n\u001b[1;32m    746\u001b[0m         )  # Calls into the C++ engine to run the backward pass\n",
            "\u001b[0;31mRuntimeError\u001b[0m: Trying to backward through the graph a second time (or directly access saved tensors after they have already been freed). Saved intermediate values of the graph are freed when you call .backward() or autograd.grad(). Specify retain_graph=True if you need to backward through the graph a second time or if you need to access saved tensors after calling backward."
          ]
        }
      ]
    },
    {
      "cell_type": "markdown",
      "source": [],
      "metadata": {
        "id": "c9pZ3hasNKhS"
      }
    },
    {
      "cell_type": "code",
      "source": [
        "x = torch.tensor([1.], requires_grad=True)\n",
        "y=x**2\n",
        "print(y)\n",
        "y.retain_grad() # 중간 연산 과정 텐서의 미분을 보기 위함.\n",
        "\n",
        "z=3*y\n",
        "print(z)\n",
        "\n",
        "z.backward()\n",
        "print(\"z에 대한 x의 변화량\", x.grad)\n",
        "print(\"z에 대한 y의 변화량\", y.grad)"
      ],
      "metadata": {
        "colab": {
          "base_uri": "https://localhost:8080/"
        },
        "id": "2MuwuG1lM2iT",
        "outputId": "a673b59e-e74e-479d-e3fc-57465eb5ca67"
      },
      "execution_count": null,
      "outputs": [
        {
          "output_type": "stream",
          "name": "stdout",
          "text": [
            "tensor([1.], grad_fn=<PowBackward0>)\n",
            "tensor([3.], grad_fn=<MulBackward0>)\n",
            "z에 대한 x의 변화량 tensor([6.])\n",
            "z에 대한 y의 변화량 tensor([3.])\n"
          ]
        }
      ]
    },
    {
      "cell_type": "markdown",
      "source": [
        "항상 제일 마지막 연산에서 `backward()`를 수행해야 하는건 아닙니다. 원하는 위치에서 미분을 할 수 있습니다."
      ],
      "metadata": {
        "id": "mOG40FS8NvRm"
      }
    },
    {
      "cell_type": "code",
      "source": [
        "x = torch.tensor([1.], requires_grad=True)\n",
        "y = x ** 2\n",
        "z = 3 * y\n",
        "\n",
        "y.backward() # y에서부터 미분을 수행.\n",
        "print(\"y에 대한 x의 변화량 : \", x.grad)"
      ],
      "metadata": {
        "colab": {
          "base_uri": "https://localhost:8080/"
        },
        "id": "uObzq5_qOS3-",
        "outputId": "44828ee5-3a71-4050-febb-598feff7ef9a"
      },
      "execution_count": null,
      "outputs": [
        {
          "output_type": "stream",
          "name": "stdout",
          "text": [
            "y에 대한 x의 변화량 :  tensor([2.])\n"
          ]
        }
      ]
    },
    {
      "cell_type": "markdown",
      "source": [
        "## 예시 2 - 편미분"
      ],
      "metadata": {
        "id": "-LYhyI8RQLj-"
      }
    },
    {
      "cell_type": "code",
      "source": [
        "x = torch.tensor([1.], requires_grad=True)\n",
        "y = torch.tensor([1.], requires_grad=True)\n",
        "\n",
        "z = 2*x**2 + y**2\n",
        "print(z)\n",
        "\n",
        "z.backward()\n",
        "\n",
        "print(\"x의 변화량 : \", x.grad)\n",
        "print(\"y의 변화량 : \", y.grad)"
      ],
      "metadata": {
        "colab": {
          "base_uri": "https://localhost:8080/"
        },
        "id": "l7qwNc8AO4ob",
        "outputId": "c966d7d3-32b8-4e95-8298-f8a5a1538207"
      },
      "execution_count": null,
      "outputs": [
        {
          "output_type": "stream",
          "name": "stdout",
          "text": [
            "tensor([3.], grad_fn=<AddBackward0>)\n",
            "x의 변화량 :  tensor([4.])\n",
            "y의 변화량 :  tensor([2.])\n"
          ]
        }
      ]
    },
    {
      "cell_type": "markdown",
      "source": [
        "## 예시 3 - 스칼라를 벡터로 미분"
      ],
      "metadata": {
        "id": "ye2xbRi4X3yj"
      }
    },
    {
      "cell_type": "code",
      "source": [
        "x = torch.tensor([1., 2., 3.], requires_grad=True)\n",
        "y = torch.sum(x ** 2) # x1**2 + x2**2 + x3**2\n",
        "y.backward()\n",
        "\n",
        "print(y)\n",
        "print(x.grad) # 스칼라를 벡터로 미분"
      ],
      "metadata": {
        "colab": {
          "base_uri": "https://localhost:8080/"
        },
        "id": "jhm_BctfYTZ6",
        "outputId": "a27aca0e-2f2e-4069-e225-9ebc91224182"
      },
      "execution_count": null,
      "outputs": [
        {
          "output_type": "stream",
          "name": "stdout",
          "text": [
            "tensor(14., grad_fn=<SumBackward0>)\n",
            "tensor([2., 4., 6.])\n"
          ]
        }
      ]
    },
    {
      "cell_type": "markdown",
      "source": [
        "## 예시 4 - 미분 중간 취소\n",
        "- 텐서를 미분 가능한 상태에서 미분이 불가능한 상태로 만듭니다 연산 중간에 `requires_grade=False`로 설정하는 것이 가능합니다.\n",
        "- 보통 전이학습에서 사용되는 기법입니다."
      ],
      "metadata": {
        "id": "-y0P0Ke-YiQV"
      }
    },
    {
      "cell_type": "code",
      "source": [
        "x = torch.tensor([1.], requires_grad=True)\n",
        "x.requires_grad = False\n",
        "\n",
        "print(x)\n",
        "# 전이 학습(Transfer Learning)\n",
        "y = x**2\n",
        "print(y)\n",
        "# Error!!!\n",
        "# y.backward()"
      ],
      "metadata": {
        "colab": {
          "base_uri": "https://localhost:8080/"
        },
        "id": "3lbHjomPY3U1",
        "outputId": "5726dd14-e9d5-495c-cdb0-7f0546d3cbfd"
      },
      "execution_count": null,
      "outputs": [
        {
          "output_type": "stream",
          "name": "stdout",
          "text": [
            "tensor([1.])\n",
            "tensor([1.])\n"
          ]
        }
      ]
    },
    {
      "cell_type": "code",
      "source": [
        "# 또는 detach()를 사용합니다.\n",
        "x = torch.tensor([2.], requires_grad=True)\n",
        "x = x.detach()\n",
        "\n",
        "print(x)\n",
        "y = x**2\n",
        "print(y)"
      ],
      "metadata": {
        "colab": {
          "base_uri": "https://localhost:8080/"
        },
        "id": "PjmqkfUbZBeh",
        "outputId": "c390a1aa-bc4e-42a4-8740-293a3be1f53d"
      },
      "execution_count": null,
      "outputs": [
        {
          "output_type": "stream",
          "name": "stdout",
          "text": [
            "tensor([2.])\n",
            "tensor([4.])\n"
          ]
        }
      ]
    },
    {
      "cell_type": "code",
      "source": [
        "# torch.no_grad\n",
        "x = torch.tensor([2.], requires_grad=True)\n",
        "\n",
        "# requires_grad=False 없이 with 구문 내에서만 잠깐 미분을 하지 않도록 설정할 수 있게\n",
        "with torch.no_grad():\n",
        "    y = x**2\n",
        "    print(x.requires_grad)\n",
        "    print(y)\n",
        "\n",
        "print(x.requires_grad)\n",
        "y=x**2\n",
        "print(y)"
      ],
      "metadata": {
        "colab": {
          "base_uri": "https://localhost:8080/"
        },
        "id": "8F0MsaxIZ0D4",
        "outputId": "d7376119-6cb7-4f17-abb0-2d1410f1b6f7"
      },
      "execution_count": null,
      "outputs": [
        {
          "output_type": "stream",
          "name": "stdout",
          "text": [
            "True\n",
            "tensor([4.])\n",
            "True\n",
            "tensor([4.], grad_fn=<PowBackward0>)\n"
          ]
        }
      ]
    },
    {
      "cell_type": "markdown",
      "source": [
        "# Torcchviz를 이용한 미분 과정 시각화.\n",
        "- 실제 딥러닝을 훈련하는 과정을 시각화 하기 위한 툴들이 많이 있습니다.\n",
        "- Torchviz는 그냥 장난감 같은 패키지 이므로, 참고만 해주세요."
      ],
      "metadata": {
        "id": "VX7bH23ha6Dc"
      }
    },
    {
      "cell_type": "code",
      "source": [
        "## torchviz를 이용한 미분 과정 시각화\n",
        "!pip install torchviz"
      ],
      "metadata": {
        "colab": {
          "base_uri": "https://localhost:8080/"
        },
        "id": "KDYv9geLabtf",
        "outputId": "4f92416e-fc31-4583-a724-8269b314e068"
      },
      "execution_count": null,
      "outputs": [
        {
          "output_type": "stream",
          "name": "stdout",
          "text": [
            "Collecting torchviz\n",
            "  Downloading torchviz-0.0.2.tar.gz (4.9 kB)\n",
            "  Preparing metadata (setup.py) ... \u001b[?25l\u001b[?25hdone\n",
            "Requirement already satisfied: torch in /usr/local/lib/python3.10/dist-packages (from torchviz) (2.3.0+cu121)\n",
            "Requirement already satisfied: graphviz in /usr/local/lib/python3.10/dist-packages (from torchviz) (0.20.3)\n",
            "Requirement already satisfied: filelock in /usr/local/lib/python3.10/dist-packages (from torch->torchviz) (3.14.0)\n",
            "Requirement already satisfied: typing-extensions>=4.8.0 in /usr/local/lib/python3.10/dist-packages (from torch->torchviz) (4.12.1)\n",
            "Requirement already satisfied: sympy in /usr/local/lib/python3.10/dist-packages (from torch->torchviz) (1.12.1)\n",
            "Requirement already satisfied: networkx in /usr/local/lib/python3.10/dist-packages (from torch->torchviz) (3.3)\n",
            "Requirement already satisfied: jinja2 in /usr/local/lib/python3.10/dist-packages (from torch->torchviz) (3.1.4)\n",
            "Requirement already satisfied: fsspec in /usr/local/lib/python3.10/dist-packages (from torch->torchviz) (2023.6.0)\n",
            "Collecting nvidia-cuda-nvrtc-cu12==12.1.105 (from torch->torchviz)\n",
            "  Using cached nvidia_cuda_nvrtc_cu12-12.1.105-py3-none-manylinux1_x86_64.whl (23.7 MB)\n",
            "Collecting nvidia-cuda-runtime-cu12==12.1.105 (from torch->torchviz)\n",
            "  Using cached nvidia_cuda_runtime_cu12-12.1.105-py3-none-manylinux1_x86_64.whl (823 kB)\n",
            "Collecting nvidia-cuda-cupti-cu12==12.1.105 (from torch->torchviz)\n",
            "  Using cached nvidia_cuda_cupti_cu12-12.1.105-py3-none-manylinux1_x86_64.whl (14.1 MB)\n",
            "Collecting nvidia-cudnn-cu12==8.9.2.26 (from torch->torchviz)\n",
            "  Using cached nvidia_cudnn_cu12-8.9.2.26-py3-none-manylinux1_x86_64.whl (731.7 MB)\n",
            "Collecting nvidia-cublas-cu12==12.1.3.1 (from torch->torchviz)\n",
            "  Using cached nvidia_cublas_cu12-12.1.3.1-py3-none-manylinux1_x86_64.whl (410.6 MB)\n",
            "Collecting nvidia-cufft-cu12==11.0.2.54 (from torch->torchviz)\n",
            "  Using cached nvidia_cufft_cu12-11.0.2.54-py3-none-manylinux1_x86_64.whl (121.6 MB)\n",
            "Collecting nvidia-curand-cu12==10.3.2.106 (from torch->torchviz)\n",
            "  Using cached nvidia_curand_cu12-10.3.2.106-py3-none-manylinux1_x86_64.whl (56.5 MB)\n",
            "Collecting nvidia-cusolver-cu12==11.4.5.107 (from torch->torchviz)\n",
            "  Using cached nvidia_cusolver_cu12-11.4.5.107-py3-none-manylinux1_x86_64.whl (124.2 MB)\n",
            "Collecting nvidia-cusparse-cu12==12.1.0.106 (from torch->torchviz)\n",
            "  Using cached nvidia_cusparse_cu12-12.1.0.106-py3-none-manylinux1_x86_64.whl (196.0 MB)\n",
            "Collecting nvidia-nccl-cu12==2.20.5 (from torch->torchviz)\n",
            "  Using cached nvidia_nccl_cu12-2.20.5-py3-none-manylinux2014_x86_64.whl (176.2 MB)\n",
            "Collecting nvidia-nvtx-cu12==12.1.105 (from torch->torchviz)\n",
            "  Using cached nvidia_nvtx_cu12-12.1.105-py3-none-manylinux1_x86_64.whl (99 kB)\n",
            "Requirement already satisfied: triton==2.3.0 in /usr/local/lib/python3.10/dist-packages (from torch->torchviz) (2.3.0)\n",
            "Collecting nvidia-nvjitlink-cu12 (from nvidia-cusolver-cu12==11.4.5.107->torch->torchviz)\n",
            "  Downloading nvidia_nvjitlink_cu12-12.5.40-py3-none-manylinux2014_x86_64.whl (21.3 MB)\n",
            "\u001b[2K     \u001b[90m━━━━━━━━━━━━━━━━━━━━━━━━━━━━━━━━━━━━━━━━\u001b[0m \u001b[32m21.3/21.3 MB\u001b[0m \u001b[31m43.8 MB/s\u001b[0m eta \u001b[36m0:00:00\u001b[0m\n",
            "\u001b[?25hRequirement already satisfied: MarkupSafe>=2.0 in /usr/local/lib/python3.10/dist-packages (from jinja2->torch->torchviz) (2.1.5)\n",
            "Requirement already satisfied: mpmath<1.4.0,>=1.1.0 in /usr/local/lib/python3.10/dist-packages (from sympy->torch->torchviz) (1.3.0)\n",
            "Building wheels for collected packages: torchviz\n",
            "  Building wheel for torchviz (setup.py) ... \u001b[?25l\u001b[?25hdone\n",
            "  Created wheel for torchviz: filename=torchviz-0.0.2-py3-none-any.whl size=4132 sha256=a4697ada58137018267354d229f3a437b563f784b8dbbefbab26e0f12c361efa\n",
            "  Stored in directory: /root/.cache/pip/wheels/4c/97/88/a02973217949e0db0c9f4346d154085f4725f99c4f15a87094\n",
            "Successfully built torchviz\n",
            "Installing collected packages: nvidia-nvtx-cu12, nvidia-nvjitlink-cu12, nvidia-nccl-cu12, nvidia-curand-cu12, nvidia-cufft-cu12, nvidia-cuda-runtime-cu12, nvidia-cuda-nvrtc-cu12, nvidia-cuda-cupti-cu12, nvidia-cublas-cu12, nvidia-cusparse-cu12, nvidia-cudnn-cu12, nvidia-cusolver-cu12, torchviz\n",
            "Successfully installed nvidia-cublas-cu12-12.1.3.1 nvidia-cuda-cupti-cu12-12.1.105 nvidia-cuda-nvrtc-cu12-12.1.105 nvidia-cuda-runtime-cu12-12.1.105 nvidia-cudnn-cu12-8.9.2.26 nvidia-cufft-cu12-11.0.2.54 nvidia-curand-cu12-10.3.2.106 nvidia-cusolver-cu12-11.4.5.107 nvidia-cusparse-cu12-12.1.0.106 nvidia-nccl-cu12-2.20.5 nvidia-nvjitlink-cu12-12.5.40 nvidia-nvtx-cu12-12.1.105 torchviz-0.0.2\n"
          ]
        }
      ]
    },
    {
      "cell_type": "code",
      "source": [
        "from torchviz import make_dot\n",
        "x = torch.tensor([1.], requires_grad=True)\n",
        "\n",
        "make_dot((x**2 + 1)**2)"
      ],
      "metadata": {
        "colab": {
          "base_uri": "https://localhost:8080/",
          "height": 455
        },
        "id": "F2a_GvXTa4_J",
        "outputId": "a5b9cc0b-db92-4381-9350-22ab12596458"
      },
      "execution_count": null,
      "outputs": [
        {
          "output_type": "execute_result",
          "data": {
            "image/svg+xml": "<?xml version=\"1.0\" encoding=\"UTF-8\" standalone=\"no\"?>\n<!DOCTYPE svg PUBLIC \"-//W3C//DTD SVG 1.1//EN\"\n \"http://www.w3.org/Graphics/SVG/1.1/DTD/svg11.dtd\">\n<!-- Generated by graphviz version 2.43.0 (0)\n -->\n<!-- Title: %3 Pages: 1 -->\n<svg width=\"109pt\" height=\"326pt\"\n viewBox=\"0.00 0.00 109.00 326.00\" xmlns=\"http://www.w3.org/2000/svg\" xmlns:xlink=\"http://www.w3.org/1999/xlink\">\n<g id=\"graph0\" class=\"graph\" transform=\"scale(1 1) rotate(0) translate(4 322)\">\n<title>%3</title>\n<polygon fill=\"white\" stroke=\"transparent\" points=\"-4,4 -4,-322 105,-322 105,4 -4,4\"/>\n<!-- 132347320183728 -->\n<g id=\"node1\" class=\"node\">\n<title>132347320183728</title>\n<polygon fill=\"#caff70\" stroke=\"black\" points=\"77.5,-31 23.5,-31 23.5,0 77.5,0 77.5,-31\"/>\n<text text-anchor=\"middle\" x=\"50.5\" y=\"-7\" font-family=\"monospace\" font-size=\"10.00\"> (1)</text>\n</g>\n<!-- 132347320487984 -->\n<g id=\"node2\" class=\"node\">\n<title>132347320487984</title>\n<polygon fill=\"lightgrey\" stroke=\"black\" points=\"95,-86 6,-86 6,-67 95,-67 95,-86\"/>\n<text text-anchor=\"middle\" x=\"50.5\" y=\"-74\" font-family=\"monospace\" font-size=\"10.00\">PowBackward0</text>\n</g>\n<!-- 132347320487984&#45;&gt;132347320183728 -->\n<g id=\"edge5\" class=\"edge\">\n<title>132347320487984&#45;&gt;132347320183728</title>\n<path fill=\"none\" stroke=\"black\" d=\"M50.5,-66.79C50.5,-60.07 50.5,-50.4 50.5,-41.34\"/>\n<polygon fill=\"black\" stroke=\"black\" points=\"54,-41.19 50.5,-31.19 47,-41.19 54,-41.19\"/>\n</g>\n<!-- 132347320499120 -->\n<g id=\"node3\" class=\"node\">\n<title>132347320499120</title>\n<polygon fill=\"lightgrey\" stroke=\"black\" points=\"95,-141 6,-141 6,-122 95,-122 95,-141\"/>\n<text text-anchor=\"middle\" x=\"50.5\" y=\"-129\" font-family=\"monospace\" font-size=\"10.00\">AddBackward0</text>\n</g>\n<!-- 132347320499120&#45;&gt;132347320487984 -->\n<g id=\"edge1\" class=\"edge\">\n<title>132347320499120&#45;&gt;132347320487984</title>\n<path fill=\"none\" stroke=\"black\" d=\"M50.5,-121.75C50.5,-114.8 50.5,-104.85 50.5,-96.13\"/>\n<polygon fill=\"black\" stroke=\"black\" points=\"54,-96.09 50.5,-86.09 47,-96.09 54,-96.09\"/>\n</g>\n<!-- 132347320496144 -->\n<g id=\"node4\" class=\"node\">\n<title>132347320496144</title>\n<polygon fill=\"lightgrey\" stroke=\"black\" points=\"95,-196 6,-196 6,-177 95,-177 95,-196\"/>\n<text text-anchor=\"middle\" x=\"50.5\" y=\"-184\" font-family=\"monospace\" font-size=\"10.00\">PowBackward0</text>\n</g>\n<!-- 132347320496144&#45;&gt;132347320499120 -->\n<g id=\"edge2\" class=\"edge\">\n<title>132347320496144&#45;&gt;132347320499120</title>\n<path fill=\"none\" stroke=\"black\" d=\"M50.5,-176.75C50.5,-169.8 50.5,-159.85 50.5,-151.13\"/>\n<polygon fill=\"black\" stroke=\"black\" points=\"54,-151.09 50.5,-141.09 47,-151.09 54,-151.09\"/>\n</g>\n<!-- 132347320495280 -->\n<g id=\"node5\" class=\"node\">\n<title>132347320495280</title>\n<polygon fill=\"lightgrey\" stroke=\"black\" points=\"101,-251 0,-251 0,-232 101,-232 101,-251\"/>\n<text text-anchor=\"middle\" x=\"50.5\" y=\"-239\" font-family=\"monospace\" font-size=\"10.00\">AccumulateGrad</text>\n</g>\n<!-- 132347320495280&#45;&gt;132347320496144 -->\n<g id=\"edge3\" class=\"edge\">\n<title>132347320495280&#45;&gt;132347320496144</title>\n<path fill=\"none\" stroke=\"black\" d=\"M50.5,-231.75C50.5,-224.8 50.5,-214.85 50.5,-206.13\"/>\n<polygon fill=\"black\" stroke=\"black\" points=\"54,-206.09 50.5,-196.09 47,-206.09 54,-206.09\"/>\n</g>\n<!-- 132347321143344 -->\n<g id=\"node6\" class=\"node\">\n<title>132347321143344</title>\n<polygon fill=\"lightblue\" stroke=\"black\" points=\"77.5,-318 23.5,-318 23.5,-287 77.5,-287 77.5,-318\"/>\n<text text-anchor=\"middle\" x=\"50.5\" y=\"-294\" font-family=\"monospace\" font-size=\"10.00\"> (1)</text>\n</g>\n<!-- 132347321143344&#45;&gt;132347320495280 -->\n<g id=\"edge4\" class=\"edge\">\n<title>132347321143344&#45;&gt;132347320495280</title>\n<path fill=\"none\" stroke=\"black\" d=\"M50.5,-286.92C50.5,-279.22 50.5,-269.69 50.5,-261.43\"/>\n<polygon fill=\"black\" stroke=\"black\" points=\"54,-261.25 50.5,-251.25 47,-261.25 54,-261.25\"/>\n</g>\n</g>\n</svg>\n",
            "text/plain": [
              "<graphviz.graphs.Digraph at 0x785e83065de0>"
            ]
          },
          "metadata": {},
          "execution_count": 94
        }
      ]
    },
    {
      "cell_type": "code",
      "source": [],
      "metadata": {
        "id": "70wcvoRGbJBG"
      },
      "execution_count": null,
      "outputs": []
    }
  ]
}