{
  "nbformat": 4,
  "nbformat_minor": 0,
  "metadata": {
    "colab": {
      "provenance": [],
      "authorship_tag": "ABX9TyO90xUh2z4s2dkFnRHaGlSH",
      "include_colab_link": true
    },
    "kernelspec": {
      "name": "python3",
      "display_name": "Python 3"
    },
    "language_info": {
      "name": "python"
    }
  },
  "cells": [
    {
      "cell_type": "markdown",
      "metadata": {
        "id": "view-in-github",
        "colab_type": "text"
      },
      "source": [
        "<a href=\"https://colab.research.google.com/github/seonae0223/Deep_Learning/blob/main/05_%EC%B6%9C%EB%A0%A5%EC%B8%B5_%EC%84%A4%EA%B3%84.ipynb\" target=\"_parent\"><img src=\"https://colab.research.google.com/assets/colab-badge.svg\" alt=\"Open In Colab\"/></a>"
      ]
    },
    {
      "cell_type": "markdown",
      "source": [
        "# 신경망의 사용처\n",
        "* 신경망은 분류, 회귀 모두 사용하다.\n",
        "  * 출력층의 **활성화 함수**에 따라서 목적(사용처)이 달라진다. ( 분류를 할지, 회귀를 할지 )\n",
        "  * 회귀에서는 항등 함수를 사용하면 회귀가 된다.\n",
        "* 소프트맥스나 시그모이드 함수를 활용하면 분류\n",
        "  * 시그모이드는 사용처가 정해져 있음\n",
        "    * 결괏값을 **확률**로 표현하고 싶을 때 사용한다.\n",
        "    * 예를 들면 89.12% 확률로 부정적인 리뷰 입니다.\n",
        "  * 소프트맥스 함수를 주로 분류용 활성화 함수로 사용한다."
      ],
      "metadata": {
        "id": "AiBgKLpydZQS"
      }
    },
    {
      "cell_type": "markdown",
      "source": [
        "# 소프트맥스 함수 구현하기\n",
        "$$\n",
        "y_k = \\frac{e^{z_k}}{\\sum_{i=0}^{n-1} e^{z_i}}\n",
        "$$\n",
        "\n",
        "* $k$ : $k$번째 출력 ( 클래스 번호 ) 0, 1, 2 ....\n",
        "* $z$ : 출력층에 있는 뉴런의 $WX+b$ 연산\n",
        "* $n$ : 전체 클래스의 개수"
      ],
      "metadata": {
        "id": "O9vCnipCdaZg"
      }
    },
    {
      "cell_type": "code",
      "execution_count": 1,
      "metadata": {
        "id": "NlT6oU9Zc5Xh"
      },
      "outputs": [],
      "source": [
        "import numpy as np"
      ]
    },
    {
      "cell_type": "code",
      "source": [
        "# 출력층의 WX+b를 z라고 가정\n",
        "z = np.array([0.3, 2.9, 4.0])\n",
        "\n",
        "# 분자 부분 계산\n",
        "exp_z = np.exp(z)\n",
        "\n",
        "# 분모 부분 계산\n",
        "sum_exp_z = np.sum(exp_z)\n",
        "\n",
        "pred_y = exp_z / sum_exp_z\n",
        "pred_y # 소프트맥스 결과"
      ],
      "metadata": {
        "colab": {
          "base_uri": "https://localhost:8080/"
        },
        "id": "5k1F9MyIdMxb",
        "outputId": "96165573-9a5e-44e0-ccf8-8872fe2136e0"
      },
      "execution_count": 3,
      "outputs": [
        {
          "output_type": "execute_result",
          "data": {
            "text/plain": [
              "array([0.01821127, 0.24519181, 0.73659691])"
            ]
          },
          "metadata": {},
          "execution_count": 3
        }
      ]
    },
    {
      "cell_type": "code",
      "source": [
        "np.sum(pred_y)"
      ],
      "metadata": {
        "colab": {
          "base_uri": "https://localhost:8080/"
        },
        "id": "MqlWjDJUdhIe",
        "outputId": "b33b724f-e2ba-4963-c1d9-d1d2acba8dcf"
      },
      "execution_count": 4,
      "outputs": [
        {
          "output_type": "execute_result",
          "data": {
            "text/plain": [
              "1.0"
            ]
          },
          "metadata": {},
          "execution_count": 4
        }
      ]
    },
    {
      "cell_type": "markdown",
      "source": [
        "# 소프트맥스 함수 튜닝\n",
        "* 소프트맥스 함수는 자연상수 $e$의 지수 함수\n",
        "* 입력값이 조금만 커져도 굉장히 큰 값을 연산을 한다.\n",
        "* 예시\n",
        "  * $e^{10}$만 되어도 20000이 넘는 수\n",
        "  * $e^{100}$은 0이 40개가 넘는 큰 숫자\n",
        "  * $e^{1000}$은 무한대를 의미하는 `inf`"
      ],
      "metadata": {
        "id": "K8CLZgh2hRti"
      }
    },
    {
      "cell_type": "code",
      "source": [
        "def softmax(z):\n",
        "  exp_z = np.exp(z) # 분자\n",
        "  sum_exp_z = np.sum(exp_z) # 분모\n",
        "  pred_y = exp_z / sum_exp_z\n",
        "  return pred_y"
      ],
      "metadata": {
        "id": "_MljvH5-hRQE"
      },
      "execution_count": 5,
      "outputs": []
    },
    {
      "cell_type": "code",
      "source": [
        "big_z = [1000, 900, 1100]\n",
        "\n",
        "softmax(big_z)"
      ],
      "metadata": {
        "colab": {
          "base_uri": "https://localhost:8080/"
        },
        "id": "nczaN3nbhk0m",
        "outputId": "f25311e2-5aeb-4d10-a193-bad0d2c28b73"
      },
      "execution_count": 6,
      "outputs": [
        {
          "output_type": "stream",
          "name": "stderr",
          "text": [
            "<ipython-input-5-b5ee1dba0da1>:2: RuntimeWarning: overflow encountered in exp\n",
            "  exp_z = np.exp(z) # 분자\n",
            "<ipython-input-5-b5ee1dba0da1>:4: RuntimeWarning: invalid value encountered in divide\n",
            "  pred_y = exp_z / sum_exp_z\n"
          ]
        },
        {
          "output_type": "execute_result",
          "data": {
            "text/plain": [
              "array([nan, nan, nan])"
            ]
          },
          "metadata": {},
          "execution_count": 6
        }
      ]
    },
    {
      "cell_type": "markdown",
      "source": [
        "수학적인 기교로 튜닝이 가능하다.\n",
        "$$\n",
        "y_k = \\frac{exp(a_k)}{\\sum_{i=1}^n exp(a_i)} = \\frac{C\\,exp(a_k)}{C\\,\\sum_{i=1}^n exp(a_i)} = \\frac{exp(a_k+logC)}{\\sum_{i=1}^n exp(a_i+logC)} = \\frac{exp(a_k+C^\\prime)}{\\sum_{i=1}^n exp(a_i+C^\\prime)}\n",
        "$$"
      ],
      "metadata": {
        "id": "8wUQWx7Lh9B1"
      }
    },
    {
      "cell_type": "code",
      "source": [
        "# C^prime 이라는 상수는 보통 제일 큰 값에 -1을 곱한 값\n",
        "# a_k가 각각의 원소\n",
        "\n",
        "c = np.max(big_z)\n",
        "big_z + (-c) # -c가 c^prime"
      ],
      "metadata": {
        "colab": {
          "base_uri": "https://localhost:8080/"
        },
        "id": "JTx-xKvvhrhU",
        "outputId": "f5533d46-568b-45c9-c5cd-7df29268ff53"
      },
      "execution_count": 7,
      "outputs": [
        {
          "output_type": "execute_result",
          "data": {
            "text/plain": [
              "array([-100, -200,    0])"
            ]
          },
          "metadata": {},
          "execution_count": 7
        }
      ]
    },
    {
      "cell_type": "code",
      "source": [
        "# 튜닝된 소프트맥스\n",
        "def softmax(z):\n",
        "  c = np.max(z)\n",
        "\n",
        "  exp_z = np.exp(z - c)\n",
        "  sum_exp_z = np.exp(exp_z)\n",
        "\n",
        "  pred_y = exp_z / sum_exp_z\n",
        "  return pred_y\n",
        "\n",
        "softmax(big_z)"
      ],
      "metadata": {
        "colab": {
          "base_uri": "https://localhost:8080/"
        },
        "id": "l0aE7S6oicaf",
        "outputId": "3f52fbd6-9849-41d9-ed4a-65120acd4f4a"
      },
      "execution_count": 8,
      "outputs": [
        {
          "output_type": "execute_result",
          "data": {
            "text/plain": [
              "array([3.72007598e-44, 1.38389653e-87, 3.67879441e-01])"
            ]
          },
          "metadata": {},
          "execution_count": 8
        }
      ]
    },
    {
      "cell_type": "markdown",
      "source": [
        "# 텐서플로우 MNIST 데이터 불러오기 & Shape 다루기"
      ],
      "metadata": {
        "id": "jFtqsLohjPy2"
      }
    },
    {
      "cell_type": "code",
      "source": [
        "import tensorflow as tf\n",
        "import matplotlib.pyplot as plt"
      ],
      "metadata": {
        "id": "NwaRlNVAiy2W"
      },
      "execution_count": 9,
      "outputs": []
    },
    {
      "cell_type": "code",
      "source": [
        "# mnist 데이터 세트 로딩\n",
        "\n",
        "from tensorflow.keras import datasets\n",
        "\n",
        "mnist = datasets.mnist"
      ],
      "metadata": {
        "id": "89n5rLq0jVDG"
      },
      "execution_count": 11,
      "outputs": []
    },
    {
      "cell_type": "code",
      "source": [
        "(X_train, y_train), (X_test, y_test) = mnist.load_data()"
      ],
      "metadata": {
        "colab": {
          "base_uri": "https://localhost:8080/"
        },
        "id": "QmucqAVljrd_",
        "outputId": "e62a2f9e-2192-4e83-b89d-b4439242341e"
      },
      "execution_count": 12,
      "outputs": [
        {
          "output_type": "stream",
          "name": "stdout",
          "text": [
            "Downloading data from https://storage.googleapis.com/tensorflow/tf-keras-datasets/mnist.npz\n",
            "\u001b[1m11490434/11490434\u001b[0m \u001b[32m━━━━━━━━━━━━━━━━━━━━\u001b[0m\u001b[37m\u001b[0m \u001b[1m0s\u001b[0m 0us/step\n"
          ]
        }
      ]
    },
    {
      "cell_type": "code",
      "source": [
        "# shape 확인\n",
        "X_train.shape"
      ],
      "metadata": {
        "colab": {
          "base_uri": "https://localhost:8080/"
        },
        "id": "6AJFid3hj6GW",
        "outputId": "ad2e7e7c-0aca-48a2-fc2b-f6940a0bdf49"
      },
      "execution_count": 13,
      "outputs": [
        {
          "output_type": "execute_result",
          "data": {
            "text/plain": [
              "(60000, 28, 28)"
            ]
          },
          "metadata": {},
          "execution_count": 13
        }
      ]
    },
    {
      "cell_type": "code",
      "source": [
        "test_image = X_train[0]\n",
        "test_image.shape"
      ],
      "metadata": {
        "colab": {
          "base_uri": "https://localhost:8080/"
        },
        "id": "7dqM9mNskEG9",
        "outputId": "b7f666ac-ca3d-4f60-ab5c-5a5426113e17"
      },
      "execution_count": 14,
      "outputs": [
        {
          "output_type": "execute_result",
          "data": {
            "text/plain": [
              "(28, 28)"
            ]
          },
          "metadata": {},
          "execution_count": 14
        }
      ]
    },
    {
      "cell_type": "code",
      "source": [
        "plt.imshow(test_image, 'gray') # 채널에 대한 정보가 없으면 흑백\n",
        "plt.title(y_train[1])\n",
        "plt.show()"
      ],
      "metadata": {
        "colab": {
          "base_uri": "https://localhost:8080/",
          "height": 452
        },
        "id": "7QHIEoJplSzE",
        "outputId": "a4d91ab5-62d6-4b59-ad65-58fdbc3cf517"
      },
      "execution_count": 15,
      "outputs": [
        {
          "output_type": "display_data",
          "data": {
            "text/plain": [
              "<Figure size 640x480 with 1 Axes>"
            ],
            "image/png": "[encoded data removed]"
          },
          "metadata": {}
        }
      ]
    },
    {
      "cell_type": "markdown",
      "source": [
        "데이터를 신경망에 넣을 준비 - 훈련, 테스트 모두 동일한 데이터의 feature의 개수를 가져야 한다.\n",
        "* 신경망은 평평하게 펴진 1차원 배열을 입력으로 받고 있다.\n",
        "* 즉 지금 우리가 사용할 신경망에 집어 넣을 데이터 1개의 형상은 1차원 배열 형태로 들어가야 한다.\n",
        "* 평평하게 펴진 데이터를 기반으로 예측을 수행하는 레이어\n",
        "  * 신경망 - Dense(Linear) Layer\n",
        "  * 기하학 - Affine Layer\n",
        "  * 통합적 - F.C Layer ( Fully Connected Layer ) - 전결합( 완전 연결 계층 )\n",
        "------\n",
        "신경망에 이미지 데이터를 입력할 수 있는 경우 확인하기\n",
        "* 장수에 대한 정보 없이 가로 세로 픽셀에 대한 정보만 있는 상황 : `(28, 28)` -> X\n",
        "* 장수에 대한 정보 없이 평탄화 시킨 상황 : `(784, )` -> O(일단은 허용. Tensorflow나 Pytorch 같은 머신러닝 라이브러리에서는 허용 X)\n",
        "-----\n",
        "`60000`장의 이미지 데이터가 `(28, 28)`인 경우. 즉 `(60000, 28, 28)`\n",
        "* 장수 데이터가 있는 상태에서 가로 세로 픽셀에 대한 정보만 있는 상황 : `(60000, 28, 28)` -> X\n",
        "* 장수 데이터가 있는 상태에서 평탄화 시킨 상황 : `(60000, 784)` -> O\n",
        "------\n",
        "입력되는 데이터의 차원이 `(N, M)`이면 신경망 F.C 레이어에 집어 넣을 수 있다.\n",
        "* `N` : BATCH_SIZE( 데이터의 개수 )\n",
        "* `M` : 데이터 스칼라의 개수\n",
        "  * 배치를 이야기 하지 않는 경우 : `(M, )`\n",
        "  * 배치를 이야기 하면 : `(N, M)`\n",
        "  \n",
        "**참고로 CNN은 Fully Connected Layer가 아니고, 2차원 배치 데이터를 사용하지 않기 때문에 (N, H, W, C)가 됩니다.**"
      ],
      "metadata": {
        "id": "ZbqOBFW7oYSX"
      }
    },
    {
      "cell_type": "code",
      "source": [
        "test_image.flatten().shape #1차원 배열 형태로 바뀜"
      ],
      "metadata": {
        "colab": {
          "base_uri": "https://localhost:8080/"
        },
        "id": "_EDyDNELlUWj",
        "outputId": "315a8506-bcac-4a0d-e27c-5de7442ef469"
      },
      "execution_count": 16,
      "outputs": [
        {
          "output_type": "execute_result",
          "data": {
            "text/plain": [
              "(784,)"
            ]
          },
          "metadata": {},
          "execution_count": 16
        }
      ]
    },
    {
      "cell_type": "code",
      "source": [
        "test_image.reshape(-1).shape"
      ],
      "metadata": {
        "colab": {
          "base_uri": "https://localhost:8080/"
        },
        "id": "1bhIyMbuq9Ie",
        "outputId": "9c6f2457-02d7-4820-92eb-0710cd637df2"
      },
      "execution_count": 17,
      "outputs": [
        {
          "output_type": "execute_result",
          "data": {
            "text/plain": [
              "(784,)"
            ]
          },
          "metadata": {},
          "execution_count": 17
        }
      ]
    },
    {
      "cell_type": "code",
      "source": [
        "test_image.reshape(1, -1).shape # 맨 앞의 1이라는 숫자가 배치 크기를, 뒤에는 feture의 크기를 의미한다."
      ],
      "metadata": {
        "colab": {
          "base_uri": "https://localhost:8080/"
        },
        "id": "nRp4hLIlrDqD",
        "outputId": "e176f24b-b3fb-45ea-80e0-943e74d43392"
      },
      "execution_count": 18,
      "outputs": [
        {
          "output_type": "execute_result",
          "data": {
            "text/plain": [
              "(1, 784)"
            ]
          },
          "metadata": {},
          "execution_count": 18
        }
      ]
    },
    {
      "cell_type": "code",
      "source": [],
      "metadata": {
        "id": "aWDCmYejraMm"
      },
      "execution_count": null,
      "outputs": []
    }
  ]
}