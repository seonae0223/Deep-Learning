{
  "nbformat": 4,
  "nbformat_minor": 0,
  "metadata": {
    "colab": {
      "provenance": [],
      "mount_file_id": "1QJz6x-sAOXiW6p0ovmcpMFhL0A5W1ja1",
      "authorship_tag": "ABX9TyOsxswQCBfN1YPt6IJODdOT",
      "include_colab_link": true
    },
    "kernelspec": {
      "name": "python3",
      "display_name": "Python 3"
    },
    "language_info": {
      "name": "python"
    }
  },
  "cells": [
    {
      "cell_type": "markdown",
      "metadata": {
        "id": "view-in-github",
        "colab_type": "text"
      },
      "source": [
        "<a href=\"https://colab.research.google.com/github/seonae0223/Deep_Learning/blob/main/05_%EC%B6%9C%EB%A0%A5%EC%B8%B5_%EC%84%A4%EA%B3%84.ipynb\" target=\"_parent\"><img src=\"https://colab.research.google.com/assets/colab-badge.svg\" alt=\"Open In Colab\"/></a>"
      ]
    },
    {
      "cell_type": "markdown",
      "source": [
        "# 신경망의 사용처\n",
        "* 신경망은 분류, 회귀 모두 사용하다.\n",
        "  * 출력층의 **활성화 함수**에 따라서 목적(사용처)이 달라진다. ( 분류를 할지, 회귀를 할지 )\n",
        "  * 회귀에서는 항등 함수를 사용하면 회귀가 된다.\n",
        "* 소프트맥스나 시그모이드 함수를 활용하면 분류\n",
        "  * 시그모이드는 사용처가 정해져 있음\n",
        "    * 결괏값을 **확률**로 표현하고 싶을 때 사용한다.\n",
        "    * 예를 들면 89.12% 확률로 부정적인 리뷰 입니다.\n",
        "  * 소프트맥스 함수를 주로 분류용 활성화 함수로 사용한다."
      ],
      "metadata": {
        "id": "AiBgKLpydZQS"
      }
    },
    {
      "cell_type": "markdown",
      "source": [
        "# 소프트맥스 함수 구현하기\n",
        "$$\n",
        "y_k = \\frac{e^{z_k}}{\\sum_{i=0}^{n-1} e^{z_i}}\n",
        "$$\n",
        "\n",
        "* $k$ : $k$번째 출력 ( 클래스 번호 ) 0, 1, 2 ....\n",
        "* $z$ : 출력층에 있는 뉴런의 $WX+b$ 연산\n",
        "* $n$ : 전체 클래스의 개수"
      ],
      "metadata": {
        "id": "O9vCnipCdaZg"
      }
    },
    {
      "cell_type": "code",
      "execution_count": 1,
      "metadata": {
        "id": "NlT6oU9Zc5Xh"
      },
      "outputs": [],
      "source": [
        "import numpy as np"
      ]
    },
    {
      "cell_type": "code",
      "source": [
        "# 출력층의 WX+b를 z라고 가정\n",
        "z = np.array([0.3, 2.9, 4.0])\n",
        "\n",
        "# 분자 부분 계산\n",
        "exp_z = np.exp(z)\n",
        "\n",
        "# 분모 부분 계산\n",
        "sum_exp_z = np.sum(exp_z)\n",
        "\n",
        "pred_y = exp_z / sum_exp_z\n",
        "pred_y # 소프트맥스 결과"
      ],
      "metadata": {
        "colab": {
          "base_uri": "https://localhost:8080/"
        },
        "id": "5k1F9MyIdMxb",
        "outputId": "21feb4bd-ee18-47d7-b4c3-856f686f9c47"
      },
      "execution_count": 59,
      "outputs": [
        {
          "output_type": "execute_result",
          "data": {
            "text/plain": [
              "array([0.01821127, 0.24519181, 0.73659691])"
            ]
          },
          "metadata": {},
          "execution_count": 59
        }
      ]
    },
    {
      "cell_type": "code",
      "source": [
        "np.sum(pred_y)"
      ],
      "metadata": {
        "colab": {
          "base_uri": "https://localhost:8080/"
        },
        "id": "MqlWjDJUdhIe",
        "outputId": "765c3ea4-0ad8-4131-e119-beafa9be9cb8"
      },
      "execution_count": 60,
      "outputs": [
        {
          "output_type": "execute_result",
          "data": {
            "text/plain": [
              "1.0"
            ]
          },
          "metadata": {},
          "execution_count": 60
        }
      ]
    },
    {
      "cell_type": "markdown",
      "source": [
        "# 소프트맥스 함수 튜닝\n",
        "* 소프트맥스 함수는 자연상수 $e$의 지수 함수\n",
        "* 입력값이 조금만 커져도 굉장히 큰 값을 연산을 한다.\n",
        "* 예시\n",
        "  * $e^{10}$만 되어도 20000이 넘는 수\n",
        "  * $e^{100}$은 0이 40개가 넘는 큰 숫자\n",
        "  * $e^{1000}$은 무한대를 의미하는 `inf`"
      ],
      "metadata": {
        "id": "K8CLZgh2hRti"
      }
    },
    {
      "cell_type": "code",
      "source": [
        "def softmax(z):\n",
        "  exp_z = np.exp(z) # 분자\n",
        "  sum_exp_z = np.sum(exp_z) # 분모\n",
        "  pred_y = exp_z / sum_exp_z\n",
        "  return pred_y"
      ],
      "metadata": {
        "id": "_MljvH5-hRQE"
      },
      "execution_count": 61,
      "outputs": []
    },
    {
      "cell_type": "code",
      "source": [
        "big_z = [1000, 900, 1100]\n",
        "\n",
        "softmax(big_z)"
      ],
      "metadata": {
        "colab": {
          "base_uri": "https://localhost:8080/"
        },
        "id": "nczaN3nbhk0m",
        "outputId": "b31c1086-cfe0-4892-98da-54e3477ddd5c"
      },
      "execution_count": 62,
      "outputs": [
        {
          "output_type": "stream",
          "name": "stderr",
          "text": [
            "<ipython-input-61-b5ee1dba0da1>:2: RuntimeWarning: overflow encountered in exp\n",
            "  exp_z = np.exp(z) # 분자\n",
            "<ipython-input-61-b5ee1dba0da1>:4: RuntimeWarning: invalid value encountered in divide\n",
            "  pred_y = exp_z / sum_exp_z\n"
          ]
        },
        {
          "output_type": "execute_result",
          "data": {
            "text/plain": [
              "array([nan, nan, nan])"
            ]
          },
          "metadata": {},
          "execution_count": 62
        }
      ]
    },
    {
      "cell_type": "markdown",
      "source": [
        "수학적인 기교로 튜닝이 가능하다.\n",
        "$$\n",
        "y_k = \\frac{exp(a_k)}{\\sum_{i=1}^n exp(a_i)} = \\frac{C\\,exp(a_k)}{C\\,\\sum_{i=1}^n exp(a_i)} = \\frac{exp(a_k+logC)}{\\sum_{i=1}^n exp(a_i+logC)} = \\frac{exp(a_k+C^\\prime)}{\\sum_{i=1}^n exp(a_i+C^\\prime)}\n",
        "$$"
      ],
      "metadata": {
        "id": "8wUQWx7Lh9B1"
      }
    },
    {
      "cell_type": "code",
      "source": [
        "# C^prime 이라는 상수는 보통 제일 큰 값에 -1을 곱한 값\n",
        "# a_k가 각각의 원소\n",
        "\n",
        "c = np.max(big_z)\n",
        "big_z + (-c) # -c가 c^prime"
      ],
      "metadata": {
        "colab": {
          "base_uri": "https://localhost:8080/"
        },
        "id": "JTx-xKvvhrhU",
        "outputId": "aa11d036-e576-45e1-a8dd-6aa66ffd2e72"
      },
      "execution_count": 63,
      "outputs": [
        {
          "output_type": "execute_result",
          "data": {
            "text/plain": [
              "array([-100, -200,    0])"
            ]
          },
          "metadata": {},
          "execution_count": 63
        }
      ]
    },
    {
      "cell_type": "code",
      "source": [
        "# 튜닝된 소프트맥스\n",
        "def softmax(z):\n",
        "  c = np.max(z)\n",
        "\n",
        "  exp_z = np.exp(z - c)\n",
        "  sum_exp_z = np.sum(exp_z)\n",
        "\n",
        "  pred_y = exp_z / sum_exp_z\n",
        "  return pred_y\n",
        "\n",
        "softmax(big_z)"
      ],
      "metadata": {
        "colab": {
          "base_uri": "https://localhost:8080/"
        },
        "id": "l0aE7S6oicaf",
        "outputId": "1332ff24-ddfb-4bec-cd0f-cdfa16ff881f"
      },
      "execution_count": 64,
      "outputs": [
        {
          "output_type": "execute_result",
          "data": {
            "text/plain": [
              "array([3.72007598e-44, 1.38389653e-87, 1.00000000e+00])"
            ]
          },
          "metadata": {},
          "execution_count": 64
        }
      ]
    },
    {
      "cell_type": "markdown",
      "source": [
        "# 텐서플로우 MNIST 데이터 불러오기 & Shape 다루기"
      ],
      "metadata": {
        "id": "jFtqsLohjPy2"
      }
    },
    {
      "cell_type": "code",
      "source": [
        "import tensorflow as tf\n",
        "import matplotlib.pyplot as plt"
      ],
      "metadata": {
        "id": "NwaRlNVAiy2W"
      },
      "execution_count": 65,
      "outputs": []
    },
    {
      "cell_type": "code",
      "source": [
        "# mnist 데이터 세트 로딩\n",
        "\n",
        "from tensorflow.keras import datasets\n",
        "\n",
        "mnist = datasets.mnist"
      ],
      "metadata": {
        "id": "89n5rLq0jVDG"
      },
      "execution_count": 66,
      "outputs": []
    },
    {
      "cell_type": "code",
      "source": [
        "(X_train, y_train), (X_test, y_test) = mnist.load_data()"
      ],
      "metadata": {
        "id": "QmucqAVljrd_"
      },
      "execution_count": 67,
      "outputs": []
    },
    {
      "cell_type": "code",
      "source": [
        "# shape 확인\n",
        "X_train.shape"
      ],
      "metadata": {
        "colab": {
          "base_uri": "https://localhost:8080/"
        },
        "id": "6AJFid3hj6GW",
        "outputId": "bb2fa0c9-02a4-4b49-c33b-6beeb5d688e6"
      },
      "execution_count": 68,
      "outputs": [
        {
          "output_type": "execute_result",
          "data": {
            "text/plain": [
              "(60000, 28, 28)"
            ]
          },
          "metadata": {},
          "execution_count": 68
        }
      ]
    },
    {
      "cell_type": "code",
      "source": [
        "test_image = X_train[0]\n",
        "test_image.shape"
      ],
      "metadata": {
        "colab": {
          "base_uri": "https://localhost:8080/"
        },
        "id": "7dqM9mNskEG9",
        "outputId": "501dfd37-1498-4152-cbf0-8cbdd2c04370"
      },
      "execution_count": 69,
      "outputs": [
        {
          "output_type": "execute_result",
          "data": {
            "text/plain": [
              "(28, 28)"
            ]
          },
          "metadata": {},
          "execution_count": 69
        }
      ]
    },
    {
      "cell_type": "code",
      "source": [
        "plt.imshow(test_image, 'gray') # 채널에 대한 정보가 없으면 흑백\n",
        "plt.title(y_train[1])\n",
        "plt.show()"
      ],
      "metadata": {
        "colab": {
          "base_uri": "https://localhost:8080/",
          "height": 452
        },
        "id": "7QHIEoJplSzE",
        "outputId": "863116f7-67dc-40bb-f758-7fa64f2b32f8"
      },
      "execution_count": 70,
      "outputs": [
        {
          "output_type": "display_data",
          "data": {
            "text/plain": [
              "<Figure size 640x480 with 1 Axes>"
            ],
            "image/png": "[encoded data removed]"
          },
          "metadata": {}
        }
      ]
    },
    {
      "cell_type": "markdown",
      "source": [
        "데이터를 신경망에 넣을 준비 - 훈련, 테스트 모두 동일한 데이터의 feature의 개수를 가져야 한다.\n",
        "* 신경망은 평평하게 펴진 1차원 배열을 입력으로 받고 있다.\n",
        "* 즉 지금 우리가 사용할 신경망에 집어 넣을 데이터 1개의 형상은 1차원 배열 형태로 들어가야 한다.\n",
        "* 평평하게 펴진 데이터를 기반으로 예측을 수행하는 레이어\n",
        "  * 신경망 - Dense(Linear) Layer\n",
        "  * 기하학 - Affine Layer\n",
        "  * 통합적 - F.C Layer ( Fully Connected Layer ) - 전결합( 완전 연결 계층 )\n",
        "------\n",
        "신경망에 이미지 데이터를 입력할 수 있는 경우 확인하기\n",
        "* 장수에 대한 정보 없이 가로 세로 픽셀에 대한 정보만 있는 상황 : `(28, 28)` -> X\n",
        "* 장수에 대한 정보 없이 평탄화 시킨 상황 : `(784, )` -> O(일단은 허용. Tensorflow나 Pytorch 같은 머신러닝 라이브러리에서는 허용 X)\n",
        "-----\n",
        "`60000`장의 이미지 데이터가 `(28, 28)`인 경우. 즉 `(60000, 28, 28)`\n",
        "* 장수 데이터가 있는 상태에서 가로 세로 픽셀에 대한 정보만 있는 상황 : `(60000, 28, 28)` -> X\n",
        "* 장수 데이터가 있는 상태에서 평탄화 시킨 상황 : `(60000, 784)` -> O\n",
        "------\n",
        "입력되는 데이터의 차원이 `(N, M)`이면 신경망 F.C 레이어에 집어 넣을 수 있다.\n",
        "* `N` : BATCH_SIZE( 데이터의 개수 )\n",
        "* `M` : 데이터 스칼라의 개수\n",
        "  * 배치를 이야기 하지 않는 경우 : `(M, )`\n",
        "  * 배치를 이야기 하면 : `(N, M)`\n",
        "  \n",
        "**참고로 CNN은 Fully Connected Layer가 아니고, 2차원 배치 데이터를 사용하지 않기 때문에 (N, H, W, C)가 됩니다.**"
      ],
      "metadata": {
        "id": "ZbqOBFW7oYSX"
      }
    },
    {
      "cell_type": "code",
      "source": [
        "test_image.flatten().shape #1차원 배열 형태로 바뀜"
      ],
      "metadata": {
        "colab": {
          "base_uri": "https://localhost:8080/"
        },
        "id": "_EDyDNELlUWj",
        "outputId": "e6efbe9f-3593-4f63-a10b-3836535b548b"
      },
      "execution_count": 71,
      "outputs": [
        {
          "output_type": "execute_result",
          "data": {
            "text/plain": [
              "(784,)"
            ]
          },
          "metadata": {},
          "execution_count": 71
        }
      ]
    },
    {
      "cell_type": "code",
      "source": [
        "test_image.reshape(-1).shape"
      ],
      "metadata": {
        "colab": {
          "base_uri": "https://localhost:8080/"
        },
        "id": "1bhIyMbuq9Ie",
        "outputId": "2549773a-ba7e-4942-f452-b75953b943f8"
      },
      "execution_count": 72,
      "outputs": [
        {
          "output_type": "execute_result",
          "data": {
            "text/plain": [
              "(784,)"
            ]
          },
          "metadata": {},
          "execution_count": 72
        }
      ]
    },
    {
      "cell_type": "code",
      "source": [
        "test_image.reshape(1, -1).shape # 맨 앞의 1이라는 숫자가 배치 크기를, 뒤에는 feture의 크기를 의미한다."
      ],
      "metadata": {
        "colab": {
          "base_uri": "https://localhost:8080/"
        },
        "id": "nRp4hLIlrDqD",
        "outputId": "ae064476-511c-48b3-a94c-5e2a4a392a00"
      },
      "execution_count": 73,
      "outputs": [
        {
          "output_type": "execute_result",
          "data": {
            "text/plain": [
              "(1, 784)"
            ]
          },
          "metadata": {},
          "execution_count": 73
        }
      ]
    },
    {
      "cell_type": "markdown",
      "source": [
        "# Fully Connected Layer 구현"
      ],
      "metadata": {
        "id": "lqzJT8tdATUT"
      }
    },
    {
      "cell_type": "code",
      "source": [
        "def sigmoid(x):\n",
        "  return 1 / (1 + np.exp(-x))\n",
        "\n",
        "# 테스트 데이터만 가져오기\n",
        "def get_test_data():\n",
        "  _, (X_test, t_test) = mnist.load_data()\n",
        "\n",
        "  # YOUR CODE HERE\n",
        "  # 단순히 X_test로 리턴하는게 아닌 (N, M) 형태로 리턴하기\n",
        "\n",
        "  IMAGE_COUNT = X_test.shape[0] # shape[0] : 이미지개수 (X_test.shape -> (10000,28,28))\n",
        "\n",
        "  X_test_reshaped = X_test.reshape(IMAGE_COUNT, -1)\n",
        "\n",
        "  return X_test_reshaped, t_test\n",
        "\n",
        "# 이미 학습이 완료된 신경망 데이터 가져오기(sample_weight.pkl)\n",
        "def init_network():\n",
        "  import pickle\n",
        "  with open(\"/content/drive/MyDrive/Colab Notebooks/한경_MLOps/딥러닝/data/sample_weight.pkl\", \"rb\") as f:\n",
        "    network = pickle.load(f)\n",
        "\n",
        "  return network"
      ],
      "metadata": {
        "id": "aWDCmYejraMm"
      },
      "execution_count": 74,
      "outputs": []
    },
    {
      "cell_type": "code",
      "source": [
        "network = init_network()\n",
        "network[\"W1\"].shape #1층의 뉴런의 개수 : 50개"
      ],
      "metadata": {
        "colab": {
          "base_uri": "https://localhost:8080/"
        },
        "id": "n7gNwDCtBmCV",
        "outputId": "b43a55b2-7adc-4121-fb48-48df81e9595f"
      },
      "execution_count": 75,
      "outputs": [
        {
          "output_type": "execute_result",
          "data": {
            "text/plain": [
              "(784, 50)"
            ]
          },
          "metadata": {},
          "execution_count": 75
        }
      ]
    },
    {
      "cell_type": "code",
      "source": [
        "network[\"W2\"].shape #2층의 뉴런의 개수 : 100개"
      ],
      "metadata": {
        "colab": {
          "base_uri": "https://localhost:8080/"
        },
        "id": "H7VcwZymCqfL",
        "outputId": "27a6cfdc-85ad-4b91-cb2f-9181436eaa4f"
      },
      "execution_count": 76,
      "outputs": [
        {
          "output_type": "execute_result",
          "data": {
            "text/plain": [
              "(50, 100)"
            ]
          },
          "metadata": {},
          "execution_count": 76
        }
      ]
    },
    {
      "cell_type": "code",
      "source": [
        "network[\"W3\"].shape #3층의 뉴런의 개수 : 10개"
      ],
      "metadata": {
        "colab": {
          "base_uri": "https://localhost:8080/"
        },
        "id": "YUzcCl1uCtUW",
        "outputId": "c52bda7d-259a-4372-8e83-252bce223cf9"
      },
      "execution_count": 77,
      "outputs": [
        {
          "output_type": "execute_result",
          "data": {
            "text/plain": [
              "(100, 10)"
            ]
          },
          "metadata": {},
          "execution_count": 77
        }
      ]
    },
    {
      "cell_type": "code",
      "source": [
        "# network에 가중치가 들어있음\n",
        "def predict(network, x):\n",
        "  W1, W2, W3 = network['W1'], network['W2'], network['W3']\n",
        "  b1, b2, b3 = network['b1'], network['b2'], network['b3']\n",
        "\n",
        "  # 1층 구현하기\n",
        "  # x : 원래 28 x 28 형식의 이미지. 이것을 평탄화 시켜 784 차원 벡터로 만듦\n",
        "  # W1 : 뉴런의 개수가 몇 개인지는 몰라도\n",
        "  #      입력되는 데이터의 개수인 784개의 입력을 각각 받는다는 것은 알 수 있다.\n",
        "\n",
        "  z1 = x @ W1 + b1  # 선형 연산\n",
        "  a1 = sigmoid(z1) # 활성화 함수 적용을 통한 비선형성 부여\n",
        "\n",
        "  # 2층 구현하기\n",
        "  z2 = a1 @ W2 + b2\n",
        "  a2 = sigmoid(z2)\n",
        "\n",
        "  # 출력층(3층) 구현하기\n",
        "  z3 = a2 @ W3 + b3\n",
        "  pred = softmax(z3) # 마지막 층(출력층)이므로, softmax 함수로 나타내기\n",
        "\n",
        "  return pred\n"
      ],
      "metadata": {
        "id": "XJJvN4AVBTZm"
      },
      "execution_count": 78,
      "outputs": []
    },
    {
      "cell_type": "markdown",
      "source": [
        "# 추론 과정\n",
        "입력 데이터 -> 은닉층 -> 출력층\n",
        "- $(N, 784)$ -> 은닉층 -> $(?, 10)$\n",
        "- 결국, 레이어를 모두 통과하면, $(N, 10)$"
      ],
      "metadata": {
        "id": "WfoODhiKKIzN"
      }
    },
    {
      "cell_type": "code",
      "source": [
        "X, y = get_test_data()\n",
        "\n",
        "# 한 장의 이미지만 가져와서 테스트\n",
        "test_image, test_target = X[0], y[0]"
      ],
      "metadata": {
        "id": "wxDQxCvIELs-"
      },
      "execution_count": 79,
      "outputs": []
    },
    {
      "cell_type": "code",
      "source": [
        "net = init_network()\n",
        "\n",
        "test_result = predict(net, test_image)"
      ],
      "metadata": {
        "colab": {
          "base_uri": "https://localhost:8080/"
        },
        "id": "3zv6BnfrLZ1y",
        "outputId": "f2ce956e-495f-49da-814a-7ed58a63f03e"
      },
      "execution_count": 88,
      "outputs": [
        {
          "output_type": "stream",
          "name": "stderr",
          "text": [
            "<ipython-input-74-870de871762a>:2: RuntimeWarning: overflow encountered in exp\n",
            "  return 1 / (1 + np.exp(-x))\n"
          ]
        }
      ]
    },
    {
      "cell_type": "code",
      "source": [
        "# test_result : 한 장의 이미지가 모델을 통과한 결과\n",
        "# 이 모델의 결과는 softmax의 결과물임\n",
        "test_result\n",
        "\n",
        "'''\n",
        "결과 값\n",
        "[4.2913384e-06, 4.5766151e-07, 1.8497757e-04, 8.3665407e-05,\n",
        "1.5096828e-07, 6.3233085e-07, 4.5818943e-10, 3.6787942e-01,\n",
        "3.8097602e-07, 5.3097587e-04]\n",
        "\n",
        "0번 클래스, 1번 클래스 ...n번 클래스일 확률 값 출력\n",
        "'''"
      ],
      "metadata": {
        "colab": {
          "base_uri": "https://localhost:8080/",
          "height": 54
        },
        "id": "Vc-A7X1kLo3K",
        "outputId": "749fdbe3-48b3-4f43-a562-7290e3e7cfcb"
      },
      "execution_count": 89,
      "outputs": [
        {
          "output_type": "execute_result",
          "data": {
            "text/plain": [
              "'\\n결과 값 \\n[4.2913384e-06, 4.5766151e-07, 1.8497757e-04, 8.3665407e-05,\\n1.5096828e-07, 6.3233085e-07, 4.5818943e-10, 3.6787942e-01,\\n3.8097602e-07, 5.3097587e-04]\\n\\n0번 클래스, 1번 클래스 ...n번 클래스일 확률 값 출력\\n'"
            ],
            "application/vnd.google.colaboratory.intrinsic+json": {
              "type": "string"
            }
          },
          "metadata": {},
          "execution_count": 89
        }
      ]
    },
    {
      "cell_type": "code",
      "source": [
        "np.sum(test_result)"
      ],
      "metadata": {
        "colab": {
          "base_uri": "https://localhost:8080/"
        },
        "id": "RTzhhuo_Lyex",
        "outputId": "d39185e0-31c2-408b-dad7-1e32433d7f7a"
      },
      "execution_count": 90,
      "outputs": [
        {
          "output_type": "execute_result",
          "data": {
            "text/plain": [
              "0.9999999"
            ]
          },
          "metadata": {},
          "execution_count": 90
        }
      ]
    },
    {
      "cell_type": "code",
      "source": [
        "# 가장 확률 값이 높은 인덱스(클래스) 구해내기\n",
        "# 결과 : 7 -> 7번 클래스 값이라는 뜻\n",
        "np.argmax(test_result)"
      ],
      "metadata": {
        "colab": {
          "base_uri": "https://localhost:8080/"
        },
        "id": "IV9W2RapMakz",
        "outputId": "e9753f48-8e3f-44b3-c375-7cb17baf28c0"
      },
      "execution_count": 91,
      "outputs": [
        {
          "output_type": "execute_result",
          "data": {
            "text/plain": [
              "7"
            ]
          },
          "metadata": {},
          "execution_count": 91
        }
      ]
    },
    {
      "cell_type": "code",
      "source": [
        "plt.imshow(test_image.reshape(28,28), 'gray')"
      ],
      "metadata": {
        "colab": {
          "base_uri": "https://localhost:8080/",
          "height": 449
        },
        "id": "fLwZdnQWNtPp",
        "outputId": "64fd5483-e1f8-4aa6-9635-596477154a41"
      },
      "execution_count": 92,
      "outputs": [
        {
          "output_type": "execute_result",
          "data": {
            "text/plain": [
              "<matplotlib.image.AxesImage at 0x7842ca8ac130>"
            ]
          },
          "metadata": {},
          "execution_count": 92
        },
        {
          "output_type": "display_data",
          "data": {
            "text/plain": [
              "<Figure size 640x480 with 1 Axes>"
            ],
            "image/png": "[encoded data removed]"
          },
          "metadata": {}
        }
      ]
    },
    {
      "cell_type": "markdown",
      "source": [
        "# 모델의 예측 정확도 확인\n",
        "- 한 장씩 예측해서 정확도 확인"
      ],
      "metadata": {
        "id": "uYnO3sdgOdK0"
      }
    },
    {
      "cell_type": "code",
      "source": [
        "X, y = get_test_data()\n",
        "\n",
        "net = init_network()\n",
        "acc_count = 0 # 정답을 맞춘 개수를 저장(예를 들어 1만장 중에 500장 맞았으면 500)\n",
        "\n",
        "# 이미지를 한 장씩 꺼내서 테스트\n",
        "for i in range(len(X)):\n",
        "  image = X[i]\n",
        "\n",
        "  pred = predict(net, image) # 이미지 한 장 마다의 소프트맥스 결과물 (10,)\n",
        "  pred = np.argmax(pred) # 확률이 가장 높은 원소의 인덱스(예측 클래스)\n",
        "\n",
        "  acc_count += (pred == y[i]) # 맞췄으면 acc_count에 1 더하기\n",
        "\n",
        "float(acc_count / len(X)) # 맞춘 데이터 개수 / 전체 데이터 개수"
      ],
      "metadata": {
        "colab": {
          "base_uri": "https://localhost:8080/"
        },
        "id": "40DS47KXOAhK",
        "outputId": "821488bf-2b11-465e-e53f-a63896aa41ae"
      },
      "execution_count": 95,
      "outputs": [
        {
          "output_type": "stream",
          "name": "stderr",
          "text": [
            "<ipython-input-74-870de871762a>:2: RuntimeWarning: overflow encountered in exp\n",
            "  return 1 / (1 + np.exp(-x))\n"
          ]
        },
        {
          "output_type": "execute_result",
          "data": {
            "text/plain": [
              "0.9207"
            ]
          },
          "metadata": {},
          "execution_count": 95
        }
      ]
    },
    {
      "cell_type": "markdown",
      "source": [
        "위 코드의 단점\n",
        "  * 10,000장의 이미지를 한장식 예측을 하고 있다.\n",
        "  * 시간이 오래걸린다는 이야기이다.\n",
        "\n",
        "어떻게 해결할 수 있을까?\n",
        "  * **BATCH**를 사용해서 한장씩이 아닌 데이터의 묶음으로 예측을 하게 하겠다.\n",
        "  * 배치 : 데이터의 뭉터기"
      ],
      "metadata": {
        "id": "dWtICZ0EQSG5"
      }
    },
    {
      "cell_type": "code",
      "source": [
        "# 배치를 이용한 예측\n",
        "X, y = get_test_data()\n",
        "\n",
        "net = init_network()\n",
        "\n",
        "# 배치란? 데이터의 묶음. 정확한 명칭으로는 미니 배치\n",
        "# 원래 데이터 엔지니어링 관점에서의 배치는 가지고 있는 모든 데이터를 의미\n",
        "# 딥러닝 같은 머신러닝 모델링에서의 배치는 전체 데이터를 배치 사이즈 단위로 쪼갠 미니 배치를 그냥 배치라고 함\n",
        "\n",
        "batch_size = 100\n",
        "acc_count = 0\n",
        "\n",
        "for i in range(0, len(X), batch_size):\n",
        "  X_batch = X[i : i+ batch_size] # X[0 : 100] -> X[100 : 200] -> X[200 : 300]\n",
        "  pred_batch = predict(net, X_batch)\n",
        "  pred_batch = np.argmax(pred_batch, axis=1) #(100, 10) -> (100, 1)\n",
        "                    # predict - > (100, 1) == y -> (100, 1)\n",
        "  acc_count += np.sum(pred_batch == y[i : i + batch_size])\n",
        "\n",
        "float(acc_count / len(X))\n"
      ],
      "metadata": {
        "colab": {
          "base_uri": "https://localhost:8080/"
        },
        "id": "4JLdFr76OgbD",
        "outputId": "6d6bf1ea-4479-4a39-f3e0-66364f03137f"
      },
      "execution_count": 97,
      "outputs": [
        {
          "output_type": "stream",
          "name": "stderr",
          "text": [
            "<ipython-input-74-870de871762a>:2: RuntimeWarning: overflow encountered in exp\n",
            "  return 1 / (1 + np.exp(-x))\n"
          ]
        },
        {
          "output_type": "execute_result",
          "data": {
            "text/plain": [
              "0.9207"
            ]
          },
          "metadata": {},
          "execution_count": 97
        }
      ]
    }
  ]
}