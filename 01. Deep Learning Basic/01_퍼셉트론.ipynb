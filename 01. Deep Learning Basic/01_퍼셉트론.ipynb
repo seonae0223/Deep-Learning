{
  "nbformat": 4,
  "nbformat_minor": 0,
  "metadata": {
    "colab": {
      "provenance": [],
      "include_colab_link": true
    },
    "kernelspec": {
      "name": "python3",
      "display_name": "Python 3"
    },
    "language_info": {
      "name": "python"
    }
  },
  "cells": [
    {
      "cell_type": "markdown",
      "metadata": {
        "id": "view-in-github",
        "colab_type": "text"
      },
      "source": [
        "<a href=\"https://colab.research.google.com/github/seonae0223/Deep_Learning/blob/main/01_%ED%8D%BC%EC%85%89%ED%8A%B8%EB%A1%A0.ipynb\" target=\"_parent\"><img src=\"https://colab.research.google.com/assets/colab-badge.svg\" alt=\"Open In Colab\"/></a>"
      ]
    },
    {
      "cell_type": "code",
      "execution_count": null,
      "metadata": {
        "id": "oMOhzGyefEwa"
      },
      "outputs": [],
      "source": [
        "import matplotlib.pyplot as plt\n",
        "import numpy as np"
      ]
    },
    {
      "cell_type": "markdown",
      "source": [
        "# 퍼셉트론이란?\n",
        "* 입력된 다수에 데이터에 대해 어떠한 처리( 가중치 $w$ )를 곱해서 출력 하나($y$)를 내는 것\n",
        "\n",
        "$$\n",
        "y = \\begin{cases}\n",
        "0 \\enspace (w_1x_1 + w_2x_2 \\leq \\theta)\n",
        "\\\\ 1 \\enspace (w_1x_1 + w_2x_2 > \\theta) \\end{cases}\n",
        "$$\n",
        "\n",
        "위 수식을 반응 조건 계산식 이라고 한다."
      ],
      "metadata": {
        "id": "BDh__H3kfTnP"
      }
    },
    {
      "cell_type": "code",
      "source": [
        "# func : 퍼셉트론\n",
        "def func(x1, x2):\n",
        "  # 임의의 가중치인 w1, w2를 지정\n",
        "  # 임의의 임계값인 theta를 지정\n",
        "  w1, w2, theta = 0.5, 0.5, 2\n",
        "  y = w1*x1 + w2*x2\n",
        "\n",
        "  return y, y >= theta\n",
        "\n",
        "# 입력 데이터 생성\n",
        "x1 = np.linspace(-3, 7, 100)\n",
        "x2 = np.linspace(-3, 7, 100)\n",
        "\n",
        "# 퍼셉트론의 결과물 구하기\n",
        "y_value, y_result = func(x1, x2)\n",
        "\n",
        "# 시각화\n",
        "plt.plot(y_value, y_result)\n",
        "plt.yticks([0, 1])\n",
        "plt.xticks([-3,2,7], [r'-$\\infty$', r'$\\theta$', r'-$\\infty$'])\n",
        "plt.xlabel(r\"$w_1x_1+w_2x_2$\")\n",
        "plt.ylabel(\"y\", rotation=0)\n",
        "plt.show()"
      ],
      "metadata": {
        "colab": {
          "base_uri": "https://localhost:8080/",
          "height": 452
        },
        "id": "yTYz8qvAfZhe",
        "outputId": "e2115b9f-58c3-4819-95ae-237d0d573083"
      },
      "execution_count": null,
      "outputs": [
        {
          "output_type": "display_data",
          "data": {
            "text/plain": [
              "<Figure size 640x480 with 1 Axes>"
            ],
            "image/png": "[encoded data removed]"
          },
          "metadata": {}
        }
      ]
    },
    {
      "cell_type": "markdown",
      "source": [
        "# AND 게이트 구현 1"
      ],
      "metadata": {
        "id": "qzeg0-h0fklf"
      }
    },
    {
      "cell_type": "code",
      "source": [
        "def AND(x1, x2):\n",
        "  # x1, x2에 대해서 조건 검사 (if)를 하는 것은 퍼셉트론이 아니다!!!\n",
        "  # w1x1 + w2x2 > theta\n",
        "  w1, w2, theta = 0.5, 0.5, 0.7\n",
        "  z = w1*x1 + w2*x2\n",
        "\n",
        "  return int(z > theta)"
      ],
      "metadata": {
        "id": "DWWLWTEFfwVB"
      },
      "execution_count": null,
      "outputs": []
    },
    {
      "cell_type": "code",
      "source": [
        "AND(0, 0), AND(1, 0), AND(0, 1), AND(1, 1)"
      ],
      "metadata": {
        "colab": {
          "base_uri": "https://localhost:8080/"
        },
        "id": "OxzT7UHSgbIA",
        "outputId": "9d587deb-951f-4ddc-cf32-ad52bc50cadd"
      },
      "execution_count": null,
      "outputs": [
        {
          "output_type": "execute_result",
          "data": {
            "text/plain": [
              "(0, 0, 0, 1)"
            ]
          },
          "metadata": {},
          "execution_count": 6
        }
      ]
    },
    {
      "cell_type": "markdown",
      "source": [
        "$\\theta$를 기준으로 $w_1x_1 + w_2x_2$의 결과가 0 또는 1로 결정지어 진다. 이걸 일반화 시켜 어느 상황에서든 **반응 조건 계산식**을 활용할 수 있도록 일반화 시켜보기\n",
        "\n",
        "* 원래 수식\n",
        "\n",
        " * $\n",
        "y = \\begin{cases}\n",
        "0 \\enspace (w_1x_1 + w_2x_2 \\leq \\theta)\n",
        "\\\\ 1 \\enspace (w_1x_1 + w_2x_2 > \\theta) \\end{cases}\n",
        "$\n",
        "\n",
        "* 바뀐 수식\n",
        "\n",
        " * $\n",
        "y = \\begin{cases}\n",
        "0 \\enspace (w_1x_1 + w_2x_2 -\\theta \\leq 0)\n",
        "\\\\ 1 \\enspace (w_1x_1 + w_2x_2 -\\theta > 0) \\end{cases}\n",
        "$"
      ],
      "metadata": {
        "id": "aKbRkrPYgh3k"
      }
    },
    {
      "cell_type": "code",
      "source": [
        "z = np.linspace(-3, 3, 100)\n",
        "plt.plot(z, z > 0)\n",
        "plt.yticks([0, 1])\n",
        "plt.xticks([-3, 0, 3],[r'-$\\infty$', r'$0$', r'-$\\infty$'])\n",
        "plt.xlabel(r\"$z$\")\n",
        "plt.ylabel(r\"$y=\\mathcal{a}(z)$\", rotation=0)\n",
        "plt.show()"
      ],
      "metadata": {
        "colab": {
          "base_uri": "https://localhost:8080/",
          "height": 449
        },
        "id": "rJMxhD_YjKPa",
        "outputId": "1d23e065-946b-48bb-fcf3-fdbca3ac251b"
      },
      "execution_count": null,
      "outputs": [
        {
          "output_type": "display_data",
          "data": {
            "text/plain": [
              "<Figure size 640x480 with 1 Axes>"
            ],
            "image/png": "[encoded data removed]"
          },
          "metadata": {}
        }
      ]
    },
    {
      "cell_type": "markdown",
      "source": [
        "# AND 게이트 구현 2\n",
        "$\\theta$를 넘냐, 못넘냐에 대한 문제에서 0을 넘냐 못 넘냐가 됐음"
      ],
      "metadata": {
        "id": "0g32ht7qjXQn"
      }
    },
    {
      "cell_type": "code",
      "source": [
        "def AND(x1, x2):\n",
        "  w1, w2, theta = 0.5, 0.5, 0.7\n",
        "  z = w1*x1 + w2*x2 - theta\n",
        "\n",
        "  return int(z > 0)"
      ],
      "metadata": {
        "id": "wzbkSl1bjmcJ"
      },
      "execution_count": null,
      "outputs": []
    },
    {
      "cell_type": "code",
      "source": [
        "AND(0, 0), AND(1, 0), AND(0, 1), AND(1, 1)"
      ],
      "metadata": {
        "colab": {
          "base_uri": "https://localhost:8080/"
        },
        "id": "CKYa9ZfkjyW2",
        "outputId": "cb22ffaf-bff1-4603-b3ed-9c7db772e269"
      },
      "execution_count": null,
      "outputs": [
        {
          "output_type": "execute_result",
          "data": {
            "text/plain": [
              "(0, 0, 0, 1)"
            ]
          },
          "metadata": {},
          "execution_count": 10
        }
      ]
    },
    {
      "cell_type": "markdown",
      "source": [
        "* $\n",
        "y = \\begin{cases}\n",
        "0 \\enspace (w_1x_1 + w_2x_2 -\\theta \\leq 0)\n",
        "\\\\ 1 \\enspace (w_1x_1 + w_2x_2 -\\theta > 0) \\end{cases}\n",
        "$\n",
        "\n",
        "  * $-\\theta$를 $b$로 변경한다.( $\\theta$ = $-b$)\n",
        "\n",
        "* $\n",
        "y = \\begin{cases}\n",
        "0 \\enspace (w_1x_1 + w_2x_2 +b \\leq 0)\n",
        "\\\\ 1 \\enspace (w_1x_1 + w_2x_2 +b > 0) \\end{cases}\n",
        "$\n",
        "\n",
        "* $z = w_1x_1 + w_2x_2 +b$\n",
        "\n",
        "* $\n",
        "y = \\begin{cases}\n",
        "0 \\enspace (z \\leq 0)\n",
        "\\\\ 1 \\enspace (z > 0) \\end{cases}\n",
        "$\n",
        "\n",
        "* $\n",
        "a(z) = \\begin{cases}\n",
        "0 \\enspace (z \\leq 0)\n",
        "\\\\ 1 \\enspace (z > 0) \\end{cases}\n",
        "$\n",
        "\n",
        "* $y=a(z)$\n",
        "* 함수$a$를 **단위 계단 함수**"
      ],
      "metadata": {
        "id": "Od5iq2Rbj7Tg"
      }
    },
    {
      "cell_type": "markdown",
      "source": [
        "## 여러 개의 입력이 있다고 가정한다면??\n",
        "* $X=[x_1, x_2, x_3, ...]$\n",
        "* $W=[w_1, w_2, w_3, ...]$\n",
        "* $b$\n",
        "* $z = WX + b$"
      ],
      "metadata": {
        "id": "a0tAOHgkkESl"
      }
    },
    {
      "cell_type": "code",
      "source": [
        "x = np.array([0, 0])\n",
        "w = np.array([0.5, 0.5])\n",
        "b = -0.7 # theta가 0.7이었으니까 b는 -0.7\n",
        "\n",
        "z = w @ x + b\n",
        "z, z > 0"
      ],
      "metadata": {
        "colab": {
          "base_uri": "https://localhost:8080/"
        },
        "id": "SJhfDBOkksev",
        "outputId": "5098a489-8ee9-4b7e-cd86-92326a256abd"
      },
      "execution_count": null,
      "outputs": [
        {
          "output_type": "execute_result",
          "data": {
            "text/plain": [
              "(-0.7, False)"
            ]
          },
          "metadata": {},
          "execution_count": 16
        }
      ]
    },
    {
      "cell_type": "markdown",
      "source": [
        "# AND 게이트 만들기 3"
      ],
      "metadata": {
        "id": "MhJsuM-elPe-"
      }
    },
    {
      "cell_type": "code",
      "source": [
        "def AND(x1, x2):\n",
        "  x = np.array([x1, x2])\n",
        "  w = np.array([0.5, 0.5])\n",
        "  b = -0.7\n",
        "\n",
        "  z = w @ x + b # 입력값 벡터와 가중치 벡터를 내적해서 b를 더한 값\n",
        "\n",
        "  return int(z > 0)"
      ],
      "metadata": {
        "id": "h67O6yZzllVE"
      },
      "execution_count": null,
      "outputs": []
    },
    {
      "cell_type": "code",
      "source": [
        "AND(0, 0), AND(1, 0), AND(0, 1), AND(1, 1)"
      ],
      "metadata": {
        "colab": {
          "base_uri": "https://localhost:8080/"
        },
        "id": "v2GEoNfgl6TV",
        "outputId": "90d0f5c1-a8c5-4708-bbe0-a19f53a63f8d"
      },
      "execution_count": null,
      "outputs": [
        {
          "output_type": "execute_result",
          "data": {
            "text/plain": [
              "(0, 0, 0, 1)"
            ]
          },
          "metadata": {},
          "execution_count": 18
        }
      ]
    },
    {
      "cell_type": "markdown",
      "source": [
        "### 가중치와 편향에 대한 의미\n",
        "* 가중치 : 입력값에 대한 중요도\n",
        "  * 입력된 데이터에 대해 결과물이 1로 가거나, 0으로 갈 수 있도록 입력값을 조절하는 변수\n",
        "* 편향 : 퍼셉트론이 얼마나 **쉽게 활성화가 되는가**를 결정\n",
        "  * 활성화? 퍼셉트론의 결과물이 1이 되는것, $z$가 0을 넘어가는 것\n",
        "  * 편향이 크다면 입력 데이터나 가중치가 아무리 작아도 쉽게 활성화가 된다.\n",
        "    * 흥분도가 큰 퍼셉트론 - 민감한 퍼셉트론\n",
        "  * 편향이 작다면 입력 데이터나 가중치가 아무리 커도 쉽게 활성화가 되지 않는다.\n",
        "    * 흥분도가 낮은 퍼셉트론 - 둔감한 퍼셉트론"
      ],
      "metadata": {
        "id": "5acoWQJSl8a6"
      }
    },
    {
      "cell_type": "markdown",
      "source": [
        "# NAND 게이트 구현\n",
        "AND 게이트의 가중치, 편향 부호를 거꾸로"
      ],
      "metadata": {
        "id": "6OoXTnLxmCd4"
      }
    },
    {
      "cell_type": "code",
      "source": [
        "def NAND(x1, x2):\n",
        "  x = np.array([x1, x2])\n",
        "\n",
        "  # 가중치와 편향의 부호를 거꾸로\n",
        "  w = np.array([-0.5, -0.5])\n",
        "  b = 0.7\n",
        "\n",
        "  z = w @ x + b # 데이터에 대한 전기적인 신호처리\n",
        "  return int(z > 0)"
      ],
      "metadata": {
        "id": "2EqM5VL1mk8K"
      },
      "execution_count": null,
      "outputs": []
    },
    {
      "cell_type": "code",
      "source": [
        "NAND(0, 0), NAND(1, 0), NAND(0, 1), NAND(1, 1)"
      ],
      "metadata": {
        "colab": {
          "base_uri": "https://localhost:8080/"
        },
        "id": "__kp8FhPnZDv",
        "outputId": "2c19bbdb-64d0-4db8-c264-7d11c7c2fee9"
      },
      "execution_count": null,
      "outputs": [
        {
          "output_type": "execute_result",
          "data": {
            "text/plain": [
              "(1, 1, 1, 0)"
            ]
          },
          "metadata": {},
          "execution_count": 20
        }
      ]
    },
    {
      "cell_type": "markdown",
      "source": [
        "# OR 게이트\n",
        "AND 게이트의 매개변수(w, b)를 적절히 조절해 준다."
      ],
      "metadata": {
        "id": "y6nIjX-NngoG"
      }
    },
    {
      "cell_type": "code",
      "source": [
        "def OR(x1, x2):\n",
        "  x = np.array([x1, x2])\n",
        "\n",
        "  w = np.array([0.5, 0.5])\n",
        "  b = -0.2\n",
        "\n",
        "  z = w @ x + b\n",
        "  return int(z > 0)"
      ],
      "metadata": {
        "id": "RYde8KiUnseF"
      },
      "execution_count": null,
      "outputs": []
    },
    {
      "cell_type": "code",
      "source": [
        "OR(0, 0), OR(1, 0), OR(0, 1), OR(1, 1)"
      ],
      "metadata": {
        "colab": {
          "base_uri": "https://localhost:8080/"
        },
        "id": "Fmy17LYzn7QB",
        "outputId": "d8b52e20-b327-48bb-e838-e6bcf4837f82"
      },
      "execution_count": null,
      "outputs": [
        {
          "output_type": "execute_result",
          "data": {
            "text/plain": [
              "(0, 1, 1, 1)"
            ]
          },
          "metadata": {},
          "execution_count": 22
        }
      ]
    },
    {
      "cell_type": "markdown",
      "source": [
        "AND, NAND, OR 게이트를 구축하는 방법은 똑같으나, W, b가 달라짐에 따라서 **하는 일이 달라진다**\n",
        "\n",
        "각각 하나의 퍼셉트론으로써 연산을 충실히 수행.\n",
        "\n",
        "각각 입력값을 받아서 각자의 역할을 충실히 수행 하면, 한번의 입력에 대한 한번의 출력이 이루어 진다. : **단층 퍼셉트론**\n",
        "\n"
      ],
      "metadata": {
        "id": "82T-9C2MoAIn"
      }
    },
    {
      "cell_type": "markdown",
      "source": [
        "# 단층 퍼셉트론의 한계 - XOR 게이트 문제"
      ],
      "metadata": {
        "id": "AKliUlkqoUd6"
      }
    },
    {
      "cell_type": "code",
      "source": [
        "# OR 퍼셉트론에 대한 시각화\n",
        "\n",
        "plt.figure(figsize=(4,4))\n",
        "\n",
        "plt.scatter([0],[0], marker='o')\n",
        "plt.scatter([1,0,1],[0,1,1], marker='^')\n",
        "plt.xticks([0, 0.5, 1])\n",
        "plt.yticks([0, 0.5, 1])\n",
        "plt.xlim((-0.2,1.2))\n",
        "plt.ylim((-0.2,1.2))\n",
        "plt.xlabel(r'$x_1$')\n",
        "plt.ylabel(r'$x_2$', rotation=0)\n",
        "\n",
        "plt.show()"
      ],
      "metadata": {
        "colab": {
          "base_uri": "https://localhost:8080/",
          "height": 388
        },
        "id": "ZkQ3FYL9oY_I",
        "outputId": "10b3ce74-872c-47ad-e719-17f4f5b55ba0"
      },
      "execution_count": null,
      "outputs": [
        {
          "output_type": "display_data",
          "data": {
            "text/plain": [
              "<Figure size 400x400 with 1 Axes>"
            ],
            "image/png": "[encoded data removed]"
          },
          "metadata": {}
        }
      ]
    },
    {
      "cell_type": "code",
      "source": [
        "# XOR 게이트 시각화\n",
        "plt.figure(figsize=(4,4))\n",
        "\n",
        "plt.scatter([0,1],[0,1], marker='o')\n",
        "plt.scatter([1,0],[0,1], marker='^')\n",
        "plt.xticks([0, 0.5, 1])\n",
        "plt.yticks([0, 0.5, 1])\n",
        "plt.xlim((-0.2,1.2))\n",
        "plt.ylim((-0.2,1.2))\n",
        "plt.xlabel(r'$x_1$')\n",
        "plt.ylabel(r'$x_2$', rotation=0)\n",
        "\n",
        "plt.show()"
      ],
      "metadata": {
        "colab": {
          "base_uri": "https://localhost:8080/",
          "height": 388
        },
        "id": "bQt5QvG3oa9O",
        "outputId": "d5d2ec70-9eb1-4bd5-a8be-d5603c978d76"
      },
      "execution_count": null,
      "outputs": [
        {
          "output_type": "display_data",
          "data": {
            "text/plain": [
              "<Figure size 400x400 with 1 Axes>"
            ],
            "image/png": "[encoded data removed]"
          },
          "metadata": {}
        }
      ]
    },
    {
      "cell_type": "markdown",
      "source": [
        "# 각각의 일을 충실히 수행하는 단층을 퍼셉트론을 여러 개 쌓아서 다층 퍼셉트론을 만들자\n",
        "단층퍼셉트론 으로는 해결 할 수 없던 일을 다층 퍼셉트론을 해결 할 수 있다."
      ],
      "metadata": {
        "id": "TK7ctyb-ovya"
      }
    },
    {
      "cell_type": "code",
      "source": [
        "def XOR(x1, x2):\n",
        "  s1 = NAND(x1, x2)\n",
        "  s2 = OR(x1, x2)\n",
        "\n",
        "  # NAND의 결과 s1과 OR의 결과 s2를 AND 게이트에 집어 넣으면 XOR의 출력(y)이 된다.\n",
        "  y = AND(s1, s2)\n",
        "\n",
        "  return y"
      ],
      "metadata": {
        "id": "cXM1-EmSo98n"
      },
      "execution_count": null,
      "outputs": []
    },
    {
      "cell_type": "code",
      "source": [
        "XOR(0, 0), XOR(1, 0), XOR(0, 1), XOR(1 , 1)"
      ],
      "metadata": {
        "colab": {
          "base_uri": "https://localhost:8080/"
        },
        "id": "YoksiwSmploD",
        "outputId": "da99d714-1b8d-4470-f1fd-8ec86abb3d5c"
      },
      "execution_count": null,
      "outputs": [
        {
          "output_type": "execute_result",
          "data": {
            "text/plain": [
              "(0, 1, 1, 0)"
            ]
          },
          "metadata": {},
          "execution_count": 26
        }
      ]
    },
    {
      "cell_type": "code",
      "source": [],
      "metadata": {
        "id": "4g4Prkh8pso4"
      },
      "execution_count": null,
      "outputs": []
    }
  ]
}