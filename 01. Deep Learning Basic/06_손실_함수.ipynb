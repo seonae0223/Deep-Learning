{
  "nbformat": 4,
  "nbformat_minor": 0,
  "metadata": {
    "colab": {
      "provenance": [],
      "authorship_tag": "ABX9TyMZZ+J9AzbCFnSwwN8L6gxk",
      "include_colab_link": true
    },
    "kernelspec": {
      "name": "python3",
      "display_name": "Python 3"
    },
    "language_info": {
      "name": "python"
    }
  },
  "cells": [
    {
      "cell_type": "markdown",
      "metadata": {
        "id": "view-in-github",
        "colab_type": "text"
      },
      "source": [
        "<a href=\"https://colab.research.google.com/github/seonae0223/Deep_Learning/blob/main/06_%EC%86%90%EC%8B%A4_%ED%95%A8%EC%88%98.ipynb\" target=\"_parent\"><img src=\"https://colab.research.google.com/assets/colab-badge.svg\" alt=\"Open In Colab\"/></a>"
      ]
    },
    {
      "cell_type": "markdown",
      "source": [
        "# 손실함수\n",
        "머신러닝 모델의 성능 지표(metric)\n",
        "- Accuracy\n",
        "- F1-Score\n",
        "- Precision, Recall\n",
        "- ROC-AUC\n",
        "- 추가적으로 딥러닝에서는 Loss라는 지표를 우선시 한다. 언제? 훈련 할 때\n",
        "➡개발할 때 좋은 지표임"
      ],
      "metadata": {
        "id": "NWqzepDCpf2Z"
      }
    },
    {
      "cell_type": "markdown",
      "source": [
        "# 평균 제곱 오차 ( Mean Squared Error )\n",
        "신경망에서의 MSE\n",
        "$$\n",
        "MSE = \\frac{1}{2}\\sum_k(y_k-t_k)^2\n",
        "$$\n",
        "\n",
        "인간이 신경망을 공부할 때 사용하는 공부용 MSE 입니다..\n",
        "\n",
        "* $y_k$ : 신경망의 예측값\n",
        "* $t_k$ : 정답 레이블\n",
        "* $k$ : 출력층의 뉴런 개수\n",
        "  * `강아지, 고양이, 말을 예측 하면` $k$는 3 - `클래스는 [0, 1, 2]`\n",
        "  * MNIST 손글씨 데이터 셋이면 $k$는 10 - `클래스는 [0, 1, 2, 3, 4, 5, 6, 7, 8, 9]`\n",
        "\n",
        "----------\n",
        "* 보통 신경망에서는 `MSE`를 잘 쓰지 않고 `Cross Entropy Error`를 활용\n",
        "  * `MSE`는 신경망으로 회귀를 할 때 많이 사용\n",
        "* `MSE`를 배우는 이유는 말 그대로 `loss`에 대한 이해를 하기 위함\n",
        "* `MSE`는 신경망을 우리가 공부 할 때 개념을 익히는 데에 좋다. ( 실무에서는 사용 잘 안한다. )\n",
        "* 정상적인 $\\frac{1}{n}$을 사용하지 않고 $\\frac{1}{2}$을 사용한 이유는\n",
        "  * `MSE`를 미분 했을 때 남는게 순수한 오차라고 할 수 있는 $(y-t)$만 남기 때문에"
      ],
      "metadata": {
        "id": "5L5h_wh_qWkI"
      }
    },
    {
      "cell_type": "code",
      "execution_count": 2,
      "metadata": {
        "id": "8B409MNdpZp8"
      },
      "outputs": [],
      "source": [
        "import numpy as np\n",
        "\n",
        "# y : 예측\n",
        "y = np.array([0.1, 0.05, 0.6, 0.0, 0.05, 0.1, 0.0, 0.1, 0.0, 0.0]) # 2번 클래스로의 예측 확률이 60%\n",
        "\n",
        "# t : 타깃 (One Hot Encoding이 되어 있어야만 하는 상태)\n",
        "t = np.array([0,      0,   1,   0,    0,   0,   0,   0,   0,   0]) # 정답은 2라는 이야기 이다. 클래스의 개수만큼 One Hot Encoding이 되어있는 상태"
      ]
    },
    {
      "cell_type": "code",
      "source": [
        "# 각 클래스 별 순수한 오차\n",
        "y - t"
      ],
      "metadata": {
        "colab": {
          "base_uri": "https://localhost:8080/"
        },
        "id": "2sZHGISEqXIo",
        "outputId": "df1597e7-6b96-4e00-ad0a-ae837dd8ac2a"
      },
      "execution_count": 3,
      "outputs": [
        {
          "output_type": "execute_result",
          "data": {
            "text/plain": [
              "array([ 0.1 ,  0.05, -0.4 ,  0.  ,  0.05,  0.1 ,  0.  ,  0.1 ,  0.  ,\n",
              "        0.  ])"
            ]
          },
          "metadata": {},
          "execution_count": 3
        }
      ]
    },
    {
      "cell_type": "code",
      "source": [
        "def mean_squared_error(y, t):\n",
        "  return np.sum((y - t) ** 2) * 0.5 # 원래는 K(클래스의 개수)분의 1이지만, 간소화하기 위해 2분의 1"
      ],
      "metadata": {
        "id": "9ljMmnVXrPqu"
      },
      "execution_count": 4,
      "outputs": []
    },
    {
      "cell_type": "code",
      "source": [
        "# 모델이 정답을 2로 추정 했을 떄의 예측 오차(2로 예측한 확률이 0.6)\n",
        "\n",
        "mean_squared_error(y, t)"
      ],
      "metadata": {
        "colab": {
          "base_uri": "https://localhost:8080/"
        },
        "id": "avHQgGJ5rquw",
        "outputId": "78c4ad66-1915-49f0-8c97-4e3600db1d9d"
      },
      "execution_count": 5,
      "outputs": [
        {
          "output_type": "execute_result",
          "data": {
            "text/plain": [
              "0.09750000000000003"
            ]
          },
          "metadata": {},
          "execution_count": 5
        }
      ]
    },
    {
      "cell_type": "code",
      "source": [
        "y = np.array([0.1, 0.05, 0.6, 0.0, 0.05, 0.1, 0.0, 0.1, 0.0, 0.0]) # 2번 클래스로의 예측 확률이 60%\n",
        "print(\"정답을 2로 추정했을 때의 MSE값(0.6) : {:.3f}\".format(mean_squared_error(y, t)))\n",
        "\n",
        "y = np.array([0.1, 0.05, 0.8, 0.0, 0.05, 0.0, 0.0, 0.0, 0.0, 0.0]) # 2번 클래스로의 예측 확률이 80%\n",
        "print(\"정답을 2로 추정했을 때의 MSE값(0.8) : {:.3f}\".format(mean_squared_error(y, t)))\n",
        "\n",
        "y = np.array([0.7, 0.05, 0.1 , 0.0, 0.05, 0.0, 0.0, 0.1, 0.0, 0.0]) # 2번 클래스로의 예측 확률이 10%\n",
        "print(\"정답을 2로 추정했을 때의 MSE값(0.1) : {:.3f}\".format(mean_squared_error(y, t)))\n",
        "\n",
        "\n",
        "# 내가 정답 클래스로 예측할 확률은 높이고, 정답이 아닌 클래스로 예측할 확률은 낮추는 원리\n",
        "# 따라서 Loss 값인 MSE 값이 정답을 2로 추정한 확률이 높았을 때, 가장 낮게 측정된다.\n",
        "# Loss 즉, MSE 값이 낮아야 모델의 성능이 좋은 것이다."
      ],
      "metadata": {
        "colab": {
          "base_uri": "https://localhost:8080/"
        },
        "id": "g891EIIgrxL4",
        "outputId": "75e221ac-af45-4725-d419-5444798923e5"
      },
      "execution_count": 6,
      "outputs": [
        {
          "output_type": "stream",
          "name": "stdout",
          "text": [
            "정답을 2로 추정했을 때의 MSE값(0.6) : 0.098\n",
            "정답을 2로 추정했을 때의 MSE값(0.8) : 0.027\n",
            "정답을 2로 추정했을 때의 MSE값(0.1) : 0.657\n"
          ]
        }
      ]
    },
    {
      "cell_type": "markdown",
      "source": [
        "# 교차 엔트로피 오차( Cross Entropy Error )\n",
        "$$\n",
        "CEE = -\\sum_{k}t_k\\log{y_k}\n",
        "$$\n",
        "\n",
        "* $t_k$는 `One Hot Encoding`이 되어있는 상태\n",
        "* $k$는 클래스의 개수\n",
        "* 정답 레이블의 소프트맥스의 결과가 0.6이면 $-\\log{0.6}$을 구한것과 똑같다."
      ],
      "metadata": {
        "id": "LoKU2lBVtDrN"
      }
    },
    {
      "cell_type": "code",
      "source": [
        "def cross_entropy_error(y, t):\n",
        "  delta = 1e-7 # epsilon이라고도 함. log 0이 되는 것을 방지\n",
        "  return -np.sum(t * np.log(y + delta))"
      ],
      "metadata": {
        "id": "WGaGvHHdr-6n"
      },
      "execution_count": 9,
      "outputs": []
    },
    {
      "cell_type": "code",
      "source": [
        "t = np.array([0, 0, 1,   0,    0,   0,   0,   0,   0,   0]) # 정답은 2\n",
        "\n",
        "y = np.array([0.1, 0.05, 0.6, 0.0, 0.05, 0.1, 0.0, 0.1, 0.0, 0.0]) # 2번 클래스로의 예측 확률이 60%\n",
        "print(\"정답을 2로 추정했을 때의 CEE값(0.6) : {:.3f}\".format(cross_entropy_error(y, t)))\n",
        "\n",
        "y = np.array([0.1, 0.05, 0.8, 0.0, 0.05, 0.0, 0.0, 0.0, 0.0, 0.0]) # 2번 클래스로의 예측 확률이 80%\n",
        "print(\"정답을 2로 추정했을 때의 CEE값(0.8) : {:.3f}\".format(cross_entropy_error(y, t)))\n",
        "\n",
        "y = np.array([0.7, 0.05, 0.1 , 0.0, 0.05, 0.0, 0.0, 0.1, 0.0, 0.0]) # 2번 클래스로의 예측 확률이 10%\n",
        "print(\"정답을 2로 추정했을 때의 CEE값(0.1) : {:.3f}\".format(cross_entropy_error(y, t)))\n",
        "\n",
        "\n",
        "# MSE에 log 함수를 반영한 좌표로, 오차를 더욱 강조해서 보여줄 수 있다.\n",
        "# MSE보다 CEE가 미분을 하기가 더 쉽고, 오차를 강조할 수 있기 때문에 주로 CEE를 사용한다."
      ],
      "metadata": {
        "colab": {
          "base_uri": "https://localhost:8080/"
        },
        "id": "ScqHwrYktGhC",
        "outputId": "e5d912b3-01fd-4f7d-bd38-2b4ab35c2b5a"
      },
      "execution_count": 10,
      "outputs": [
        {
          "output_type": "stream",
          "name": "stdout",
          "text": [
            "정답을 2로 추정했을 때의 CEE값(0.6) : 0.511\n",
            "정답을 2로 추정했을 때의 CEE값(0.8) : 0.223\n",
            "정답을 2로 추정했을 때의 CEE값(0.1) : 2.303\n"
          ]
        }
      ]
    },
    {
      "cell_type": "code",
      "source": [],
      "metadata": {
        "id": "zVIVjFnUt56b"
      },
      "execution_count": null,
      "outputs": []
    }
  ]
}