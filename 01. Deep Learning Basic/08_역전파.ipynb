{
  "nbformat": 4,
  "nbformat_minor": 0,
  "metadata": {
    "colab": {
      "provenance": [],
      "authorship_tag": "ABX9TyPil5mSZFAqFN+9f7z/K/5f",
      "include_colab_link": true
    },
    "kernelspec": {
      "name": "python3",
      "display_name": "Python 3"
    },
    "language_info": {
      "name": "python"
    }
  },
  "cells": [
    {
      "cell_type": "markdown",
      "metadata": {
        "id": "view-in-github",
        "colab_type": "text"
      },
      "source": [
        "<a href=\"https://colab.research.google.com/github/seonae0223/Deep_Learning/blob/main/08_%EC%97%AD%EC%A0%84%ED%8C%8C.ipynb\" target=\"_parent\"><img src=\"https://colab.research.google.com/assets/colab-badge.svg\" alt=\"Open In Colab\"/></a>"
      ]
    },
    {
      "cell_type": "markdown",
      "source": [
        "# 곱셈 계층 구현\n",
        "* `forward`(순전파) : `x * y`\n",
        "* `backward`(역전파) : `dx = 미분값 * y`, `dy = 미분값 * x`\n",
        "* 비고 : forward시에 입력되었던 `x, y`를 저장하고 있어야 한다. 그래야 Backward 할 때 반대방향으로 곱해줄 수 있다."
      ],
      "metadata": {
        "id": "x3PCgvTT1vUV"
      }
    },
    {
      "cell_type": "code",
      "execution_count": 2,
      "metadata": {
        "id": "UH8sjVmj1I0n"
      },
      "outputs": [],
      "source": [
        "class MulLayer:\n",
        "  # 레이어에서 사용할 변수 준비\n",
        "  def __init__(self):\n",
        "    self.x = None\n",
        "    self.y = None\n",
        "\n",
        "  # 곱셈 레이어에서의 순전파 : x, y를 곱하고, 각 x, y를 저장\n",
        "  def forward(self, x, y):\n",
        "    self.x = x\n",
        "    self.y = y\n",
        "\n",
        "    # 순전파에서 해야 할 연산\n",
        "    out = x * y\n",
        "    return out\n",
        "\n",
        "  # 곱셈 레이어의 역전파 : 들어온 미분 값을 x에는 y를 곱하고, y에는 x를 곱함\n",
        "  def backward(self, dout):\n",
        "    # dout : 다음 층에서 흘러들어오는 미분값\n",
        "    dx = dout * self.y\n",
        "    dy = dout * self.x\n",
        "\n",
        "    return dx, dy"
      ]
    },
    {
      "cell_type": "code",
      "source": [
        "# 곱셈 레이어 테스트\n",
        "apple = 100 # 사과 한 개당 가격\n",
        "applt_cnt = 2 # 사과 개수\n",
        "tax = 1.1"
      ],
      "metadata": {
        "id": "gnt6N4tN1QEC"
      },
      "execution_count": 3,
      "outputs": []
    },
    {
      "cell_type": "code",
      "source": [
        "mul_apple_layer = MulLayer() # 사과의 총 가격을 구하는 레이어\n",
        "mul_tax_layer = MulLayer() # 소비세까지 적용시킨 가격을 구하는 레이어\n",
        "\n",
        "# 순전파 수행\n",
        "#  - 순서를 반드시 잘 지켜야 한다.\n",
        "#  계획한 순서 그대로 레이어를 배치해서 입력값을 흘려보내야 한다.\n",
        "#  순전파 수행 시에 A - B - C 순으로 계산을 했다면,\n",
        "#  역전파 수행 시에는 C - B - A 순으로 미분값을 전달해야 한다.\n",
        "\n",
        "apple_price = mul_apple_layer.forward(apple, applt_cnt)\n",
        "price = mul_tax_layer.forward(apple_price, tax)\n",
        "\n",
        "print(\"사과의 최종 가격 : {:.0f}\".format(price))"
      ],
      "metadata": {
        "colab": {
          "base_uri": "https://localhost:8080/"
        },
        "id": "A9UU8Jfq6Awv",
        "outputId": "91c38692-9594-469d-9ac3-b9c5327733f8"
      },
      "execution_count": 5,
      "outputs": [
        {
          "output_type": "stream",
          "name": "stdout",
          "text": [
            "사과의 최종 가격 : 220\n"
          ]
        }
      ]
    },
    {
      "cell_type": "code",
      "source": [
        "# 역전파\n",
        "# 제일 마지막 값에 대한 미분값 생각하기\n",
        "# d돈통 / d포스기 =1\n",
        "\n",
        "dprice = 1\n",
        "dapple_price, dtax = mul_tax_layer.backward(dprice)\n",
        "\n",
        "# 사과 가격, 사과 개수에 대한 미분값 구하기\n",
        "dapple, dapple_cnt = mul_apple_layer.backward(dapple_price)\n",
        "\n",
        "print(\"사과 전체 가격에 대한 미분값 d돈통/d사과전체가격 : {}\".format(dapple_price))\n",
        "print(\"사과 1개 가격에 대한 미분값 d돈통/d사과1개가격 : {}\".format(dapple))\n",
        "print(\"사과 개수에 대한 미분값 d돈통/d사과개수 : {}\".format(dapple_cnt))\n",
        "print(\"소비세에 대한 미분값 d돈통/d소비세 : {}\".format(dtax))\n"
      ],
      "metadata": {
        "colab": {
          "base_uri": "https://localhost:8080/"
        },
        "id": "b_VPPUIm6xSn",
        "outputId": "901c367b-9af7-4d6c-f164-44fdb75d844f"
      },
      "execution_count": 6,
      "outputs": [
        {
          "output_type": "stream",
          "name": "stdout",
          "text": [
            "사과 전체 가격에 대한 미분값 d돈통/d사과전체가격 : 1.1\n",
            "사과 1개 가격에 대한 미분값 d돈통/d사과1개가격 : 2.2\n",
            "사과 개수에 대한 미분값 d돈통/d사과개수 : 110.00000000000001\n",
            "소비세에 대한 미분값 d돈통/d소비세 : 200\n"
          ]
        }
      ]
    },
    {
      "cell_type": "markdown",
      "source": [
        "# 덧셈 레이어 구현\n",
        "* `forward` : `x + y`\n",
        "* `backward` : 뒷층에서 보낸 미분값에 *1만 하면 된다. `dx = dout * 1`, `dy = dout * 1`\n",
        "  * `dx = dout * dforward/dx`\n",
        "  * `dy = dout * dforward/dy`\n",
        "* 비고 : 곱셈 계층과는 다르게 `forward`시에 입력된 값을 가지고 있지 않아도 된다. 역전파 시에는 미분값만 리턴하면 되니까"
      ],
      "metadata": {
        "id": "iJ-lujRs86wv"
      }
    },
    {
      "cell_type": "code",
      "source": [
        "class AddLayer:\n",
        "  def __init__(self):\n",
        "    pass\n",
        "\n",
        "  def forward(self, x, y):\n",
        "    out = x + y\n",
        "    return out\n",
        "\n",
        "  def backward(self, dout):\n",
        "    dx = dout * 1\n",
        "    dy = dout * 1\n",
        "\n",
        "    return dx, dy"
      ],
      "metadata": {
        "id": "Ixs4Zgvk8Ovq"
      },
      "execution_count": 7,
      "outputs": []
    },
    {
      "cell_type": "code",
      "source": [
        "apple = 100\n",
        "apple_cnt = 2\n",
        "\n",
        "orange = 150\n",
        "orange_cnt = 3\n",
        "\n",
        "tax =1.1"
      ],
      "metadata": {
        "id": "m3sQXbbn9lRY"
      },
      "execution_count": 8,
      "outputs": []
    },
    {
      "cell_type": "code",
      "source": [
        "# 1 계층 - 사과에 대한 국소적 계산, 오렌지에 대한 국소적 계산\n",
        "#  (사과 1개 가격 * 사과 개수), (오렌지 1개 가격 * 오렌지 개수)\n",
        "\n",
        "mul_apple_layer = MulLayer()\n",
        "mul_orange_layer = MulLayer()\n",
        "\n",
        "\n",
        "# 2 계층 - 사과 전체 가격 + 오렌지 전체 가격\n",
        "add_apple_orange_layer = AddLayer()\n",
        "\n",
        "# 3 계층 - 소비세 적용\n",
        "mul_tax_layer = MulLayer()"
      ],
      "metadata": {
        "id": "1omZHUV7-BOI"
      },
      "execution_count": 10,
      "outputs": []
    },
    {
      "cell_type": "code",
      "source": [
        "# 순전파\n",
        "\n",
        "# 1 계층 계산\n",
        "apple_price = mul_apple_layer.forward(apple, apple_cnt)\n",
        "orange_price = mul_orange_layer.forward(orange, orange_cnt)\n",
        "\n",
        "# 2 계층 계산\n",
        "total_price = add_apple_orange_layer.forward(apple_price, orange_price)\n",
        "\n",
        "# 3 계층 계산\n",
        "price = mul_tax_layer.forward(total_price, tax)\n"
      ],
      "metadata": {
        "id": "f1IisL-J-YpI"
      },
      "execution_count": 11,
      "outputs": []
    },
    {
      "cell_type": "code",
      "source": [
        "price"
      ],
      "metadata": {
        "colab": {
          "base_uri": "https://localhost:8080/"
        },
        "id": "gAcgb3L6_erY",
        "outputId": "e284d7b1-dd05-410d-c6df-f5aa1afa6fc7"
      },
      "execution_count": 12,
      "outputs": [
        {
          "output_type": "execute_result",
          "data": {
            "text/plain": [
              "715.0000000000001"
            ]
          },
          "metadata": {},
          "execution_count": 12
        }
      ]
    },
    {
      "cell_type": "code",
      "source": [
        "# 역전파\n",
        "dprice = 1 # d돈통 / d포스기\n",
        "\n",
        "# d돈통/dtotal_price, d돈통 / dtax\n",
        "dtotal_price, dtax = mul_tax_layer.backward(dprice)\n",
        "\n",
        "# 2 계층\n",
        "# d돈통 / dapple_price, d돈통 / dorange_price\n",
        "dapple_price, dorange_price = add_apple_orange_layer.backward(dtotal_price)\n",
        "\n",
        "# 1 계층\n",
        "# 사과와 오렌지에 대한 각각의 미분값 (국소적 미분)\n",
        "dapple, dapple_cnt = mul_apple_layer.backward(dapple_price)\n",
        "dorange, dorange_cnt = mul_orange_layer.backward(dorange_price)\n",
        "\n",
        "print(\"소비세 미분 : {}\".format(dtax))\n",
        "\n",
        "print(\"사과 전체 가격 미분 : {}\".format(dapple_price))\n",
        "print(\"사과 개수 미분 : {}\".format(dapple_cnt))\n",
        "print(\"사과 가격 미분 : {}\".format(dapple))\n",
        "\n",
        "print(\"오렌지 전체 가격 미분 : {}\".format(dorange_price))\n",
        "print(\"오렌지 개수 미분 : {}\".format(dorange_cnt))\n",
        "print(\"오렌지 가격 미분 : {}\".format(dorange))"
      ],
      "metadata": {
        "colab": {
          "base_uri": "https://localhost:8080/"
        },
        "id": "yBm4BS1M_0U2",
        "outputId": "99318b3d-4f13-468b-db26-e1e691504ea0"
      },
      "execution_count": 15,
      "outputs": [
        {
          "output_type": "stream",
          "name": "stdout",
          "text": [
            "소비세 미분 : 650\n",
            "사과 전체 가격 미분 : 1.1\n",
            "사과 개수 미분 : 110.00000000000001\n",
            "사과 가격 미분 : 2.2\n",
            "오렌지 전체 가격 미분 : 1.1\n",
            "오렌지 개수 미분 : 165.0\n",
            "오렌지 가격 미분 : 3.3000000000000003\n"
          ]
        }
      ]
    }
  ]
}