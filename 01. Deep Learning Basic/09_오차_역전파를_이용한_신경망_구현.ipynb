{
  "nbformat": 4,
  "nbformat_minor": 0,
  "metadata": {
    "colab": {
      "provenance": [],
      "include_colab_link": true
    },
    "kernelspec": {
      "name": "python3",
      "display_name": "Python 3"
    },
    "language_info": {
      "name": "python"
    }
  },
  "cells": [
    {
      "cell_type": "markdown",
      "metadata": {
        "id": "view-in-github",
        "colab_type": "text"
      },
      "source": [
        "<a href=\"https://colab.research.google.com/github/seonae0223/Deep_Learning/blob/main/09_%EC%98%A4%EC%B0%A8_%EC%97%AD%EC%A0%84%ED%8C%8C%EB%A5%BC_%EC%9D%B4%EC%9A%A9%ED%95%9C_%EC%8B%A0%EA%B2%BD%EB%A7%9D_%EA%B5%AC%ED%98%84.ipynb\" target=\"_parent\"><img src=\"https://colab.research.google.com/assets/colab-badge.svg\" alt=\"Open In Colab\"/></a>"
      ]
    },
    {
      "cell_type": "code",
      "execution_count": null,
      "metadata": {
        "id": "3xDjBqDTxOn6"
      },
      "outputs": [],
      "source": [
        "import numpy as np"
      ]
    },
    {
      "cell_type": "markdown",
      "source": [
        "# ReLU Layer"
      ],
      "metadata": {
        "id": "CHGGDB3wxYcX"
      }
    },
    {
      "cell_type": "code",
      "source": [
        "class ReLU:\n",
        "\n",
        "  def __init__(self):\n",
        "    # mask -> 순전파 때 음수 였던 위치를 마스킹.\n",
        "    #         역전파 때 음수 였떤 부분을 0으로 내보낼 수 있도록 할 예정\n",
        "    self.mask = None\n",
        "\n",
        "  def forward(self, x):\n",
        "    self.mask = (x <= 0) # [1, -1, 3, -2] -> [ F, T, F, T ]\n",
        "    out = x.copy() # copy를 하지 않으면 원래 입력된 데이터 자체가 변경\n",
        "\n",
        "    out[self.mask] = 0 # 음수인 부분을 0으로 만들어 준다.\n",
        "    return out\n",
        "\n",
        "  def backward(self, dout):\n",
        "    '''\n",
        "      dout : 뒤에서 부터 전달된 미분값이 들어있는 배열이 들어온다.\n",
        "    '''\n",
        "    dout[self.mask] = 0 # 예를 들어 순전파 때 [+, -, +] 들어왔으면\n",
        "                        # 역전파 수행 시에 - 였던 부분을 0으로 만들어 준다.\n",
        "\n",
        "    dx = dout\n",
        "    return dx"
      ],
      "metadata": {
        "id": "-ojoEh5-yrp8"
      },
      "execution_count": null,
      "outputs": []
    },
    {
      "cell_type": "code",
      "source": [
        "x = np.array([[1.0, -0.5],\n",
        "              [-2.0, 3.0]])\n",
        "\n",
        "relu = ReLU()\n",
        "relu.forward(x)"
      ],
      "metadata": {
        "colab": {
          "base_uri": "https://localhost:8080/"
        },
        "id": "Pvyn994P1e6K",
        "outputId": "ae95e461-6451-45c7-aa70-0d49f0d1c3dc"
      },
      "execution_count": null,
      "outputs": [
        {
          "output_type": "execute_result",
          "data": {
            "text/plain": [
              "array([[1., 0.],\n",
              "       [0., 3.]])"
            ]
          },
          "metadata": {},
          "execution_count": 4
        }
      ]
    },
    {
      "cell_type": "code",
      "source": [
        "dout = np.array([[-1.0, 0.5],\n",
        "                 [-2.0, 3.0]])\n",
        "\n",
        "relu.backward(dout)"
      ],
      "metadata": {
        "colab": {
          "base_uri": "https://localhost:8080/"
        },
        "id": "7LMS6q121u1d",
        "outputId": "eec63678-d516-4bcf-a870-36871b54f794"
      },
      "execution_count": null,
      "outputs": [
        {
          "output_type": "execute_result",
          "data": {
            "text/plain": [
              "array([[-1.,  0.],\n",
              "       [ 0.,  3.]])"
            ]
          },
          "metadata": {},
          "execution_count": 5
        }
      ]
    },
    {
      "cell_type": "markdown",
      "source": [
        "# $\\sigma$(시그모이드) 구현\n",
        "$$\n",
        "\\sigma(x) = \\frac{\\mathrm{1} }{\\mathrm{1} + exp(-x)}\n",
        "$$\n",
        "\n",
        "$$\n",
        "y = \\sigma(x)\n",
        "$$\n",
        "\n",
        "$$\n",
        "y' = \\sigma(x)(1-\\sigma(x))\n",
        "$$\n",
        "\n",
        "$$\n",
        "y' = y(1-y)\n",
        "$$\n",
        "\n",
        "* 시그모이드 레이어에서 순전파 때 기억하고 있어야 할 값 : $y$값만 알고 있으면 된다."
      ],
      "metadata": {
        "id": "XQdsbBBc2C_Q"
      }
    },
    {
      "cell_type": "code",
      "source": [
        "class Sigmoid:\n",
        "\n",
        "  def __init__(self):\n",
        "    # 순전파 때 구한 y를 역전파(도함수) 수행시에 y(1-y)를 계산\n",
        "    self.out = None\n",
        "\n",
        "  def forward(self, x):\n",
        "    out = 1 / (1 + np.exp(-x))\n",
        "    self.out = out\n",
        "\n",
        "    return out\n",
        "\n",
        "  def backward(self, dout):\n",
        "    dx = dout * self.out * (1 - self.out) # dout * y(1-y)\n",
        "    return dx"
      ],
      "metadata": {
        "id": "JQWlFmDG2ROQ"
      },
      "execution_count": null,
      "outputs": []
    },
    {
      "cell_type": "markdown",
      "source": [
        "# Linear(Dense, FCL) 계층\n",
        "* `forward`\n",
        "  1. 입력값 `x`와 가중치 `W`의 내적 + `b` (`WX+b`)\n",
        "  2. 평탄화\n",
        "    * 1차원 배열로 데이터가 들어왔을 때 대응\n",
        "    * 다차원 배열( 텐서 )에 대한 대응\n",
        "    * **원본 데이터의 형상을 저장**\n",
        "* `backward`\n",
        "  1. 미분값(`dout`)과 가중치의 전치행렬(`W.T`) 내적 ( 입력값에 대한 미분값 )\n",
        "  2. 입력값의 전치행렬(`X.T`)과 미분값(`dout`) 내적 ( 가중치에 대한 미분값 )\n",
        "  3. 배치를 축으로 편향 합 구하기 (`axis=0`)\n",
        "  4. 입력값의 미분값(`dx`)의 형상을 원본 `x`의 형상으로 다시 바꿔주기\n",
        "\n",
        "`forward`에 의해서 형상(shape) 변환이 일어나기 때문에 `backward`할 때 원본 모양으로 되돌려 준다.\n",
        "* `(100, 28, 28)`이 입력으로 들어오면, `forward`에서 평탄화에 의해 `(100, 784)`가 된다.\n",
        "* 텐서에도 모두 내적을 수행할 수 있도록 원본 형상인 `(100, 28, 28)`저장을 해 놨다가 `backward`할 때 저장했던 원본 모양으로 **미분값 배열**의 형상을 되돌려 준다.\n",
        "\n",
        "**저장해야 할 값**\n",
        "1. 원본 `x`의 형상(shape)\n",
        "2. 원본 `x` 데이터\n",
        "3. 가중치, 편향\n",
        "4. `dW`, `db`\n",
        "  * 미분값을 알고 있어야 나중에 최적화( Optimization )를 할 수 있다."
      ],
      "metadata": {
        "id": "3SE7ovwU9Z2t"
      }
    },
    {
      "cell_type": "code",
      "source": [
        "class Linear:\n",
        "  def __init__(self, W, b):\n",
        "    # 1. 가중치, 편향\n",
        "    self.W = W\n",
        "    self.b = b\n",
        "\n",
        "    self.x = None\n",
        "\n",
        "    # 2. [쓰잘데기 없는거] x의 shape 저장\n",
        "    self.original_x_shape = None\n",
        "\n",
        "    # 3. W와 b의 기울기 배열 저장\n",
        "    #    최적화(Optimization)를 위해 각 매개변수의 미분값이 필요하기 때문\n",
        "    #    추후 경사하강법 구현 시에 사용됨.\n",
        "    self.dW = None\n",
        "    self.db = None\n",
        "\n",
        "  def forward(self, x):\n",
        "    # [쓰잘데기 없는거]텐서 대응을 위해 입력 값 x의 shape을 저장\n",
        "    #    ex) x가 (3, 2, 2) -> 3개의 데이터가 (2, 2)의 모양으로 들어옴\n",
        "    # 근데 이거를 선형연산 할거면(XW) (3, 2*2)형식으로 평탄화를 해야 함\n",
        "    # 그래서 미분값이 (3, 4)의 형태로 들어온다.\n",
        "\n",
        "    # 역전파 수행 시에 가중치 방향으로 곱하기 위해 저장    # 따라서 마지막에 x쪽으로 미분값 전달 시에는 다시 (3, 2, 2)형식으로 바꿔야 함\n",
        "    self.original_x_shape = x.shape\n",
        "\n",
        "    # 평탄화 수행\n",
        "    DATA_SIZE = x.shape[0] # 배치 사이즈 가져오기\n",
        "    x = x.reshape(DATA_SIZE, -1)\n",
        "\n",
        "    self.x = x\n",
        "\n",
        "    out = self.x @ self.W + self.b # (N, M) @ (M, K) + (K, )\n",
        "                                  #   ==> (N, K)\n",
        "    return out\n",
        "\n",
        "  def backward(self, dout): # dout의 shape -> (N, K)\n",
        "    # 입력값에 내보내는 미분값 계산\n",
        "    dx = dout @ self.W.T # 델타 @ 가중치 # (N, K) @ (K, M) -> (N, M)\n",
        "\n",
        "    self.dW = self.x.T @ dout # (M, N) @ (N, K) -> (M, K)\n",
        "    self.db = np.sum(dout, axis=0) # (N, K) -> (K, )\n",
        "\n",
        "    return dx"
      ],
      "metadata": {
        "id": "qKHy9E4T3iNx"
      },
      "execution_count": null,
      "outputs": []
    },
    {
      "cell_type": "markdown",
      "source": [
        "# SoftmaxWithLoss 계층(출력층)\n",
        "* softmax에 의한 분류 및 CEE를 활용한 손실함수를 동시에 구현\n",
        "* `forward`\n",
        "  * 순전파 시에는 softmax를 적용하고, loss를 적용\n",
        "    * 정답 레이블(`t`)\n",
        "    * 예측값( 소프트맥스 결과물 )\n",
        "    * loss값 ( 기록용 )\n",
        "* `backward`\n",
        "  * 순수한 오차 (`y-t`)를 구해서 이전층에 전달\n",
        "  * 주의사항 : t가 OHE가 되어있는지, 안 되어있는지에 따라서 코드가 달라짐"
      ],
      "metadata": {
        "id": "LX4BTQUcF6_L"
      }
    },
    {
      "cell_type": "code",
      "source": [
        "def softmax(x):\n",
        "    if x.ndim == 2:\n",
        "        x = x.T\n",
        "        x = x - np.max(x, axis=0)\n",
        "        y = np.exp(x) / np.sum(np.exp(x), axis=0)\n",
        "        return y.T\n",
        "    x = x - np.max(x) # 오버플로 대책\n",
        "    return np.exp(x) / np.sum(np.exp(x))\n",
        "\n",
        "def cross_entropy_error(y, t):\n",
        "    if y.ndim == 1:\n",
        "        t = t.reshape(1, t.size)\n",
        "        y = y.reshape(1, y.size)\n",
        "    # 훈련 데이터가 원-핫 벡터라면 정답 레이블의 인덱스로 반환\n",
        "    if t.size == y.size:\n",
        "        t = t.argmax(axis=1)\n",
        "    batch_size = y.shape[0]\n",
        "    return -np.sum(np.log(y[np.arange(batch_size), t] + 1e-7)) / batch_size\n",
        "\n",
        "def numerical_gradient(f, x):\n",
        "    h = 1e-4 # 0.0001\n",
        "    grad = np.zeros_like(x)\n",
        "\n",
        "    it = np.nditer(x, flags=['multi_index'], op_flags=['readwrite'])\n",
        "    while not it.finished:\n",
        "        idx = it.multi_index\n",
        "        tmp_val = x[idx]\n",
        "        x[idx] = float(tmp_val) + h\n",
        "        fxh1 = f(x) # f(x+h)\n",
        "\n",
        "        x[idx] = tmp_val - h\n",
        "        fxh2 = f(x) # f(x-h)\n",
        "        grad[idx] = (fxh1 - fxh2) / (2*h)\n",
        "\n",
        "        x[idx] = tmp_val # 값 복원\n",
        "        it.iternext()\n",
        "\n",
        "    return grad"
      ],
      "metadata": {
        "id": "ioCH55l9F963"
      },
      "execution_count": null,
      "outputs": []
    },
    {
      "cell_type": "code",
      "source": [
        "class SoftmaxWithLoss:\n",
        "\n",
        "  def __init__(self):\n",
        "    self.loss = None # 손실값 (시각화 할 때 사용할 예정..)\n",
        "    self.y    = None # 예측값 ( 역전파 때 사용 )\n",
        "    self.t    = None # 정답 레이블 ( 역전파 때 사용 )\n",
        "\n",
        "  def forward(self, x, t):\n",
        "    self.t = t\n",
        "    self.y = softmax(x)\n",
        "    self.loss = cross_entropy_error(self.y, self.t)\n",
        "\n",
        "    return self.loss\n",
        "\n",
        "  def backward(self, dout=1): # dout이 1인 이유 : d돈통 / d포스기 개념\n",
        "    # 배치 고려하기\n",
        "    batch_size = self.t.shape[0]\n",
        "\n",
        "    # t가 원-핫 인코딩이 되어있는지, 안되어 있는지 고려\n",
        "    if self.t.size == self.y.size: # 출력층의 원소 개수를 비교하는 것은 원-핫 인코딩이 되어있는 t\n",
        "      # 항상 y는 softmax의 결과물 (N, OUTPUT_SIZE)\n",
        "      # t가 OHE가 되어 있으면 (N, OUTPUT_SIZE)\n",
        "      # t가 OHE가 안되어 있으면 (N, )\n",
        "      dx = (self.y - self.t) / batch_size\n",
        "    else: # t가 OHE가 안되어 있는 경우\n",
        "      dx = self.y.copy()\n",
        "\n",
        "      # 원-핫 인코딩이 되어있지 않은 t는 정답 레이블의 인덱스로 생각할 수 있다.\n",
        "      # y = [0.2, 0.1, 0.7], t = 2\n",
        "      # dx[np.arange(batch_size), self.t] -> dx[0, 2] -> 0.7 -> 0.7 - 1 를 구하겠다는 이야기 이다. -> -0.3의 오차가 있다.\n",
        "      dx[np.arange(batch_size), self.t] -= 1\n",
        "      dx = dx / batch_size\n",
        "\n",
        "    return dx"
      ],
      "metadata": {
        "id": "ma88x0pmGFAT"
      },
      "execution_count": null,
      "outputs": []
    },
    {
      "cell_type": "markdown",
      "source": [
        "# 신경망 모델 구축"
      ],
      "metadata": {
        "id": "5Ug6lCewGFOX"
      }
    },
    {
      "cell_type": "code",
      "source": [
        "# OrderedDict : 순서가 있는 딕셔너리\n",
        "from collections import OrderedDict\n",
        "\n",
        "# 2층 신경망 구현\n",
        "class TwoLayerNet:\n",
        "  def __init__(self, input_size, hidden_size, output_size, weight_init_std=0.01):\n",
        "    # 매개변수(W, b) 초기화 (모델 파라미터 -> 미분이 가능해야 한다.)\n",
        "    self.params = {}\n",
        "\n",
        "    # 1층 은닉층을 위한 파라미터\n",
        "    self.params[\"W1\"] = weight_init_std * np.random.randn(input_size, hidden_size)\n",
        "    self.params[\"b1\"] = np.zeros(hidden_size)\n",
        "\n",
        "    # 2층 출력층을 위한 매개변수\n",
        "    self.params[\"W2\"] = weight_init_std * np.random.randn(hidden_size, output_size)\n",
        "    self.params[\"b2\"] = np.zeros(output_size)\n",
        "\n",
        "    # 레이어 정의\n",
        "    #  추가되는 레이어의 순서가 바뀌면 안되기 때문에 OrderedDict를 사용\n",
        "    self.layers = OrderedDict()\n",
        "\n",
        "    self.layers['linear_1'] = Linear(self.params[\"W1\"],\n",
        "                                     self.params[\"b1\"])\n",
        "\n",
        "    self.layers[\"relu\"] = ReLU()\n",
        "\n",
        "    self.layers[\"linear_2\"] = Linear(self.params[\"W2\"],\n",
        "                                     self.params[\"b2\"])\n",
        "\n",
        "    # 항상 제일 마지막 층은 SoftmaxWithLoss\n",
        "    self.last_layer = SoftmaxWithLoss()\n",
        "\n",
        "  def predict(self, x):\n",
        "    # 순전파가 실행된다.\n",
        "    #  각 레이어의 forward 함수를 순서대로 실행\n",
        "    for layer in self.layers.values(): # 레이어만 순서대로 뽑아오기\n",
        "      x = layer.forward(x)\n",
        "\n",
        "    return x\n",
        "\n",
        "  def loss(self, x, t):\n",
        "    y = self.predict(x)\n",
        "    return self.last_layer.forward(y, t)\n",
        "\n",
        "  def accuracy(self, x, t):\n",
        "    # 예측을 하고, 정답이랑 얼마나 틀렸는지를 계산\n",
        "    # 단, t가 원-핫 인코딩이 되어있는지, 안되어있는지가 중요!\n",
        "    y = self.predict(x)\n",
        "    y = np.argmax(y, axis=1) # 제일 큰 값 하나만 뽑자.( 제일 확률이 높은 곳에 위치한 인덱스를 갖는다. )\n",
        "\n",
        "    # 원-핫 인코딩 처리\n",
        "    # t.ndim != 1 --> t가 원핫 인코딩이 되어있는 상태라면\n",
        "    # t에서 제일 높은 인덱스를 찾겠다.\n",
        "    if t.ndim != 1 : t = np.argmax(t, axis=1)\n",
        "\n",
        "    accuracy = np.sum(y == t) / float(x.shape[0])\n",
        "\n",
        "    return accuracy\n",
        "\n",
        "  # 역전파를 활용한 각 매개변수의 기울기 배열 구하기\n",
        "  def backward_propagation(self, x, t):\n",
        "    # 오차역전파를 하기위해 필요한거\n",
        "    #   1. 오차를 먼저 구해야 한다. 순전파가 먼저 일어 난다.\n",
        "    self.loss(x, t)\n",
        "\n",
        "    # 역전파\n",
        "    dout = 1 # dL/dL --> d돈통/d포스기\n",
        "\n",
        "    # SoftmaxWithLoss의 오차에 대한 미분값 구하기\n",
        "    dout = self.last_layer.backward(dout) # 순수한 오차 y-t\n",
        "\n",
        "    # 은닉층에 해당하는 레이어만 받아와서 뒤집기\n",
        "    hidden_layers = list(self.layers.values()) # 순서대로 되어있는 레이어\n",
        "    hidden_layers.reverse() # 뒤집기\n",
        "\n",
        "    # 순서가 뒤집어진 레이어를 하나씩 꺼내서\n",
        "    for layer in hidden_layers:\n",
        "      # 미분값을 집어 넣어가면서 역전파!\n",
        "      dout = layer.backward(dout)\n",
        "\n",
        "    # 역전파가 끝났으면 각 레이어마다 기울기가 들어있음.(dW, db)\n",
        "    #  Linear레이어에만 dW, db가 있음. ReLU에는 미분값이 없다.\n",
        "    #   미분 값이 존재하는 레이어만 훈련할 수 있다.(trainable)\n",
        "\n",
        "    # 구해진 미분값(기울기)를 꺼내서 저장\n",
        "    grads = {}\n",
        "\n",
        "    grads[\"W1\"], grads[\"b1\"] = self.layers[\"linear_1\"].dW, self.layers[\"linear_1\"].db\n",
        "    grads[\"W2\"], grads[\"b2\"] = self.layers[\"linear_2\"].dW, self.layers[\"linear_2\"].db\n",
        "\n",
        "    return grads"
      ],
      "metadata": {
        "id": "kjgvbD6gGy_C"
      },
      "execution_count": null,
      "outputs": []
    },
    {
      "cell_type": "markdown",
      "source": [
        "# 데이터 가져오기"
      ],
      "metadata": {
        "id": "UrgZCscwgX3H"
      }
    },
    {
      "cell_type": "code",
      "source": [
        "from tensorflow.keras import datasets\n",
        "from sklearn.preprocessing import OneHotEncoder\n",
        "\n",
        "mnist = datasets.mnist\n",
        "\n",
        "(X_train, y_train), (X_test, y_test) = mnist.load_data()\n",
        "\n",
        "y_train_dummy = OneHotEncoder().fit_transform(y_train.reshape(-1, 1))\n",
        "y_train_dummy = y_train_dummy.toarray()\n",
        "\n",
        "y_test_dummy = OneHotEncoder().fit_transform(y_test.reshape(-1, 1))\n",
        "y_test_dummy = y_test_dummy.toarray()\n",
        "\n",
        "# feature 전처리\n",
        "X_train = X_train.reshape(X_train.shape[0], -1)\n",
        "X_train = X_train / 255.0 # 이미지 정규화 기법. 255.0 으로 나눠주면 모든 픽셀 데이터가 0 ~ 1사이의 값을 갖게 되고, 훈련이 쉽게 된다.\n",
        "\n",
        "X_test = X_test.reshape(X_test.shape[0], -1)\n",
        "X_test = X_test / 255.0"
      ],
      "metadata": {
        "colab": {
          "base_uri": "https://localhost:8080/"
        },
        "id": "xlCKFGm4gc51",
        "outputId": "909ccb2f-cc6d-423a-8daf-3569b5f52046"
      },
      "execution_count": null,
      "outputs": [
        {
          "output_type": "stream",
          "name": "stdout",
          "text": [
            "Downloading data from https://storage.googleapis.com/tensorflow/tf-keras-datasets/mnist.npz\n",
            "\u001b[1m11490434/11490434\u001b[0m \u001b[32m━━━━━━━━━━━━━━━━━━━━\u001b[0m\u001b[37m\u001b[0m \u001b[1m0s\u001b[0m 0us/step\n"
          ]
        }
      ]
    },
    {
      "cell_type": "markdown",
      "source": [
        "# 훈련"
      ],
      "metadata": {
        "id": "Ay_sgeEbgfKK"
      }
    },
    {
      "cell_type": "code",
      "source": [
        "# 모델 생성\n",
        "model = TwoLayerNet(\n",
        "    input_size=28*28,\n",
        "    hidden_size=100,\n",
        "    output_size=10\n",
        ")"
      ],
      "metadata": {
        "id": "MhcNDfH4gssc"
      },
      "execution_count": null,
      "outputs": []
    },
    {
      "cell_type": "code",
      "source": [
        "# 하이퍼 파라미터 설정\n",
        "iter_nums = 10000 # 학습 반복 횟수\n",
        "learning_rate = 0.1\n",
        "batch_size= 100\n",
        "train_size = X_train.shape[0]\n",
        "\n",
        "# 훈련 과정을 1에폭마다 기록 (시각화 하기 위해)\n",
        "train_loss_list = []\n",
        "test_loss_list = []\n",
        "\n",
        "train_acc_list = []\n",
        "test_acc_list = []"
      ],
      "metadata": {
        "id": "ibcfFECkg8xi"
      },
      "execution_count": null,
      "outputs": []
    },
    {
      "cell_type": "code",
      "source": [
        "# 1 에폭에 필요한 훈련 횟수\n",
        "iter_per_epoch = int(max(train_size / batch_size, 1)) # max를 쓴 이유 : 종종 train_size < batch_size 일 때는 한번만 학습\n",
        "\n",
        "for i in range(iter_nums):\n",
        "  # 미니 배치 생성\n",
        "  batch_mask = np.random.choice(train_size, batch_size)\n",
        "  X_batch = X_train[batch_mask]\n",
        "  y_batch = y_train[batch_mask]\n",
        "\n",
        "  # 훈련(경사하강법에 의한 가중치, 편향 갱신) 1단계 - 기울기 얻어내기\n",
        "  grads = model.backward_propagation(X_batch, y_batch)\n",
        "\n",
        "  # 기울기 얻어냈으면 경사하강법 수행(최적화 - Optimization)\n",
        "  for key in [\"W1\", \"b1\", \"W2\", \"b2\"]:\n",
        "    model.params[key] -= learning_rate * grads[key]\n",
        "\n",
        "  # 1에폭 마다 정확도, loss 확인\n",
        "  if i % iter_per_epoch == 0:\n",
        "    train_loss = model.loss(X_batch, y_batch)\n",
        "    test_loss  = model.loss(X_test, y_test)\n",
        "\n",
        "    train_acc = model.accuracy(X_train, y_train)\n",
        "    test_acc  = model.accuracy(X_test, y_test)\n",
        "\n",
        "    train_loss_list.append(train_loss)\n",
        "    test_loss_list.append(test_loss)\n",
        "\n",
        "    train_acc_list.append(train_acc)\n",
        "    test_acc_list.append(test_acc)\n",
        "\n",
        "    print(\"Epoch {} ==> Train Accuracy : {:.6f} / Test Accuracy : {:.6f} / Train Loss : {:.6f} / Test Loss : {:.6f} \".format(int(i/iter_per_epoch), train_acc, test_acc, train_loss, test_loss))"
      ],
      "metadata": {
        "colab": {
          "base_uri": "https://localhost:8080/"
        },
        "id": "iUs_tDL9htKj",
        "outputId": "6283fa49-8894-4e29-e003-70d29eb4aabe"
      },
      "execution_count": null,
      "outputs": [
        {
          "output_type": "stream",
          "name": "stdout",
          "text": [
            "Epoch 0 ==> Train Accuracy : 0.118650 / Test Accuracy : 0.114500 / Train Loss : 2.299069 / Test Loss : 2.301428 \n",
            "Epoch 1 ==> Train Accuracy : 0.906950 / Test Accuracy : 0.909600 / Train Loss : 0.234886 / Test Loss : 0.317258 \n",
            "Epoch 2 ==> Train Accuracy : 0.926967 / Test Accuracy : 0.929500 / Train Loss : 0.149101 / Test Loss : 0.249719 \n",
            "Epoch 3 ==> Train Accuracy : 0.939817 / Test Accuracy : 0.938500 / Train Loss : 0.090264 / Test Loss : 0.207985 \n",
            "Epoch 4 ==> Train Accuracy : 0.948900 / Test Accuracy : 0.945400 / Train Loss : 0.126601 / Test Loss : 0.181371 \n",
            "Epoch 5 ==> Train Accuracy : 0.955050 / Test Accuracy : 0.950900 / Train Loss : 0.094015 / Test Loss : 0.159373 \n",
            "Epoch 6 ==> Train Accuracy : 0.961833 / Test Accuracy : 0.957500 / Train Loss : 0.130100 / Test Loss : 0.142748 \n",
            "Epoch 7 ==> Train Accuracy : 0.963917 / Test Accuracy : 0.960900 / Train Loss : 0.075533 / Test Loss : 0.131674 \n",
            "Epoch 8 ==> Train Accuracy : 0.968267 / Test Accuracy : 0.963000 / Train Loss : 0.073537 / Test Loss : 0.123702 \n",
            "Epoch 9 ==> Train Accuracy : 0.970733 / Test Accuracy : 0.964800 / Train Loss : 0.039307 / Test Loss : 0.116022 \n",
            "Epoch 10 ==> Train Accuracy : 0.973467 / Test Accuracy : 0.966700 / Train Loss : 0.089463 / Test Loss : 0.108554 \n",
            "Epoch 11 ==> Train Accuracy : 0.974783 / Test Accuracy : 0.967600 / Train Loss : 0.061525 / Test Loss : 0.106088 \n",
            "Epoch 12 ==> Train Accuracy : 0.977300 / Test Accuracy : 0.970300 / Train Loss : 0.067330 / Test Loss : 0.098790 \n",
            "Epoch 13 ==> Train Accuracy : 0.979967 / Test Accuracy : 0.970600 / Train Loss : 0.030947 / Test Loss : 0.095056 \n",
            "Epoch 14 ==> Train Accuracy : 0.979733 / Test Accuracy : 0.972000 / Train Loss : 0.049753 / Test Loss : 0.093729 \n",
            "Epoch 15 ==> Train Accuracy : 0.981950 / Test Accuracy : 0.972800 / Train Loss : 0.052655 / Test Loss : 0.090164 \n",
            "Epoch 16 ==> Train Accuracy : 0.982000 / Test Accuracy : 0.972100 / Train Loss : 0.026798 / Test Loss : 0.089963 \n"
          ]
        }
      ]
    },
    {
      "cell_type": "markdown",
      "source": [
        "# 훈련 / 테스트 결과 시각화"
      ],
      "metadata": {
        "id": "ORGKWh3GmUZI"
      }
    },
    {
      "cell_type": "code",
      "source": [
        "import matplotlib .pyplot as plt\n",
        "%matplotlib inline\n",
        "\n",
        "plt.figure(figsize=(10, 5))\n",
        "plt.plot(np.arange(len(train_loss_list)), train_loss_list, label=\"train loss\")\n",
        "plt.plot(np.arange(len(test_loss_list)), test_loss_list, label=\"test loss\")\n",
        "plt.xlabel(\"epochs\")\n",
        "plt.ylabel(\"Loss\")\n",
        "plt.legend()\n",
        "plt.show()"
      ],
      "metadata": {
        "colab": {
          "base_uri": "https://localhost:8080/",
          "height": 465
        },
        "id": "swF8TzjBjg4Y",
        "outputId": "bff028dc-851e-4561-ac6e-711c1e28bfcb"
      },
      "execution_count": null,
      "outputs": [
        {
          "output_type": "display_data",
          "data": {
            "text/plain": [
              "<Figure size 1000x500 with 1 Axes>"
            ],
            "image/png": "[encoded data removed]"
          },
          "metadata": {}
        }
      ]
    },
    {
      "cell_type": "code",
      "source": [
        "plt.figure(figsize=(10, 5))\n",
        "plt.plot(np.arange(len(train_acc_list)), train_acc_list, label=\"Train Accuracy\")\n",
        "plt.plot(np.arange(len(test_acc_list)), test_acc_list, label=\"Test Accuracy\")\n",
        "plt.xlabel(\"epochs\")\n",
        "plt.ylabel(\"Accuracy\")\n",
        "plt.legend()\n",
        "plt.show()"
      ],
      "metadata": {
        "colab": {
          "base_uri": "https://localhost:8080/",
          "height": 465
        },
        "id": "MliakL2KmXNv",
        "outputId": "c9471234-bd0f-4f7a-a29c-d557ec2ab188"
      },
      "execution_count": null,
      "outputs": [
        {
          "output_type": "display_data",
          "data": {
            "text/plain": [
              "<Figure size 1000x500 with 1 Axes>"
            ],
            "image/png": "[encoded data removed]"
          },
          "metadata": {}
        }
      ]
    },
    {
      "cell_type": "code",
      "source": [],
      "metadata": {
        "id": "En-OGHR_mZSd"
      },
      "execution_count": null,
      "outputs": []
    }
  ]
}