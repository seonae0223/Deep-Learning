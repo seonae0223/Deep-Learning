{
  "nbformat": 4,
  "nbformat_minor": 0,
  "metadata": {
    "colab": {
      "provenance": [],
      "gpuType": "T4",
      "include_colab_link": true
    },
    "kernelspec": {
      "name": "python3",
      "display_name": "Python 3"
    },
    "language_info": {
      "name": "python"
    },
    "accelerator": "GPU"
  },
  "cells": [
    {
      "cell_type": "markdown",
      "metadata": {
        "id": "view-in-github",
        "colab_type": "text"
      },
      "source": [
        "<a href=\"https://colab.research.google.com/github/seonae0223/Deep_Learning/blob/main/05_Model_Save_%EB%B0%8F_Load.ipynb\" target=\"_parent\"><img src=\"https://colab.research.google.com/assets/colab-badge.svg\" alt=\"Open In Colab\"/></a>"
      ]
    },
    {
      "cell_type": "markdown",
      "source": [
        "# FashionMNIST Dataset & DataLoader 구성"
      ],
      "metadata": {
        "id": "wQYkDyInZFn2"
      }
    },
    {
      "cell_type": "code",
      "execution_count": null,
      "metadata": {
        "id": "sS2AxJJeXmlM"
      },
      "outputs": [],
      "source": [
        "from torch.utils.data import DataLoader\n",
        "from torchvision import datasets\n",
        "from torchvision.transforms import ToTensor"
      ]
    },
    {
      "cell_type": "code",
      "source": [
        "# FashionMNIST 데이터세트 다운로드\n",
        "train_data = datasets.FashionMNIST(\n",
        "    root='data',\n",
        "    train=True,\n",
        "    download=True,\n",
        "    transform=ToTensor()\n",
        ")\n",
        "\n",
        "test_data = datasets.FashionMNIST(\n",
        "    root='data',\n",
        "    train=False,\n",
        "    download=True,\n",
        "    transform=ToTensor()\n",
        ")"
      ],
      "metadata": {
        "colab": {
          "base_uri": "https://localhost:8080/"
        },
        "id": "CokCs-lcZE3G",
        "outputId": "081f2223-cb1d-4f07-f245-85e7de211322"
      },
      "execution_count": null,
      "outputs": [
        {
          "output_type": "stream",
          "name": "stdout",
          "text": [
            "Downloading http://fashion-mnist.s3-website.eu-central-1.amazonaws.com/train-images-idx3-ubyte.gz\n",
            "Downloading http://fashion-mnist.s3-website.eu-central-1.amazonaws.com/train-images-idx3-ubyte.gz to data/FashionMNIST/raw/train-images-idx3-ubyte.gz\n"
          ]
        },
        {
          "output_type": "stream",
          "name": "stderr",
          "text": [
            "100%|██████████| 26421880/26421880 [00:02<00:00, 9393610.90it/s] \n"
          ]
        },
        {
          "output_type": "stream",
          "name": "stdout",
          "text": [
            "Extracting data/FashionMNIST/raw/train-images-idx3-ubyte.gz to data/FashionMNIST/raw\n",
            "\n",
            "Downloading http://fashion-mnist.s3-website.eu-central-1.amazonaws.com/train-labels-idx1-ubyte.gz\n",
            "Downloading http://fashion-mnist.s3-website.eu-central-1.amazonaws.com/train-labels-idx1-ubyte.gz to data/FashionMNIST/raw/train-labels-idx1-ubyte.gz\n"
          ]
        },
        {
          "output_type": "stream",
          "name": "stderr",
          "text": [
            "100%|██████████| 29515/29515 [00:00<00:00, 177155.55it/s]\n"
          ]
        },
        {
          "output_type": "stream",
          "name": "stdout",
          "text": [
            "Extracting data/FashionMNIST/raw/train-labels-idx1-ubyte.gz to data/FashionMNIST/raw\n",
            "\n",
            "Downloading http://fashion-mnist.s3-website.eu-central-1.amazonaws.com/t10k-images-idx3-ubyte.gz\n",
            "Downloading http://fashion-mnist.s3-website.eu-central-1.amazonaws.com/t10k-images-idx3-ubyte.gz to data/FashionMNIST/raw/t10k-images-idx3-ubyte.gz\n"
          ]
        },
        {
          "output_type": "stream",
          "name": "stderr",
          "text": [
            "100%|██████████| 4422102/4422102 [00:01<00:00, 3281706.98it/s]\n"
          ]
        },
        {
          "output_type": "stream",
          "name": "stdout",
          "text": [
            "Extracting data/FashionMNIST/raw/t10k-images-idx3-ubyte.gz to data/FashionMNIST/raw\n",
            "\n",
            "Downloading http://fashion-mnist.s3-website.eu-central-1.amazonaws.com/t10k-labels-idx1-ubyte.gz\n",
            "Downloading http://fashion-mnist.s3-website.eu-central-1.amazonaws.com/t10k-labels-idx1-ubyte.gz to data/FashionMNIST/raw/t10k-labels-idx1-ubyte.gz\n"
          ]
        },
        {
          "output_type": "stream",
          "name": "stderr",
          "text": [
            "100%|██████████| 5148/5148 [00:00<00:00, 6137656.91it/s]"
          ]
        },
        {
          "output_type": "stream",
          "name": "stdout",
          "text": [
            "Extracting data/FashionMNIST/raw/t10k-labels-idx1-ubyte.gz to data/FashionMNIST/raw\n",
            "\n"
          ]
        },
        {
          "output_type": "stream",
          "name": "stderr",
          "text": [
            "\n"
          ]
        }
      ]
    },
    {
      "cell_type": "code",
      "source": [
        "train_dataloader = DataLoader(train_data, batch_size=64, shuffle=True)\n",
        "test_dataloader  = DataLoader(test_data, batch_size=64, shuffle=False)"
      ],
      "metadata": {
        "id": "44NvrxAVZkRF"
      },
      "execution_count": null,
      "outputs": []
    },
    {
      "cell_type": "markdown",
      "source": [
        "# 모델링"
      ],
      "metadata": {
        "id": "eHOQ9Pl6aXb7"
      }
    },
    {
      "cell_type": "code",
      "source": [
        "from torch import nn\n",
        "\n",
        "class NeuralNetwork(nn.Module):\n",
        "\n",
        "  def __init__(self):\n",
        "    # nn.Module 생성\n",
        "    super(NeuralNetwork, self).__init__()\n",
        "\n",
        "    # 레이어 정의\n",
        "\n",
        "    # 평탄화 레이어 정의\n",
        "    self.flatten = nn.Flatten()\n",
        "\n",
        "    self.linear_relu_stack = nn.Sequential(\n",
        "        nn.Linear(28*28, 128),\n",
        "        nn.ReLU(),\n",
        "        nn.Linear(128, 10)\n",
        "    )\n",
        "\n",
        "  def forward(self, x):\n",
        "    # 입력되는 x의 모양이 (64, 1, 28, 28) -> (N, C, H, W)\n",
        "    #    입력 이미지에 대한 평탄화가 필요\n",
        "    x = self.flatten(x) # flatten 레이어를 지나게 되면 (64, 784)\n",
        "    y = self.linear_relu_stack(x)\n",
        "\n",
        "    return y"
      ],
      "metadata": {
        "id": "dzypnuXcajn0"
      },
      "execution_count": null,
      "outputs": []
    },
    {
      "cell_type": "markdown",
      "source": [
        "# 모델 생성"
      ],
      "metadata": {
        "id": "8SWFEoqVdPEt"
      }
    },
    {
      "cell_type": "code",
      "source": [
        "import torch\n",
        "\n",
        "# cuda 환경(GPU)을 사용할 수 있으면 device='cuda', 아니면 device='cpu'\n",
        "device = 'cuda' if torch.cuda.is_available() else 'cpu'\n",
        "print(device)"
      ],
      "metadata": {
        "colab": {
          "base_uri": "https://localhost:8080/"
        },
        "id": "TDkfnCI2dV70",
        "outputId": "58bde061-0b07-4150-8b98-aebcfa7f4b4d"
      },
      "execution_count": null,
      "outputs": [
        {
          "output_type": "stream",
          "name": "stdout",
          "text": [
            "cuda\n"
          ]
        }
      ]
    },
    {
      "cell_type": "code",
      "source": [
        "model = NeuralNetwork().to(device)\n",
        "print(model)"
      ],
      "metadata": {
        "colab": {
          "base_uri": "https://localhost:8080/"
        },
        "id": "nG3uQMLbdvOt",
        "outputId": "7852288e-16c2-4038-cfb7-c693460fcc86"
      },
      "execution_count": null,
      "outputs": [
        {
          "output_type": "stream",
          "name": "stdout",
          "text": [
            "NeuralNetwork(\n",
            "  (flatten): Flatten(start_dim=1, end_dim=-1)\n",
            "  (linear_relu_stack): Sequential(\n",
            "    (0): Linear(in_features=784, out_features=128, bias=True)\n",
            "    (1): ReLU()\n",
            "    (2): Linear(in_features=128, out_features=10, bias=True)\n",
            "  )\n",
            ")\n"
          ]
        }
      ]
    },
    {
      "cell_type": "markdown",
      "source": [
        "# 모델 훈련"
      ],
      "metadata": {
        "id": "VtBmdZ1ueAaj"
      }
    },
    {
      "cell_type": "code",
      "source": [
        "loss_fn = nn.CrossEntropyLoss() # 이미 여기에 소프트맥스 함수가 포함되어 있다.\n",
        "optimizer = torch.optim.Adam(model.parameters(), lr=0.0001)"
      ],
      "metadata": {
        "id": "O5qvlqIAeK38"
      },
      "execution_count": null,
      "outputs": []
    },
    {
      "cell_type": "code",
      "source": [
        "# 훈련 과정\n",
        "#  데이터 로딩 -> 예측 -> Loss 계산 -> 미분(backward) -> 최적화\n",
        "def train_loop(dataloader, model, loss_fn, optimizer):\n",
        "  size = len(dataloader.dataset)\n",
        "\n",
        "  # 모델을 훈련 모드로 설정\n",
        "  model.train()\n",
        "\n",
        "  for batch, (X, y) in enumerate(dataloader):\n",
        "    # 데이터 로더에 들어있던 텐서들을 모델과 같은 위치(모델이 gpu니까 데이터도 gpu)로 옮기기\n",
        "    X, y = X.to(device), y.to(device)\n",
        "\n",
        "    # 예측 (forward)\n",
        "    pred = model(X) # softmax가 적용 안 되어있음\n",
        "\n",
        "    # Loss 계산\n",
        "    loss = loss_fn(pred, y) # loss function 내에서 softmax가 적용 된 다음 y에 대한 loss를 구한다.\n",
        "\n",
        "    # 역전파 수행\n",
        "    optimizer.zero_grad() # 이전 배치에 남아있는 기울기를 제거\n",
        "    loss.backward() # 오차 역전파\n",
        "    optimizer.step()\n",
        "\n",
        "    # 배치가 100번 돌 때마다 화면에 출력\n",
        "    if batch % 100 == 0:\n",
        "      loss, current = loss.item(), batch * len(X)\n",
        "      print(f\"Train Loss : {loss:>7f} [ {current:>5d} / {size:>5d} ]\")"
      ],
      "metadata": {
        "id": "MzPuFSQMexgQ"
      },
      "execution_count": null,
      "outputs": []
    },
    {
      "cell_type": "code",
      "source": [
        "def test_loop(dataloader, model, loss_fn):\n",
        "  size = len(dataloader.dataset)\n",
        "\n",
        "  # loss는 배치 별로 계산, correct는 전체 데이터 세트에 대한 평균 정확도\n",
        "  test_loss, correct = 0, 0\n",
        "\n",
        "  # 모델을 추론 모드로 바꿔준다.\n",
        "  model.eval()\n",
        "\n",
        "  # 추론 과정에서는 기울기를 구할 필요가 없음. 따라서 모든 파라미터(model.parameters())의 required_grad=False\n",
        "  with torch.no_grad():\n",
        "    for X, y in dataloader:\n",
        "\n",
        "      X, y = X.to(device), y.to(device)\n",
        "\n",
        "      pred = model(X)\n",
        "\n",
        "      # test_loss를 배치마다 구해서 더해주기\n",
        "      test_loss += loss_fn(pred, y).item()\n",
        "\n",
        "      # 10개의 예측 값중 가장 큰 곳의 인덱스를 argmax로 찾고, 타겟(y)와 일치하는지 확인\n",
        "      correct += (pred.argmax(1) == y).type(torch.float).sum().item()\n",
        "\n",
        "  # 배치 개수 구하기\n",
        "  num_batches = len(dataloader)\n",
        "\n",
        "  # Loss 평균 구하기\n",
        "  test_loss /= num_batches\n",
        "\n",
        "  # Accuracy 구하기\n",
        "  correct /= size\n",
        "\n",
        "  print(f\"Test Error : \\n Accuracy : {(100*correct):>0.1f}%, Avg Loss : {test_loss:>8f}\\n\")"
      ],
      "metadata": {
        "id": "e0AMqg98e0PF"
      },
      "execution_count": null,
      "outputs": []
    },
    {
      "cell_type": "code",
      "source": [
        "epochs = 10\n",
        "\n",
        "for i in range(epochs):\n",
        "  print(f\"Epoch {i+1}\\n......................\")\n",
        "  train_loop(train_dataloader, model, loss_fn, optimizer)\n",
        "  test_loop(test_dataloader, model, loss_fn)\n",
        "\n",
        "print(\"훈련 끝!\")"
      ],
      "metadata": {
        "colab": {
          "base_uri": "https://localhost:8080/"
        },
        "id": "Svo5uDdCng4-",
        "outputId": "1caa17cc-6c4a-4969-ca47-0fdfcab0c5a1"
      },
      "execution_count": null,
      "outputs": [
        {
          "output_type": "stream",
          "name": "stdout",
          "text": [
            "Epoch 1\n",
            "......................\n",
            "Train Loss : 2.306376 [     0 / 60000 ]\n",
            "Train Loss : 1.540602 [  6400 / 60000 ]\n",
            "Train Loss : 1.090355 [ 12800 / 60000 ]\n",
            "Train Loss : 0.785369 [ 19200 / 60000 ]\n",
            "Train Loss : 0.873697 [ 25600 / 60000 ]\n",
            "Train Loss : 0.758562 [ 32000 / 60000 ]\n",
            "Train Loss : 0.569963 [ 38400 / 60000 ]\n",
            "Train Loss : 0.506294 [ 44800 / 60000 ]\n",
            "Train Loss : 0.585362 [ 51200 / 60000 ]\n",
            "Train Loss : 0.508171 [ 57600 / 60000 ]\n",
            "Test Error : \n",
            " Accuracy : 79.1%, Avg Loss : 0.627077\n",
            "\n",
            "Epoch 2\n",
            "......................\n",
            "Train Loss : 0.514188 [     0 / 60000 ]\n",
            "Train Loss : 0.548960 [  6400 / 60000 ]\n",
            "Train Loss : 0.454546 [ 12800 / 60000 ]\n",
            "Train Loss : 0.836860 [ 19200 / 60000 ]\n",
            "Train Loss : 0.494870 [ 25600 / 60000 ]\n",
            "Train Loss : 0.690731 [ 32000 / 60000 ]\n",
            "Train Loss : 0.490407 [ 38400 / 60000 ]\n",
            "Train Loss : 0.566538 [ 44800 / 60000 ]\n",
            "Train Loss : 0.491988 [ 51200 / 60000 ]\n",
            "Train Loss : 0.581397 [ 57600 / 60000 ]\n",
            "Test Error : \n",
            " Accuracy : 81.1%, Avg Loss : 0.540995\n",
            "\n",
            "Epoch 3\n",
            "......................\n",
            "Train Loss : 0.433340 [     0 / 60000 ]\n",
            "Train Loss : 0.428428 [  6400 / 60000 ]\n",
            "Train Loss : 0.371558 [ 12800 / 60000 ]\n",
            "Train Loss : 0.558086 [ 19200 / 60000 ]\n",
            "Train Loss : 0.579398 [ 25600 / 60000 ]\n",
            "Train Loss : 0.436298 [ 32000 / 60000 ]\n",
            "Train Loss : 0.523860 [ 38400 / 60000 ]\n",
            "Train Loss : 0.467993 [ 44800 / 60000 ]\n",
            "Train Loss : 0.406817 [ 51200 / 60000 ]\n",
            "Train Loss : 0.517065 [ 57600 / 60000 ]\n",
            "Test Error : \n",
            " Accuracy : 82.9%, Avg Loss : 0.498605\n",
            "\n",
            "Epoch 4\n",
            "......................\n",
            "Train Loss : 0.352177 [     0 / 60000 ]\n",
            "Train Loss : 0.410428 [  6400 / 60000 ]\n",
            "Train Loss : 0.471492 [ 12800 / 60000 ]\n",
            "Train Loss : 0.628813 [ 19200 / 60000 ]\n",
            "Train Loss : 0.431619 [ 25600 / 60000 ]\n",
            "Train Loss : 0.364830 [ 32000 / 60000 ]\n",
            "Train Loss : 0.394239 [ 38400 / 60000 ]\n",
            "Train Loss : 0.413497 [ 44800 / 60000 ]\n",
            "Train Loss : 0.586789 [ 51200 / 60000 ]\n",
            "Train Loss : 0.547271 [ 57600 / 60000 ]\n",
            "Test Error : \n",
            " Accuracy : 83.3%, Avg Loss : 0.475096\n",
            "\n",
            "Epoch 5\n",
            "......................\n",
            "Train Loss : 0.626806 [     0 / 60000 ]\n",
            "Train Loss : 0.474635 [  6400 / 60000 ]\n",
            "Train Loss : 0.472576 [ 12800 / 60000 ]\n",
            "Train Loss : 0.250902 [ 19200 / 60000 ]\n",
            "Train Loss : 0.396631 [ 25600 / 60000 ]\n",
            "Train Loss : 0.465966 [ 32000 / 60000 ]\n",
            "Train Loss : 0.473666 [ 38400 / 60000 ]\n",
            "Train Loss : 0.487521 [ 44800 / 60000 ]\n",
            "Train Loss : 0.632868 [ 51200 / 60000 ]\n",
            "Train Loss : 0.463638 [ 57600 / 60000 ]\n",
            "Test Error : \n",
            " Accuracy : 83.8%, Avg Loss : 0.459151\n",
            "\n",
            "Epoch 6\n",
            "......................\n",
            "Train Loss : 0.461249 [     0 / 60000 ]\n",
            "Train Loss : 0.564450 [  6400 / 60000 ]\n",
            "Train Loss : 0.473327 [ 12800 / 60000 ]\n",
            "Train Loss : 0.509504 [ 19200 / 60000 ]\n",
            "Train Loss : 0.346679 [ 25600 / 60000 ]\n",
            "Train Loss : 0.374551 [ 32000 / 60000 ]\n",
            "Train Loss : 0.356939 [ 38400 / 60000 ]\n",
            "Train Loss : 0.275719 [ 44800 / 60000 ]\n",
            "Train Loss : 0.379097 [ 51200 / 60000 ]\n",
            "Train Loss : 0.450967 [ 57600 / 60000 ]\n",
            "Test Error : \n",
            " Accuracy : 83.7%, Avg Loss : 0.458037\n",
            "\n",
            "Epoch 7\n",
            "......................\n",
            "Train Loss : 0.344921 [     0 / 60000 ]\n",
            "Train Loss : 0.435685 [  6400 / 60000 ]\n",
            "Train Loss : 0.521907 [ 12800 / 60000 ]\n",
            "Train Loss : 0.345740 [ 19200 / 60000 ]\n",
            "Train Loss : 0.287328 [ 25600 / 60000 ]\n",
            "Train Loss : 0.503077 [ 32000 / 60000 ]\n",
            "Train Loss : 0.305993 [ 38400 / 60000 ]\n",
            "Train Loss : 0.376639 [ 44800 / 60000 ]\n",
            "Train Loss : 0.316165 [ 51200 / 60000 ]\n",
            "Train Loss : 0.382457 [ 57600 / 60000 ]\n",
            "Test Error : \n",
            " Accuracy : 84.8%, Avg Loss : 0.439100\n",
            "\n",
            "Epoch 8\n",
            "......................\n",
            "Train Loss : 0.358759 [     0 / 60000 ]\n",
            "Train Loss : 0.316668 [  6400 / 60000 ]\n",
            "Train Loss : 0.317750 [ 12800 / 60000 ]\n",
            "Train Loss : 0.542722 [ 19200 / 60000 ]\n",
            "Train Loss : 0.348042 [ 25600 / 60000 ]\n",
            "Train Loss : 0.493888 [ 32000 / 60000 ]\n",
            "Train Loss : 0.367706 [ 38400 / 60000 ]\n",
            "Train Loss : 0.298146 [ 44800 / 60000 ]\n",
            "Train Loss : 0.293511 [ 51200 / 60000 ]\n",
            "Train Loss : 0.472533 [ 57600 / 60000 ]\n",
            "Test Error : \n",
            " Accuracy : 84.6%, Avg Loss : 0.431984\n",
            "\n",
            "Epoch 9\n",
            "......................\n",
            "Train Loss : 0.460486 [     0 / 60000 ]\n",
            "Train Loss : 0.381281 [  6400 / 60000 ]\n",
            "Train Loss : 0.265575 [ 12800 / 60000 ]\n",
            "Train Loss : 0.416394 [ 19200 / 60000 ]\n",
            "Train Loss : 0.333145 [ 25600 / 60000 ]\n",
            "Train Loss : 0.401867 [ 32000 / 60000 ]\n",
            "Train Loss : 0.313670 [ 38400 / 60000 ]\n",
            "Train Loss : 0.419415 [ 44800 / 60000 ]\n",
            "Train Loss : 0.360218 [ 51200 / 60000 ]\n",
            "Train Loss : 0.262721 [ 57600 / 60000 ]\n",
            "Test Error : \n",
            " Accuracy : 85.2%, Avg Loss : 0.422948\n",
            "\n",
            "Epoch 10\n",
            "......................\n",
            "Train Loss : 0.387306 [     0 / 60000 ]\n",
            "Train Loss : 0.206831 [  6400 / 60000 ]\n",
            "Train Loss : 0.448086 [ 12800 / 60000 ]\n",
            "Train Loss : 0.303783 [ 19200 / 60000 ]\n",
            "Train Loss : 0.678842 [ 25600 / 60000 ]\n",
            "Train Loss : 0.498118 [ 32000 / 60000 ]\n",
            "Train Loss : 0.300633 [ 38400 / 60000 ]\n",
            "Train Loss : 0.355337 [ 44800 / 60000 ]\n",
            "Train Loss : 0.410663 [ 51200 / 60000 ]\n",
            "Train Loss : 0.392128 [ 57600 / 60000 ]\n",
            "Test Error : \n",
            " Accuracy : 85.2%, Avg Loss : 0.416231\n",
            "\n",
            "훈련 끝!\n"
          ]
        }
      ]
    },
    {
      "cell_type": "markdown",
      "source": [
        "# 훈련된 모델의 가중치를 저장 / 불러오기\n",
        "불러올 곳에서 **모델의 구조를 알고 있는 경우** 가중치만 저장하면 적은 용량으로 저장하고 불러오는 것이 가능합니다."
      ],
      "metadata": {
        "id": "7HojxUFwn1M4"
      }
    },
    {
      "cell_type": "code",
      "source": [
        "# model.state_dict() : 모델 내에 있는 레이어 별 가중치를 들고 있는 딕셔너리\n",
        "torch.save(model.state_dict(), 'model_weights.pth')"
      ],
      "metadata": {
        "id": "hxVy_WdRohL1"
      },
      "execution_count": null,
      "outputs": []
    },
    {
      "cell_type": "code",
      "source": [
        "model.state_dict()"
      ],
      "metadata": {
        "colab": {
          "base_uri": "https://localhost:8080/"
        },
        "id": "or2LZFlppBHn",
        "outputId": "be4ade30-42e1-4215-bde6-51c09601809b"
      },
      "execution_count": null,
      "outputs": [
        {
          "output_type": "execute_result",
          "data": {
            "text/plain": [
              "OrderedDict([('linear_relu_stack.0.weight',\n",
              "              tensor([[ 0.0262, -0.0189,  0.0225,  ..., -0.0284,  0.0393,  0.0326],\n",
              "                      [-0.0095,  0.0039, -0.0591,  ...,  0.0091,  0.0519, -0.0246],\n",
              "                      [-0.0296, -0.0125,  0.0474,  ...,  0.0777,  0.0672,  0.0175],\n",
              "                      ...,\n",
              "                      [ 0.0062, -0.0273,  0.0348,  ...,  0.0011,  0.0257, -0.0310],\n",
              "                      [ 0.0298, -0.0471, -0.0626,  ..., -0.0160,  0.0197, -0.0248],\n",
              "                      [-0.0135, -0.0419, -0.0089,  ...,  0.0316,  0.0686,  0.0367]],\n",
              "                     device='cuda:0')),\n",
              "             ('linear_relu_stack.0.bias',\n",
              "              tensor([-0.0770,  0.1002, -0.0528, -0.1268,  0.0101, -0.0249,  0.2492,  0.0348,\n",
              "                      -0.1589, -0.0118, -0.0146,  0.3299,  0.1381,  0.1135,  0.1075,  0.2467,\n",
              "                       0.0408,  0.1602,  0.0586,  0.0515, -0.0794,  0.0252,  0.3029,  0.0481,\n",
              "                       0.0150,  0.0771, -0.0020,  0.0716, -0.0320,  0.1876,  0.0376, -0.0801,\n",
              "                       0.2149, -0.0637, -0.1150,  0.1910, -0.0447,  0.1036,  0.2075, -0.0277,\n",
              "                       0.1773,  0.0807,  0.0696, -0.0093,  0.1689,  0.1133, -0.0508,  0.0629,\n",
              "                       0.0990,  0.0252,  0.2041, -0.0422,  0.0244,  0.0581,  0.1227,  0.0676,\n",
              "                       0.1768, -0.0879, -0.2044,  0.0740, -0.0215, -0.0224,  0.0549, -0.1455,\n",
              "                      -0.1756, -0.0972,  0.0819,  0.1098,  0.1817, -0.1850,  0.1143, -0.0034,\n",
              "                      -0.1235,  0.2030, -0.0368,  0.1299, -0.0855, -0.1596, -0.1406, -0.0417,\n",
              "                       0.1426, -0.2098, -0.0246,  0.0451, -0.0723,  0.1766,  0.1583, -0.0795,\n",
              "                       0.0361,  0.1052, -0.1543,  0.1242,  0.0502, -0.0161, -0.0532, -0.0494,\n",
              "                      -0.0386,  0.0059,  0.2071,  0.1798, -0.1012,  0.0975, -0.0607,  0.2388,\n",
              "                       0.1114, -0.0732, -0.0477, -0.0235, -0.0716,  0.1444,  0.1093,  0.0274,\n",
              "                      -0.0401,  0.0494,  0.0663, -0.0134,  0.1234,  0.1232, -0.1061,  0.0217,\n",
              "                       0.1095,  0.0608,  0.2117,  0.0879, -0.1492, -0.0123, -0.1296, -0.1372],\n",
              "                     device='cuda:0')),\n",
              "             ('linear_relu_stack.2.weight',\n",
              "              tensor([[-0.1395, -0.0952,  0.0922,  ...,  0.0028, -0.0907, -0.1544],\n",
              "                      [-0.0297, -0.1831,  0.1015,  ..., -0.0193, -0.1897,  0.0737],\n",
              "                      [-0.0182, -0.0334,  0.1005,  ...,  0.0094, -0.1033,  0.0779],\n",
              "                      ...,\n",
              "                      [ 0.0904,  0.0463, -0.1314,  ..., -0.0393, -0.0797,  0.1039],\n",
              "                      [-0.0423,  0.0337, -0.0772,  ...,  0.0781,  0.0142,  0.0059],\n",
              "                      [ 0.1554,  0.0305,  0.1169,  ..., -0.0177,  0.1344,  0.0934]],\n",
              "                     device='cuda:0')),\n",
              "             ('linear_relu_stack.2.bias',\n",
              "              tensor([-0.0099, -0.1549, -0.0137,  0.0238, -0.1936,  0.2270, -0.0030,  0.0255,\n",
              "                      -0.0425, -0.2095], device='cuda:0'))])"
            ]
          },
          "metadata": {},
          "execution_count": 13
        }
      ]
    },
    {
      "cell_type": "code",
      "source": [
        "# 저장된 가중치 파일(pth) 불러오기\n",
        "model2 = NeuralNetwork().cuda() # .to('cuda')\n",
        "print(model2)"
      ],
      "metadata": {
        "colab": {
          "base_uri": "https://localhost:8080/"
        },
        "id": "pBOx8k-0pKai",
        "outputId": "ec19940c-32ef-4fd4-c179-c5646734482f"
      },
      "execution_count": null,
      "outputs": [
        {
          "output_type": "stream",
          "name": "stdout",
          "text": [
            "NeuralNetwork(\n",
            "  (flatten): Flatten(start_dim=1, end_dim=-1)\n",
            "  (linear_relu_stack): Sequential(\n",
            "    (0): Linear(in_features=784, out_features=128, bias=True)\n",
            "    (1): ReLU()\n",
            "    (2): Linear(in_features=128, out_features=10, bias=True)\n",
            "  )\n",
            ")\n"
          ]
        }
      ]
    },
    {
      "cell_type": "code",
      "source": [
        "# 훈련되지 않은 모델로 검증하면 당연히 성능이 좋지 않다.\n",
        "test_loop(test_dataloader, model2, loss_fn)"
      ],
      "metadata": {
        "colab": {
          "base_uri": "https://localhost:8080/"
        },
        "id": "xtFjWyUPpyi3",
        "outputId": "e955811c-2e46-42fe-91da-23d1b056353b"
      },
      "execution_count": null,
      "outputs": [
        {
          "output_type": "stream",
          "name": "stdout",
          "text": [
            "Test Error : \n",
            " Accuracy : 9.2%, Avg Loss : 2.310001\n",
            "\n"
          ]
        }
      ]
    },
    {
      "cell_type": "code",
      "source": [
        "# 이전에 훈련된 가중치를 불러와서 model2에서 로드\n",
        "model2.load_state_dict(torch.load('model_weights.pth'))\n",
        "test_loop(test_dataloader, model2, loss_fn)"
      ],
      "metadata": {
        "colab": {
          "base_uri": "https://localhost:8080/"
        },
        "id": "2h4RwFRjp7mW",
        "outputId": "915c94f0-9162-4e50-d34d-cd6de320f7f2"
      },
      "execution_count": null,
      "outputs": [
        {
          "output_type": "stream",
          "name": "stderr",
          "text": [
            "<ipython-input-16-ae9aae4d2e3d>:2: FutureWarning: You are using `torch.load` with `weights_only=False` (the current default value), which uses the default pickle module implicitly. It is possible to construct malicious pickle data which will execute arbitrary code during unpickling (See https://github.com/pytorch/pytorch/blob/main/SECURITY.md#untrusted-models for more details). In a future release, the default value for `weights_only` will be flipped to `True`. This limits the functions that could be executed during unpickling. Arbitrary objects will no longer be allowed to be loaded via this mode unless they are explicitly allowlisted by the user via `torch.serialization.add_safe_globals`. We recommend you start setting `weights_only=True` for any use case where you don't have full control of the loaded file. Please open an issue on GitHub for any issues related to this experimental feature.\n",
            "  model2.load_state_dict(torch.load('model_weights.pth'))\n"
          ]
        },
        {
          "output_type": "stream",
          "name": "stdout",
          "text": [
            "Test Error : \n",
            " Accuracy : 85.2%, Avg Loss : 0.416231\n",
            "\n"
          ]
        }
      ]
    },
    {
      "cell_type": "markdown",
      "source": [
        "# 훈련된 모델 자체를 저장 / 불러오기\n",
        "모델의 구조를 모르는 경우 사용할 수 있는 대표적인 방법으로서 가중치만 저장한 경우보다 파일의 크기는 크지만 구조를 몰라도 모델을 사용할 수 있다는 장점이 있습니다."
      ],
      "metadata": {
        "id": "j3zNNnTeqOkX"
      }
    },
    {
      "cell_type": "code",
      "source": [
        "torch.save(model, 'model.pth')"
      ],
      "metadata": {
        "id": "asluOcSsqkFW"
      },
      "execution_count": null,
      "outputs": []
    },
    {
      "cell_type": "code",
      "source": [
        "!ls -al | grep pth"
      ],
      "metadata": {
        "colab": {
          "base_uri": "https://localhost:8080/"
        },
        "id": "YeUzcBZ4q6WJ",
        "outputId": "a0a93462-7163-403c-c5c0-5238b07c9cc2"
      },
      "execution_count": null,
      "outputs": [
        {
          "output_type": "stream",
          "name": "stdout",
          "text": [
            "-rw-r--r-- 1 root root 410496 Sep 24 01:35 model.pth\n",
            "-rw-r--r-- 1 root root 409344 Sep 24 01:27 model_weights.pth\n"
          ]
        }
      ]
    },
    {
      "cell_type": "code",
      "source": [
        "model3 = torch.load('model.pth')\n",
        "test_loop(test_dataloader, model3, loss_fn)"
      ],
      "metadata": {
        "colab": {
          "base_uri": "https://localhost:8080/"
        },
        "id": "qiUEQYOvq9hp",
        "outputId": "a867f3e0-ce8f-48a3-b27f-dfcdeeddd52e"
      },
      "execution_count": null,
      "outputs": [
        {
          "output_type": "stream",
          "name": "stderr",
          "text": [
            "<ipython-input-21-557126119e97>:1: FutureWarning: You are using `torch.load` with `weights_only=False` (the current default value), which uses the default pickle module implicitly. It is possible to construct malicious pickle data which will execute arbitrary code during unpickling (See https://github.com/pytorch/pytorch/blob/main/SECURITY.md#untrusted-models for more details). In a future release, the default value for `weights_only` will be flipped to `True`. This limits the functions that could be executed during unpickling. Arbitrary objects will no longer be allowed to be loaded via this mode unless they are explicitly allowlisted by the user via `torch.serialization.add_safe_globals`. We recommend you start setting `weights_only=True` for any use case where you don't have full control of the loaded file. Please open an issue on GitHub for any issues related to this experimental feature.\n",
            "  model3 = torch.load('model.pth')\n"
          ]
        },
        {
          "output_type": "stream",
          "name": "stdout",
          "text": [
            "Test Error : \n",
            " Accuracy : 85.2%, Avg Loss : 0.416231\n",
            "\n"
          ]
        }
      ]
    },
    {
      "cell_type": "code",
      "source": [],
      "metadata": {
        "id": "2-mkaSHnrX-C"
      },
      "execution_count": null,
      "outputs": []
    }
  ]
}