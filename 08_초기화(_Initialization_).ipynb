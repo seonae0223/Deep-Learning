{
  "nbformat": 4,
  "nbformat_minor": 0,
  "metadata": {
    "colab": {
      "provenance": [],
      "toc_visible": true,
      "gpuType": "T4",
      "include_colab_link": true
    },
    "kernelspec": {
      "name": "python3",
      "display_name": "Python 3"
    },
    "language_info": {
      "name": "python"
    },
    "accelerator": "GPU"
  },
  "cells": [
    {
      "cell_type": "markdown",
      "metadata": {
        "id": "view-in-github",
        "colab_type": "text"
      },
      "source": [
        "<a href=\"https://colab.research.google.com/github/seonae0223/Deep_Learning/blob/main/08_%EC%B4%88%EA%B8%B0%ED%99%94(_Initialization_).ipynb\" target=\"_parent\"><img src=\"https://colab.research.google.com/assets/colab-badge.svg\" alt=\"Open In Colab\"/></a>"
      ]
    },
    {
      "cell_type": "markdown",
      "source": [
        "# Random Initialization\n",
        "무작위 값을 이용한 가중치 및 편향 초기화 기법입니다."
      ],
      "metadata": {
        "id": "yWN9F09zwyOW"
      }
    },
    {
      "cell_type": "code",
      "source": [
        "import torch\n",
        "from torch import nn"
      ],
      "metadata": {
        "id": "pcBYhWyxbXb3"
      },
      "execution_count": null,
      "outputs": []
    },
    {
      "cell_type": "markdown",
      "source": [
        "## Xavier Initialization\n",
        "Sigmoid와 Tanh 함수를 활성화 함수로 사용할 경우 유용한 방법입니다."
      ],
      "metadata": {
        "id": "M7NXM-AIbOG8"
      }
    },
    {
      "cell_type": "code",
      "source": [
        "layer = nn.Linear(32, 16)\n",
        "_ = torch.nn.init.xavier_normal_(layer.weight)  # inplace operation"
      ],
      "metadata": {
        "id": "8gCzQ-ypbVhx"
      },
      "execution_count": null,
      "outputs": []
    },
    {
      "cell_type": "markdown",
      "source": [
        "## Kaiming (He) Initialization\n",
        "\n",
        "ReLU 활성화 함수를 사용할 때 적합한 초기화 방법입니다."
      ],
      "metadata": {
        "id": "7p-czt4rcJLe"
      }
    },
    {
      "cell_type": "code",
      "source": [
        "layer = nn.Linear(32, 16)\n",
        "_ = torch.nn.init.kaiming_normal_(layer.weight)  # inplace operation"
      ],
      "metadata": {
        "id": "04AC9ZSkcNWe"
      },
      "execution_count": null,
      "outputs": []
    },
    {
      "cell_type": "markdown",
      "source": [
        "## 기타 Random Initialization"
      ],
      "metadata": {
        "id": "MFBYqzincRcu"
      }
    },
    {
      "cell_type": "code",
      "source": [
        "layer = nn.Linear(32, 16)\n",
        "\n",
        "# 균등 분포로 초기화\n",
        "_ = torch.nn.init.uniform_(layer.weight, a=-1.0, b=1.0)\n",
        "\n",
        "# 정규 분포로 초기화\n",
        "_ = torch.nn.init.normal_(layer.weight)"
      ],
      "metadata": {
        "id": "d5I3xWpicO3V"
      },
      "execution_count": null,
      "outputs": []
    },
    {
      "cell_type": "markdown",
      "source": [
        "# 가중치 초기화 모델 정의\n",
        "Linear 레이어는 Kaiming He 방식의 초기화를 default로 사용합니다. 아래 코드는 Linear 레이어에 대한 파이토치 기본 문서입니다. [Source Code](https://pytorch.org/docs/stable/_modules/torch/nn/modules/linear.html#Linear)\n",
        "```python\n",
        "def reset_parameters(self) -> None:\n",
        "  # Setting a=sqrt(5) in kaiming_uniform is the same as initializing with\n",
        "  # uniform(-1/sqrt(in_features), 1/sqrt(in_features)). For details, see\n",
        "  # https://github.com/pytorch/pytorch/issues/57109\n",
        "  init.kaiming_uniform_(self.weight, a=math.sqrt(5))\n",
        "  if self.bias is not None:\n",
        "    fan_in, _ = init._calculate_fan_in_and_fan_out(self.weight)\n",
        "    bound = 1 / math.sqrt(fan_in) if fan_in > 0 else 0\n",
        "    init.uniform_(self.bias, -bound, bound)\n",
        "```"
      ],
      "metadata": {
        "id": "63UzWXkocWD5"
      }
    },
    {
      "cell_type": "code",
      "source": [
        "import torch\n",
        "from torch import nn\n",
        "\n",
        "\n",
        "class NeuralNetwork(nn.Module):\n",
        "    def __init__(self):\n",
        "        super(NeuralNetwork, self).__init__()\n",
        "        self.fc_layers = nn.Sequential(\n",
        "            nn.Linear(784, 128),\n",
        "            nn.ReLU(),\n",
        "            nn.Linear(128, 64),\n",
        "            nn.ReLU(),\n",
        "            nn.Linear(64, 10),\n",
        "            nn.Sigmoid()\n",
        "        )\n",
        "\n",
        "    def forward(self, x):\n",
        "        x = torch.flatten(x, start_dim=1)\n",
        "        x = self.fc_layers(x)\n",
        "        return x"
      ],
      "metadata": {
        "id": "ohiTxfticc-W"
      },
      "execution_count": null,
      "outputs": []
    },
    {
      "cell_type": "code",
      "source": [
        "model = NeuralNetwork()"
      ],
      "metadata": {
        "id": "yQoYpCLTcumu"
      },
      "execution_count": null,
      "outputs": []
    },
    {
      "cell_type": "code",
      "source": [
        "# Initialize된 모델의 parameter을 살펴봅시다.\n",
        "next(iter(model.parameters()))"
      ],
      "metadata": {
        "colab": {
          "base_uri": "https://localhost:8080/"
        },
        "id": "Fgyqn-GMcwec",
        "outputId": "074f96d8-4264-41e5-97a6-9df043560325"
      },
      "execution_count": null,
      "outputs": [
        {
          "output_type": "execute_result",
          "data": {
            "text/plain": [
              "Parameter containing:\n",
              "tensor([[-0.0349,  0.0168, -0.0027,  ..., -0.0286, -0.0118, -0.0223],\n",
              "        [-0.0079,  0.0309, -0.0286,  ..., -0.0248,  0.0269, -0.0230],\n",
              "        [ 0.0081,  0.0151, -0.0170,  ...,  0.0055, -0.0164, -0.0237],\n",
              "        ...,\n",
              "        [-0.0170, -0.0045, -0.0088,  ..., -0.0005,  0.0341, -0.0298],\n",
              "        [-0.0087, -0.0200,  0.0221,  ...,  0.0178,  0.0162,  0.0109],\n",
              "        [-0.0267, -0.0136, -0.0208,  ...,  0.0185,  0.0293,  0.0162]],\n",
              "       requires_grad=True)"
            ]
          },
          "metadata": {},
          "execution_count": 9
        }
      ]
    },
    {
      "cell_type": "code",
      "source": [
        "import matplotlib.pyplot as plt\n",
        "\n",
        "# 기본 초기화된 파라미터 확인\n",
        "init_params = next(iter(model.parameters())).detach().numpy().reshape(-1)\n",
        "plt.hist(init_params)\n",
        "plt.show()"
      ],
      "metadata": {
        "colab": {
          "base_uri": "https://localhost:8080/",
          "height": 430
        },
        "id": "h5tZIwuJdVrm",
        "outputId": "c12a7a2a-47ae-4933-8d5e-ea159365b032"
      },
      "execution_count": null,
      "outputs": [
        {
          "output_type": "display_data",
          "data": {
            "text/plain": [
              "<Figure size 640x480 with 1 Axes>"
            ],
            "image/png": "[encoded data removed]"
          },
          "metadata": {}
        }
      ]
    },
    {
      "cell_type": "code",
      "source": [
        "# 위 방법처럼도 구현할 수 있으나, 더 간단하게 nn.Sequential로 구현할 수 있습니다.\n",
        "class NeuralNetwork(nn.Module):\n",
        "    def __init__(self):\n",
        "        super(NeuralNetwork, self).__init__()\n",
        "        # Neural Network을 구성하는 layer들을\n",
        "        # initialize하는 부분\n",
        "        self.fc_layers = nn.Sequential(\n",
        "            nn.Linear(784, 128),  # Kaiming\n",
        "            nn.ReLU(),\n",
        "            nn.Linear(128, 64),  # Kaiming\n",
        "            nn.ReLU(),\n",
        "            nn.Linear(64, 10),  # Xavier\n",
        "            nn.Sigmoid(),\n",
        "        )\n",
        "\n",
        "        self._init_weights(self.fc_layers[0], mode='kaiming')\n",
        "        self._init_weights(self.fc_layers[1], mode='kaiming')\n",
        "        self._init_weights(self.fc_layers[2], mode='xavier')\n",
        "\n",
        "    def forward(self, x):\n",
        "        # Neural Network의 forward pass을 정의하는 부분\n",
        "        # x은 input tensor\n",
        "        x = torch.flatten(x, start_dim=1)\n",
        "        x = self.fc_layers(x)\n",
        "        return x\n",
        "\n",
        "    def _init_weights(self, module, mode='xavier'):\n",
        "        if isinstance(module, nn.Linear):\n",
        "            if mode == 'xavier':\n",
        "                torch.nn.init.xavier_normal_(module.weight)\n",
        "            elif mode == 'kaiming':\n",
        "                torch.nn.init.kaiming_normal_(module.weight)\n",
        "\n",
        "            if module.bias is not None:  # Bias에 대한 initialization\n",
        "                module.bias.data.zero_()"
      ],
      "metadata": {
        "id": "sjt6NyhZddn3"
      },
      "execution_count": null,
      "outputs": []
    },
    {
      "cell_type": "code",
      "source": [
        "model = NeuralNetwork()\n",
        "model"
      ],
      "metadata": {
        "colab": {
          "base_uri": "https://localhost:8080/"
        },
        "id": "suJuNWMQd8VK",
        "outputId": "e1574e65-17a3-4843-e775-92b3b562aa3f"
      },
      "execution_count": null,
      "outputs": [
        {
          "output_type": "execute_result",
          "data": {
            "text/plain": [
              "NeuralNetwork(\n",
              "  (fc_layers): Sequential(\n",
              "    (0): Linear(in_features=784, out_features=128, bias=True)\n",
              "    (1): ReLU()\n",
              "    (2): Linear(in_features=128, out_features=64, bias=True)\n",
              "    (3): ReLU()\n",
              "    (4): Linear(in_features=64, out_features=10, bias=True)\n",
              "    (5): Sigmoid()\n",
              "  )\n",
              ")"
            ]
          },
          "metadata": {},
          "execution_count": 21
        }
      ]
    },
    {
      "cell_type": "code",
      "source": [
        "# Xavier 초기화 시각화\n",
        "init_params=next(iter(model.fc_layers[4].parameters())).detach().numpy().flatten()\n",
        "plt.hist(init_params)\n",
        "plt.show()"
      ],
      "metadata": {
        "colab": {
          "base_uri": "https://localhost:8080/",
          "height": 430
        },
        "id": "YuEWEMCod_go",
        "outputId": "2dacba51-9d82-4fa1-97b4-fe846fb6e8b6"
      },
      "execution_count": null,
      "outputs": [
        {
          "output_type": "display_data",
          "data": {
            "text/plain": [
              "<Figure size 640x480 with 1 Axes>"
            ],
            "image/png": "[encoded data removed]"
          },
          "metadata": {}
        }
      ]
    }
  ]
}