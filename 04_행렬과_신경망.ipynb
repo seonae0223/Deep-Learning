{
  "nbformat": 4,
  "nbformat_minor": 0,
  "metadata": {
    "colab": {
      "provenance": [],
      "authorship_tag": "ABX9TyNBVRrHv0ylkectYTnGiqIR",
      "include_colab_link": true
    },
    "kernelspec": {
      "name": "python3",
      "display_name": "Python 3"
    },
    "language_info": {
      "name": "python"
    }
  },
  "cells": [
    {
      "cell_type": "markdown",
      "metadata": {
        "id": "view-in-github",
        "colab_type": "text"
      },
      "source": [
        "<a href=\"https://colab.research.google.com/github/seonae0223/Deep_Learning/blob/main/04_%ED%96%89%EB%A0%AC%EA%B3%BC_%EC%8B%A0%EA%B2%BD%EB%A7%9D.ipynb\" target=\"_parent\"><img src=\"https://colab.research.google.com/assets/colab-badge.svg\" alt=\"Open In Colab\"/></a>"
      ]
    },
    {
      "cell_type": "markdown",
      "source": [
        "# 신경망의 입력값과 가중치\n",
        "* 신경망에 입력되는 값은 여러 개이다.\n",
        "* 입력값에 해당하는 가중치도 여러 개.\n",
        "  * 1층의 첫 번째 뉴런에 대한 선형 조합 계산 : $z^{(1)}_{1} = w^{(1)}_{11}x_1 + w^{(1)}_{12}x_2+b^{(1)}_1$"
      ],
      "metadata": {
        "id": "X6SfZ1ovxvD6"
      }
    },
    {
      "cell_type": "code",
      "execution_count": 1,
      "metadata": {
        "colab": {
          "base_uri": "https://localhost:8080/"
        },
        "id": "M0SphOfVxr7y",
        "outputId": "281ad4d0-00fa-4f9e-a9c5-89d82a2489fd"
      },
      "outputs": [
        {
          "output_type": "stream",
          "name": "stdout",
          "text": [
            "입력값 X의 shape : (2,)\n",
            "가중치 W의 shape : (2, 3)\n"
          ]
        }
      ],
      "source": [
        "import numpy as np\n",
        "\n",
        "X = np.array([1, 2])\n",
        "\n",
        "W = np.array([[1, 2, 3],\n",
        "              [4, 5, 6]]) # 2개의 입력을 받는 3개의 뉴런\n",
        "\n",
        "\n",
        "print(\"입력값 X의 shape : {}\".format(X.shape))\n",
        "print(\"가중치 W의 shape : {}\".format(W.shape))"
      ]
    },
    {
      "cell_type": "code",
      "source": [
        "Z = X @ W\n",
        "print(\"뉴런의 출력값 : {}\".format(Z))"
      ],
      "metadata": {
        "colab": {
          "base_uri": "https://localhost:8080/"
        },
        "id": "wSwcvhPaztaV",
        "outputId": "b0df0711-566e-426a-d4a2-633b263f7a99"
      },
      "execution_count": 3,
      "outputs": [
        {
          "output_type": "stream",
          "name": "stdout",
          "text": [
            "뉴런의 출력값 : [ 9 12 15]\n"
          ]
        }
      ]
    },
    {
      "cell_type": "code",
      "source": [
        "Z = W.T @ X\n",
        "print(\"뉴런의 출력값 : {}\".format(Z))"
      ],
      "metadata": {
        "colab": {
          "base_uri": "https://localhost:8080/"
        },
        "id": "RijwCZZv0jBU",
        "outputId": "afc65cdd-7845-4faa-c7f4-40adf971d4d3"
      },
      "execution_count": 4,
      "outputs": [
        {
          "output_type": "stream",
          "name": "stdout",
          "text": [
            "뉴런의 출력값 : [ 9 12 15]\n"
          ]
        }
      ]
    },
    {
      "cell_type": "markdown",
      "source": [],
      "metadata": {
        "id": "It2VErGB1ED2"
      }
    },
    {
      "cell_type": "code",
      "source": [
        "B = np.array([10, 11, 12])\n",
        "\n",
        "Z = X @ W + B\n",
        "Z"
      ],
      "metadata": {
        "colab": {
          "base_uri": "https://localhost:8080/"
        },
        "id": "rlK-NXzE076c",
        "outputId": "27f1ccbc-3f31-4e22-fb06-924f37c2fbc8"
      },
      "execution_count": 6,
      "outputs": [
        {
          "output_type": "execute_result",
          "data": {
            "text/plain": [
              "array([19, 23, 27])"
            ]
          },
          "metadata": {},
          "execution_count": 6
        }
      ]
    },
    {
      "cell_type": "markdown",
      "source": [
        "# 단순한 3층 신경망 구성하기\n",
        "* 1층을 구성하는 표기\n",
        " * 1층의 1번째 뉴런만 표기 : $z_1^{(1)} = w_{11}^{(1)}x_1 + w_{12}^{(1)}x_2+b_1^{(1)}$\n",
        " * 1층 전체를 나타내기 : $Z^{(1)} = XW^{(1)} + B^{(1)}$\n",
        "   * B의 원소 수는 뉴런의 개수와 같다.\n",
        " * $X = (x_1, x_2)$\n",
        " * $W^{(1)} = \\begin{pmatrix}w_{11}^{(1)} & w_{21}^{(1)} & w_{31}^{(1)} \\\\ w_{12}^{(1)} & w_{22}^{(1)} & w_{32}^{(1)}\n",
        " \\end{pmatrix}$\n",
        " * $B^{(1)} = \\begin{pmatrix}b_1^{(1)}&b_2^{(1)}&b_3^{(1)}\\end{pmatrix}$\n",
        " * $Z^{(1)} = \\begin{pmatrix}z_1^{(1)}&z_2^{(1)}&z_3^{(1)}\\end{pmatrix}$"
      ],
      "metadata": {
        "id": "BbW_VKlH2fQD"
      }
    },
    {
      "cell_type": "code",
      "source": [
        "# 시그모이드 함수 - 은닉층에서 사용할 것.\n",
        "def sigmoid(x):\n",
        "  return 1 / (1 + np.exp(-x))\n",
        "\n",
        "# 항등 함수 구현(identity function) - 출력층에서 사용할 것.\n",
        "def identity_function(x):\n",
        "  return x"
      ],
      "metadata": {
        "id": "RabchB411MAL"
      },
      "execution_count": 7,
      "outputs": []
    },
    {
      "cell_type": "code",
      "source": [
        "X = np.array([1.0, 0.5])\n",
        "W1 = np.array([[0.1, 0.3, 0.5],\n",
        "               [0.2, 0.4, 0.6]])\n",
        "\n",
        "B1 = np.array([0.1, 0.2, 0.3])\n",
        "\n",
        "# 각 뉴런 안에서의 연산\n",
        "Z1 = X @ W1 + B1 # 선형 연산\n",
        "A1 = sigmoid(Z1) # 각 뉴련의 결과물에 비선형성을 부여\n",
        "\n",
        "print(\"Z의 결과 : {}\".format(Z1))\n",
        "print(\"1층의 결과 : {}\".format(A1))"
      ],
      "metadata": {
        "colab": {
          "base_uri": "https://localhost:8080/"
        },
        "id": "zdVTuuQm2q1W",
        "outputId": "0f6de33a-85d9-453a-944d-8e26395b6a7a"
      },
      "execution_count": 10,
      "outputs": [
        {
          "output_type": "stream",
          "name": "stdout",
          "text": [
            "Z의 결과 : [0.3 0.7 1.1]\n",
            "1층의 결과 : [0.57444252 0.66818777 0.75026011]\n"
          ]
        }
      ]
    },
    {
      "cell_type": "code",
      "source": [
        "# 두 번째 층 구현\n",
        "W2 = np.array([[0.1, 0.4],\n",
        "               [0.2, 0.5],\n",
        "               [0.3, 0.6]])\n",
        "\n",
        "B2 = np.array([0.1, 0.2])\n",
        "\n",
        "# 두 번째 층의 입력 값은? 첫 번째 층의 출력 값!\n",
        "Z2 = A1 @ W2 + B2\n",
        "A2 = sigmoid(Z2)\n",
        "\n",
        "print(\"2층의 결과 : {}\".format(A2))"
      ],
      "metadata": {
        "colab": {
          "base_uri": "https://localhost:8080/"
        },
        "id": "bH_u9jgL29Rq",
        "outputId": "5947f11a-572a-438b-ac7c-ffcb78ff4a64"
      },
      "execution_count": 13,
      "outputs": [
        {
          "output_type": "stream",
          "name": "stdout",
          "text": [
            "2층의 결과 : [0.62624937 0.7710107 ]\n"
          ]
        }
      ]
    },
    {
      "cell_type": "code",
      "source": [
        "# 2층 연산에 대한 행렬 shape 확인\n",
        "print(A1.shape, W2.shape, B2.shape)\n",
        "print(Z2.shape, A2.shape)"
      ],
      "metadata": {
        "colab": {
          "base_uri": "https://localhost:8080/"
        },
        "id": "RdhydhKt7JLU",
        "outputId": "bb8dcf2d-8e6d-482e-8ee2-de0b005c3593"
      },
      "execution_count": 14,
      "outputs": [
        {
          "output_type": "stream",
          "name": "stdout",
          "text": [
            "(3,) (3, 2) (2,)\n",
            "(2,) (2,)\n"
          ]
        }
      ]
    },
    {
      "cell_type": "code",
      "source": [
        "# 3층 출력층 구현 (활성화 함수를 항등함수로 사용)\n",
        "W3 = np.array([[0.1, 0.3],\n",
        "               [0.2, 0.4]])\n",
        "\n",
        "B3 = np.array([0.1, 0.2])\n",
        "\n",
        "Z3 = A2 @ W3 + B3\n",
        "y_pred = identity_function(Z3)\n",
        "\n",
        "print(\"출력층의 결과 : {}\".format(y_pred))"
      ],
      "metadata": {
        "colab": {
          "base_uri": "https://localhost:8080/"
        },
        "id": "EzZntW0Q76pM",
        "outputId": "83460bb2-e44b-49f2-9021-8d8570a31eb8"
      },
      "execution_count": 15,
      "outputs": [
        {
          "output_type": "stream",
          "name": "stdout",
          "text": [
            "출력층의 결과 : [0.31682708 0.69627909]\n"
          ]
        }
      ]
    },
    {
      "cell_type": "markdown",
      "source": [
        "딥러닝 네트워크 구조화"
      ],
      "metadata": {
        "id": "rE_abG-7-Ogv"
      }
    },
    {
      "cell_type": "code",
      "source": [
        "# 네트워크 초기화\n",
        "#  네트워크가 최초로 가지고 있어야 할 가중와 편향을 설정\n",
        "#  보통은 정규분포 랜덤으로 초기화 하거나, 카이밍 허, 사비에르 초깃값 등을 활용\n",
        "def init_network():\n",
        "  network = {}\n",
        "\n",
        "  # 1층 매개변수 초기화\n",
        "  network[\"W1\"] = np.array([[0.1, 0.3, 0.5],\n",
        "                            [0.2, 0.4, 0.6]])\n",
        "  network[\"B1\"] = np.array([0.1, 0.2, 0.3])\n",
        "\n",
        "  # 2층 매개변수 초기화\n",
        "  network[\"W2\"] = np.array([[0.1, 0.4],\n",
        "                            [0.2, 0.5],\n",
        "                            [0.3, 0.6]])\n",
        "  network[\"B2\"] = np.array([0.1, 0.2])\n",
        "\n",
        "  # 3층 매개변수 초기화\n",
        "  network[\"W3\"] = np.array([[0.1, 0.3],\n",
        "                            [0.2, 0.4]])\n",
        "  network[\"B3\"] = np.array([0.1, 0.2])\n",
        "\n",
        "  return network\n",
        "\n",
        "# 순전파 XW+B\n",
        "def forward(network, x):\n",
        "  # 가중치, 편향 꺼내기\n",
        "  W1, W2, W3 = network[\"W1\"], network[\"W2\"], network[\"W3\"]\n",
        "  b1, b2, b3 = network[\"B1\"], network[\"B2\"], network[\"B3\"]\n",
        "\n",
        "  # 1층 계산\n",
        "  Z1 = (x @ W1) + b1\n",
        "  A1 = sigmoid(Z1)\n",
        "\n",
        "  # 2층 계산\n",
        "  Z2 = A1 @ W2 + b2\n",
        "  A2 = sigmoid(Z2)\n",
        "\n",
        "  # 3층 계산\n",
        "  Z3 = A2 @ W3 + b3\n",
        "  y = identity_function(Z3)\n",
        "\n",
        "  return y"
      ],
      "metadata": {
        "id": "R5EA5VCL8yGj"
      },
      "execution_count": 17,
      "outputs": []
    },
    {
      "cell_type": "code",
      "source": [
        "model = init_network()\n",
        "\n",
        "x = np.array([1.0, 0.5])\n",
        "\n",
        "# 파이토치 같은 경우 forward 함수가 네트워크 안에 존재.\n",
        "y = forward(model, x)\n",
        "print(y)"
      ],
      "metadata": {
        "colab": {
          "base_uri": "https://localhost:8080/"
        },
        "id": "ajrysW21-NNs",
        "outputId": "4843a91c-0aec-4915-dc86-0b82cf59631f"
      },
      "execution_count": 18,
      "outputs": [
        {
          "output_type": "stream",
          "name": "stdout",
          "text": [
            "[0.31682708 0.69627909]\n"
          ]
        }
      ]
    },
    {
      "cell_type": "code",
      "source": [],
      "metadata": {
        "id": "B1M1NT30_HdJ"
      },
      "execution_count": null,
      "outputs": []
    }
  ]
}