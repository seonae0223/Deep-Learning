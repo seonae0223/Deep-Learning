{
  "nbformat": 4,
  "nbformat_minor": 0,
  "metadata": {
    "colab": {
      "provenance": [],
      "authorship_tag": "ABX9TyOdFaam1xqkmNAbEGKtvu1S",
      "include_colab_link": true
    },
    "kernelspec": {
      "name": "python3",
      "display_name": "Python 3"
    },
    "language_info": {
      "name": "python"
    }
  },
  "cells": [
    {
      "cell_type": "markdown",
      "metadata": {
        "id": "view-in-github",
        "colab_type": "text"
      },
      "source": [
        "<a href=\"https://colab.research.google.com/github/seonae0223/Deep_Learning/blob/main/02_PyTorch_Dataset%2C_DataLoader.ipynb\" target=\"_parent\"><img src=\"https://colab.research.google.com/assets/colab-badge.svg\" alt=\"Open In Colab\"/></a>"
      ]
    },
    {
      "cell_type": "markdown",
      "source": [
        "# Dataset, DataLoader\n",
        "데이터를 처리하여 model에 공급(fit)하기 위하여 파이토치에서 torch.utils.data.Dataset과 torch.utils.data.DataLoader 클래스를 지원합니다.\n",
        "\n",
        "- Dataset : feature와 label을 저장할 수 있습니다.\n",
        "- DataLoader : Dataset을 모델에 공급할 수 있도록하는 클래스 입니다."
      ],
      "metadata": {
        "id": "uOIPap1LDWES"
      }
    },
    {
      "cell_type": "code",
      "execution_count": 1,
      "metadata": {
        "id": "PXn0zl_oDAtf"
      },
      "outputs": [],
      "source": [
        "import torch\n",
        "# torchvision : 파이토치 기반의 CV 도구들이 들어있는 패키지\n",
        "# torchvision.dataset : Computer Vision 관련 예제 데이터 세트\n",
        "from torchvision import datasets\n",
        "from torchvision.transforms import ToTensor\n"
      ]
    },
    {
      "cell_type": "code",
      "source": [
        "train_data = datasets.FashionMNIST(\n",
        "    root = \"data\", # 데이터(이미지)를 저장할 디렉토리\n",
        "    train = True, # 훈련용 데이터 여부\n",
        "    download = True, # 다운로드\n",
        "    transform = ToTensor() # 이미지 반환. 여기서는 ndarray 형식의 이미지를 pytorch tensor로 변환\n",
        ")"
      ],
      "metadata": {
        "colab": {
          "base_uri": "https://localhost:8080/"
        },
        "id": "T_V14NSnEKx-",
        "outputId": "44172e8a-6307-48e6-fd1a-993d94b45423"
      },
      "execution_count": 2,
      "outputs": [
        {
          "output_type": "stream",
          "name": "stdout",
          "text": [
            "Downloading http://fashion-mnist.s3-website.eu-central-1.amazonaws.com/train-images-idx3-ubyte.gz\n",
            "Downloading http://fashion-mnist.s3-website.eu-central-1.amazonaws.com/train-images-idx3-ubyte.gz to data/FashionMNIST/raw/train-images-idx3-ubyte.gz\n"
          ]
        },
        {
          "output_type": "stream",
          "name": "stderr",
          "text": [
            "100%|██████████| 26421880/26421880 [00:00<00:00, 109131710.69it/s]\n"
          ]
        },
        {
          "output_type": "stream",
          "name": "stdout",
          "text": [
            "Extracting data/FashionMNIST/raw/train-images-idx3-ubyte.gz to data/FashionMNIST/raw\n",
            "\n",
            "Downloading http://fashion-mnist.s3-website.eu-central-1.amazonaws.com/train-labels-idx1-ubyte.gz\n",
            "Downloading http://fashion-mnist.s3-website.eu-central-1.amazonaws.com/train-labels-idx1-ubyte.gz to data/FashionMNIST/raw/train-labels-idx1-ubyte.gz\n"
          ]
        },
        {
          "output_type": "stream",
          "name": "stderr",
          "text": [
            "100%|██████████| 29515/29515 [00:00<00:00, 6864907.81it/s]\n"
          ]
        },
        {
          "output_type": "stream",
          "name": "stdout",
          "text": [
            "Extracting data/FashionMNIST/raw/train-labels-idx1-ubyte.gz to data/FashionMNIST/raw\n",
            "\n",
            "Downloading http://fashion-mnist.s3-website.eu-central-1.amazonaws.com/t10k-images-idx3-ubyte.gz\n",
            "Downloading http://fashion-mnist.s3-website.eu-central-1.amazonaws.com/t10k-images-idx3-ubyte.gz to data/FashionMNIST/raw/t10k-images-idx3-ubyte.gz\n"
          ]
        },
        {
          "output_type": "stream",
          "name": "stderr",
          "text": [
            "100%|██████████| 4422102/4422102 [00:00<00:00, 60323806.40it/s]\n"
          ]
        },
        {
          "output_type": "stream",
          "name": "stdout",
          "text": [
            "Extracting data/FashionMNIST/raw/t10k-images-idx3-ubyte.gz to data/FashionMNIST/raw\n",
            "\n",
            "Downloading http://fashion-mnist.s3-website.eu-central-1.amazonaws.com/t10k-labels-idx1-ubyte.gz\n",
            "Downloading http://fashion-mnist.s3-website.eu-central-1.amazonaws.com/t10k-labels-idx1-ubyte.gz to data/FashionMNIST/raw/t10k-labels-idx1-ubyte.gz\n"
          ]
        },
        {
          "output_type": "stream",
          "name": "stderr",
          "text": [
            "100%|██████████| 5148/5148 [00:00<00:00, 16855797.81it/s]\n"
          ]
        },
        {
          "output_type": "stream",
          "name": "stdout",
          "text": [
            "Extracting data/FashionMNIST/raw/t10k-labels-idx1-ubyte.gz to data/FashionMNIST/raw\n",
            "\n"
          ]
        }
      ]
    },
    {
      "cell_type": "markdown",
      "source": [
        "# Dataset 시각화"
      ],
      "metadata": {
        "id": "xcQyZm7VFRd0"
      }
    },
    {
      "cell_type": "code",
      "source": [
        "import matplotlib.pyplot as plt\n",
        "\n",
        "labels_map = {\n",
        "    0 : \"T-shirt/top\",\n",
        "    1 : \"Trouser\",\n",
        "    2 : \"Pullover\",\n",
        "    3 : \"Dress\",\n",
        "    4 : \"Coat\",\n",
        "    5 : \"Sandal\",\n",
        "    6 : \"Shirt\",\n",
        "    7 : \"Sneaker\",\n",
        "    8 : \"Bag\",\n",
        "    9 : \"Ankle boot\"\n",
        "}\n",
        "\n",
        "figure = plt.figure(figsize=(8, 8))\n",
        "cols, rows = 3, 3\n",
        "\n",
        "# 1부터 9까지 총 9개의 이미지 출력\n",
        "for i in range(1, cols * rows + 1):\n",
        "  sample_idx = torch.randint(len(train_data), size=(1,)).item() # 인덱스이므로 size(1,)로 설정. item()이 없으면, tensor로 출력\n",
        "\n",
        "\n",
        "  # Dataset에서 데이터를 뽑을 예정. 이 때 Dataset의 구조는 feature. target이 같이 들어있다.\n",
        "  feature, target = train_data[sample_idx]\n",
        "  figure.add_subplot(rows, cols, i)\n",
        "\n",
        "  plt.title(target)\n",
        "  plt.imshow(feature.squeeze(), cmap='gray')\n",
        "\n",
        "plt.show()"
      ],
      "metadata": {
        "colab": {
          "base_uri": "https://localhost:8080/",
          "height": 699
        },
        "id": "uHWZcMc4E7hG",
        "outputId": "9409dbb3-a44f-4bf8-dbf7-33c83d870950"
      },
      "execution_count": 5,
      "outputs": [
        {
          "output_type": "display_data",
          "data": {
            "text/plain": [
              "<Figure size 800x800 with 9 Axes>"
            ],
            "image/png": "[encoded data removed]"
          },
          "metadata": {}
        }
      ]
    },
    {
      "cell_type": "markdown",
      "source": [
        "# DataLoader 만들기"
      ],
      "metadata": {
        "id": "ez4zrZBJH4I2"
      }
    },
    {
      "cell_type": "code",
      "source": [
        "BATCH_SIZE = 64"
      ],
      "metadata": {
        "id": "XUNP3Q30FZes"
      },
      "execution_count": 25,
      "outputs": []
    },
    {
      "cell_type": "code",
      "source": [
        "from torch.utils.data import DataLoader\n",
        "\n",
        "# shuffle : 1에폭 당 데이터 로더에서 데이터를 읽어 올 때 마다 랜덤하게 섞게 된다.\n",
        "# shuffle을 걸어주면 모델이 데이터를 조금 더 어렵게 학습한다.\n",
        "train_dataloader = dataloader.DataLoader(train_data, batch_size=BATCH_SIZE, shuffle=True) # 데이터를 train_data에서 가져오고, BATCH_SIZE로 배치 사이즈 설정."
      ],
      "metadata": {
        "id": "RaImk-AaIzD8"
      },
      "execution_count": 26,
      "outputs": []
    },
    {
      "cell_type": "code",
      "source": [
        "# 테스트 데이터 불러오기\n",
        "test_data = datasets.FashionMNIST(\n",
        "    root = \"data\",\n",
        "    train = False,\n",
        "    download = True,\n",
        "    transform = ToTensor()\n",
        ")\n",
        "\n",
        "# 테스트 데이터 세트는 굳이 섞을 필요가 없다. 어차피 전ㄴ체 데이터에 대한 성능(loss, accuracy)를 확인만 하기 때문\n",
        "test_dataloader = DataLoader(test_data, batch_size = BATCH_SIZE, shuffle=True)"
      ],
      "metadata": {
        "id": "d_TyXIMHJ5WK"
      },
      "execution_count": 27,
      "outputs": []
    },
    {
      "cell_type": "markdown",
      "source": [
        "## DataLoader 시각화\n",
        "- DataLoader 객체는 파이썬의 Generator 자료구조에 해당하며, Iterator를 직접 움직여 가면서 데이터를 Iterate 할 수 있습니다.\n",
        "- 이 때 설정한 BATCH_SIZE 만큼 데이터를 추출해 냅니다."
      ],
      "metadata": {
        "id": "DtxrUlsNKxVu"
      }
    },
    {
      "cell_type": "code",
      "source": [
        "# dataloader의 Iterator가 한 칸 움직일 때 마다(next) BATCH_SIZE만큼 데이터를 가져온다.\n",
        "train_features, train_labels = next(iter(train_dataloader)) # dataloader를 iterator로 변환 후, 한 칸 옆으로(next) 가면, 0 데이터부터 출력\n",
        "print(train_features.size())\n",
        "print(train_labels.size())"
      ],
      "metadata": {
        "colab": {
          "base_uri": "https://localhost:8080/"
        },
        "id": "fOy-NVC4J9u8",
        "outputId": "a25ae3f9-6584-40e6-8582-66789edecb80"
      },
      "execution_count": 34,
      "outputs": [
        {
          "output_type": "stream",
          "name": "stdout",
          "text": [
            "torch.Size([64, 1, 28, 28])\n",
            "torch.Size([64])\n"
          ]
        }
      ]
    },
    {
      "cell_type": "code",
      "source": [
        "feature = train_features[0].squeeze()\n",
        "label = train_labels[0].item()\n",
        "\n",
        "plt.imshow(feature, cmap='gray')\n",
        "plt.title(labels_map[label])\n",
        "plt.show()"
      ],
      "metadata": {
        "colab": {
          "base_uri": "https://localhost:8080/",
          "height": 452
        },
        "id": "jasCOnxINVKH",
        "outputId": "bb79f312-5bae-4b22-e637-5366b840e379"
      },
      "execution_count": 35,
      "outputs": [
        {
          "output_type": "display_data",
          "data": {
            "text/plain": [
              "<Figure size 640x480 with 1 Axes>"
            ],
            "image/png": "[encoded data removed]"
          },
          "metadata": {}
        }
      ]
    },
    {
      "cell_type": "markdown",
      "source": [
        "# ⭐CustomDataset\n",
        "`torch.utils.data.Dataset` 클래스를 상속받으면 개발자가 직접 파이토치 Dataset을 구성할 수 있습니다. 필수로 오버라이딩 해야하는 메소드는 다음과 같습니다.\n",
        "- `__init__` : 생성자 입니다. Dataset 에 담을 데이터, 전처리가 필요하다면 `transform` 객체를 같이 받습니다.\n",
        "- `__len__` : Dataset에 있는 데이터의 개수\n",
        "- `__getitem__` : 몇 번째 데이터를 가져올지를 정의하는 함수입니다. 만약 `transform`이 있다면 변환 처리까지 해주게 됩니다."
      ],
      "metadata": {
        "id": "yVpy_YBhSOnX"
      }
    },
    {
      "cell_type": "code",
      "source": [
        "class CustomDataset(torch.utils.data.Dataset):\n",
        "\n",
        "  def __init__(self, features, transform=None):\n",
        "    self.features = features\n",
        "    self.transform = transform\n",
        "    self.len = features.shape[0] # 항상 shape의 첫 번째에는 데이터의 전체 개수가 들어있다.\n",
        "\n",
        "  def __len__(self):\n",
        "    # __len__ 메소드는 len() 함수를 호출 했을 때 자동으로 실행되는 매직 메소드\n",
        "    #print(\"__len__ called\")\n",
        "    return self.len\n",
        "\n",
        "  def __getitem__(self, idx):\n",
        "    # __getitem__ 메소드는  [ ] 기호를 이용해서 아이템을 뽑아낼 때 호출되는 매직 메소드(연산자 오버로딩)\n",
        "\n",
        "    #print(\"__getitem__ called\")\n",
        "    feature = self.features[idx]\n",
        "\n",
        "    if self.transform:\n",
        "      feature = self.transform(feature)\n",
        "\n",
        "    return feature"
      ],
      "metadata": {
        "id": "NFhon0hUQ06p"
      },
      "execution_count": 70,
      "outputs": []
    },
    {
      "cell_type": "code",
      "source": [
        "# 사용자 정의 데이터 변환기(transform) 만들기\n",
        "def square(data):\n",
        "  # 데이터를 제곱하는 데이터 변환기\n",
        "  return data ** 2"
      ],
      "metadata": {
        "id": "aoPAnNc1TSyg"
      },
      "execution_count": 71,
      "outputs": []
    },
    {
      "cell_type": "code",
      "source": [
        "# 개발자가 직접 만든 함수를 파이토치의 변환기로 등록\n",
        "import torchvision.transforms as tr\n",
        "transform = tr.Compose([square])\n",
        "transform"
      ],
      "metadata": {
        "colab": {
          "base_uri": "https://localhost:8080/"
        },
        "id": "7wC7WyLeVaIM",
        "outputId": "298d302f-376a-4587-9c27-8d3caac124eb"
      },
      "execution_count": 72,
      "outputs": [
        {
          "output_type": "execute_result",
          "data": {
            "text/plain": [
              "Compose(\n",
              "    <function square at 0x7985df6c6b90>\n",
              ")"
            ]
          },
          "metadata": {},
          "execution_count": 72
        }
      ]
    },
    {
      "cell_type": "code",
      "source": [
        "import numpy as np\n",
        "\n",
        "sample_data = np.arange(10)\n",
        "custom_ds = CustomDataset(sample_data, transform=transform)"
      ],
      "metadata": {
        "id": "KnImxl7-VjhM"
      },
      "execution_count": 73,
      "outputs": []
    },
    {
      "cell_type": "code",
      "source": [
        "len(custom_ds)"
      ],
      "metadata": {
        "colab": {
          "base_uri": "https://localhost:8080/"
        },
        "id": "IZOPBLnYV3z7",
        "outputId": "de24fd01-fd64-46cd-c2d2-5bb028193d6e"
      },
      "execution_count": 74,
      "outputs": [
        {
          "output_type": "execute_result",
          "data": {
            "text/plain": [
              "10"
            ]
          },
          "metadata": {},
          "execution_count": 74
        }
      ]
    },
    {
      "cell_type": "code",
      "source": [
        "custom_ds[4]"
      ],
      "metadata": {
        "colab": {
          "base_uri": "https://localhost:8080/"
        },
        "id": "SjGLWYXTV9OV",
        "outputId": "3f239bc5-6836-4dc9-d85d-15d36583f364"
      },
      "execution_count": 75,
      "outputs": [
        {
          "output_type": "execute_result",
          "data": {
            "text/plain": [
              "16"
            ]
          },
          "metadata": {},
          "execution_count": 75
        }
      ]
    },
    {
      "cell_type": "code",
      "source": [
        "custom_dl = DataLoader(custom_ds, batch_size=2, shuffle=True)"
      ],
      "metadata": {
        "id": "YYza5ZmWWNd5"
      },
      "execution_count": 76,
      "outputs": []
    },
    {
      "cell_type": "code",
      "source": [
        "for _ in range(5):\n",
        "  for data in custom_dl:\n",
        "    # data loader에서 데이터를 뽑으면 dataset에 적용된 transform이 실행되서 뽑힌다.\n",
        "    print(data)\n",
        "\n",
        "  print('='*20)"
      ],
      "metadata": {
        "colab": {
          "base_uri": "https://localhost:8080/"
        },
        "id": "EFThQTXGWhxq",
        "outputId": "da421a9b-7377-4c8a-a6bc-e05267f20a3e"
      },
      "execution_count": 77,
      "outputs": [
        {
          "output_type": "stream",
          "name": "stdout",
          "text": [
            "tensor([16, 25])\n",
            "tensor([49, 64])\n",
            "tensor([0, 9])\n",
            "tensor([81, 36])\n",
            "tensor([4, 1])\n",
            "====================\n",
            "tensor([64, 49])\n",
            "tensor([ 0, 36])\n",
            "tensor([ 4, 25])\n",
            "tensor([1, 9])\n",
            "tensor([16, 81])\n",
            "====================\n",
            "tensor([16, 49])\n",
            "tensor([25,  1])\n",
            "tensor([81, 64])\n",
            "tensor([0, 9])\n",
            "tensor([ 4, 36])\n",
            "====================\n",
            "tensor([ 1, 49])\n",
            "tensor([16,  9])\n",
            "tensor([ 4, 81])\n",
            "tensor([36, 64])\n",
            "tensor([ 0, 25])\n",
            "====================\n",
            "tensor([25,  0])\n",
            "tensor([64,  1])\n",
            "tensor([49, 81])\n",
            "tensor([ 9, 36])\n",
            "tensor([16,  4])\n",
            "====================\n"
          ]
        }
      ]
    },
    {
      "cell_type": "code",
      "source": [],
      "metadata": {
        "id": "RE6khlW1W75n"
      },
      "execution_count": null,
      "outputs": []
    }
  ]
}